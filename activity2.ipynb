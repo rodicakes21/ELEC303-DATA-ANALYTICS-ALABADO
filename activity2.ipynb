{
 "cells": [
  {
   "cell_type": "markdown",
   "id": "1c594b3a-6336-4ef6-8b2c-e03556ce5c90",
   "metadata": {},
   "source": [
    "<h1>Alabado, Roderick L.</h1>\n",
    "<h2>BSIT-3A</h2>"
   ]
  },
  {
   "cell_type": "code",
   "execution_count": 1,
   "id": "26783ec2-9d55-4c5a-a617-dcb9813e5c11",
   "metadata": {},
   "outputs": [],
   "source": [
    "import pandas as pd\n",
    "import numpy  as np\n",
    "import matplotlib.pyplot as plt \n",
    "import warnings\n",
    "warnings.filterwarnings('ignore')\n",
    "import folium\n",
    "from folium.plugins import HeatMap\n",
    "import seaborn as sns\n",
    "from IPython.display import HTML\n",
    "\n",
    "\n"
   ]
  },
  {
   "cell_type": "code",
   "execution_count": 2,
   "id": "bc193f57-ba0f-421d-91ec-3ebbbbeb434f",
   "metadata": {},
   "outputs": [],
   "source": [
    "road = pd.read_csv('datasets2\\\\uk_road_accident.csv')"
   ]
  },
  {
   "cell_type": "code",
   "execution_count": 3,
   "id": "f7d6be66-7298-4829-80d5-fe817d5034fe",
   "metadata": {},
   "outputs": [
    {
     "data": {
      "text/html": [
       "<div>\n",
       "<style scoped>\n",
       "    .dataframe tbody tr th:only-of-type {\n",
       "        vertical-align: middle;\n",
       "    }\n",
       "\n",
       "    .dataframe tbody tr th {\n",
       "        vertical-align: top;\n",
       "    }\n",
       "\n",
       "    .dataframe thead th {\n",
       "        text-align: right;\n",
       "    }\n",
       "</style>\n",
       "<table border=\"1\" class=\"dataframe\">\n",
       "  <thead>\n",
       "    <tr style=\"text-align: right;\">\n",
       "      <th></th>\n",
       "      <th>Index</th>\n",
       "      <th>Accident_Severity</th>\n",
       "      <th>Accident Date</th>\n",
       "      <th>Latitude</th>\n",
       "      <th>Light_Conditions</th>\n",
       "      <th>District Area</th>\n",
       "      <th>Longitude</th>\n",
       "      <th>Number_of_Casualties</th>\n",
       "      <th>Number_of_Vehicles</th>\n",
       "      <th>Road_Surface_Conditions</th>\n",
       "      <th>Road_Type</th>\n",
       "      <th>Urban_or_Rural_Area</th>\n",
       "      <th>Weather_Conditions</th>\n",
       "      <th>Vehicle_Type</th>\n",
       "    </tr>\n",
       "  </thead>\n",
       "  <tbody>\n",
       "    <tr>\n",
       "      <th>0</th>\n",
       "      <td>200701BS64157</td>\n",
       "      <td>Serious</td>\n",
       "      <td>5/6/2019</td>\n",
       "      <td>51.506187</td>\n",
       "      <td>Darkness - lights lit</td>\n",
       "      <td>Kensington and Chelsea</td>\n",
       "      <td>-0.209082</td>\n",
       "      <td>1</td>\n",
       "      <td>2</td>\n",
       "      <td>Dry</td>\n",
       "      <td>Single carriageway</td>\n",
       "      <td>Urban</td>\n",
       "      <td>Fine no high winds</td>\n",
       "      <td>Car</td>\n",
       "    </tr>\n",
       "    <tr>\n",
       "      <th>1</th>\n",
       "      <td>200701BS65737</td>\n",
       "      <td>Serious</td>\n",
       "      <td>2/7/2019</td>\n",
       "      <td>51.495029</td>\n",
       "      <td>Daylight</td>\n",
       "      <td>Kensington and Chelsea</td>\n",
       "      <td>-0.173647</td>\n",
       "      <td>1</td>\n",
       "      <td>2</td>\n",
       "      <td>Wet or damp</td>\n",
       "      <td>Single carriageway</td>\n",
       "      <td>Urban</td>\n",
       "      <td>Raining no high winds</td>\n",
       "      <td>Car</td>\n",
       "    </tr>\n",
       "    <tr>\n",
       "      <th>2</th>\n",
       "      <td>200701BS66127</td>\n",
       "      <td>Serious</td>\n",
       "      <td>26-08-2019</td>\n",
       "      <td>51.517715</td>\n",
       "      <td>Darkness - lighting unknown</td>\n",
       "      <td>Kensington and Chelsea</td>\n",
       "      <td>-0.210215</td>\n",
       "      <td>1</td>\n",
       "      <td>3</td>\n",
       "      <td>Dry</td>\n",
       "      <td>NaN</td>\n",
       "      <td>Urban</td>\n",
       "      <td>NaN</td>\n",
       "      <td>Taxi/Private hire car</td>\n",
       "    </tr>\n",
       "    <tr>\n",
       "      <th>3</th>\n",
       "      <td>200701BS66128</td>\n",
       "      <td>Serious</td>\n",
       "      <td>16-08-2019</td>\n",
       "      <td>51.495478</td>\n",
       "      <td>Daylight</td>\n",
       "      <td>Kensington and Chelsea</td>\n",
       "      <td>-0.202731</td>\n",
       "      <td>1</td>\n",
       "      <td>4</td>\n",
       "      <td>Dry</td>\n",
       "      <td>Single carriageway</td>\n",
       "      <td>Urban</td>\n",
       "      <td>Fine no high winds</td>\n",
       "      <td>Bus or coach (17 or more pass seats)</td>\n",
       "    </tr>\n",
       "    <tr>\n",
       "      <th>4</th>\n",
       "      <td>200701BS66837</td>\n",
       "      <td>Slight</td>\n",
       "      <td>3/9/2019</td>\n",
       "      <td>51.488576</td>\n",
       "      <td>Darkness - lights lit</td>\n",
       "      <td>Kensington and Chelsea</td>\n",
       "      <td>-0.192487</td>\n",
       "      <td>1</td>\n",
       "      <td>2</td>\n",
       "      <td>Dry</td>\n",
       "      <td>NaN</td>\n",
       "      <td>Urban</td>\n",
       "      <td>NaN</td>\n",
       "      <td>Other vehicle</td>\n",
       "    </tr>\n",
       "    <tr>\n",
       "      <th>...</th>\n",
       "      <td>...</td>\n",
       "      <td>...</td>\n",
       "      <td>...</td>\n",
       "      <td>...</td>\n",
       "      <td>...</td>\n",
       "      <td>...</td>\n",
       "      <td>...</td>\n",
       "      <td>...</td>\n",
       "      <td>...</td>\n",
       "      <td>...</td>\n",
       "      <td>...</td>\n",
       "      <td>...</td>\n",
       "      <td>...</td>\n",
       "      <td>...</td>\n",
       "    </tr>\n",
       "    <tr>\n",
       "      <th>660674</th>\n",
       "      <td>201091NM01760</td>\n",
       "      <td>Slight</td>\n",
       "      <td>18-02-2022</td>\n",
       "      <td>57.374005</td>\n",
       "      <td>Daylight</td>\n",
       "      <td>Highland</td>\n",
       "      <td>-3.467828</td>\n",
       "      <td>2</td>\n",
       "      <td>1</td>\n",
       "      <td>Dry</td>\n",
       "      <td>Single carriageway</td>\n",
       "      <td>Rural</td>\n",
       "      <td>Fine no high winds</td>\n",
       "      <td>Car</td>\n",
       "    </tr>\n",
       "    <tr>\n",
       "      <th>660675</th>\n",
       "      <td>201091NM01881</td>\n",
       "      <td>Slight</td>\n",
       "      <td>21-02-2022</td>\n",
       "      <td>57.232273</td>\n",
       "      <td>Darkness - no lighting</td>\n",
       "      <td>Highland</td>\n",
       "      <td>-3.809281</td>\n",
       "      <td>1</td>\n",
       "      <td>1</td>\n",
       "      <td>Frost or ice</td>\n",
       "      <td>Single carriageway</td>\n",
       "      <td>Rural</td>\n",
       "      <td>Fine no high winds</td>\n",
       "      <td>Car</td>\n",
       "    </tr>\n",
       "    <tr>\n",
       "      <th>660676</th>\n",
       "      <td>201091NM01935</td>\n",
       "      <td>Slight</td>\n",
       "      <td>23-02-2022</td>\n",
       "      <td>57.585044</td>\n",
       "      <td>Daylight</td>\n",
       "      <td>Highland</td>\n",
       "      <td>-3.862727</td>\n",
       "      <td>1</td>\n",
       "      <td>3</td>\n",
       "      <td>Frost or ice</td>\n",
       "      <td>Single carriageway</td>\n",
       "      <td>Rural</td>\n",
       "      <td>Fine no high winds</td>\n",
       "      <td>Car</td>\n",
       "    </tr>\n",
       "    <tr>\n",
       "      <th>660677</th>\n",
       "      <td>201091NM01964</td>\n",
       "      <td>Serious</td>\n",
       "      <td>23-02-2022</td>\n",
       "      <td>57.214898</td>\n",
       "      <td>Darkness - no lighting</td>\n",
       "      <td>Highland</td>\n",
       "      <td>-3.823997</td>\n",
       "      <td>1</td>\n",
       "      <td>2</td>\n",
       "      <td>Wet or damp</td>\n",
       "      <td>Single carriageway</td>\n",
       "      <td>Rural</td>\n",
       "      <td>Fine no high winds</td>\n",
       "      <td>Motorcycle over 500cc</td>\n",
       "    </tr>\n",
       "    <tr>\n",
       "      <th>660678</th>\n",
       "      <td>201091NM02142</td>\n",
       "      <td>Serious</td>\n",
       "      <td>28-02-2022</td>\n",
       "      <td>57.575210</td>\n",
       "      <td>Daylight</td>\n",
       "      <td>Highland</td>\n",
       "      <td>-3.895673</td>\n",
       "      <td>1</td>\n",
       "      <td>1</td>\n",
       "      <td>Wet or damp</td>\n",
       "      <td>Dual carriageway</td>\n",
       "      <td>Rural</td>\n",
       "      <td>Snowing no high winds</td>\n",
       "      <td>Car</td>\n",
       "    </tr>\n",
       "  </tbody>\n",
       "</table>\n",
       "<p>660679 rows × 14 columns</p>\n",
       "</div>"
      ],
      "text/plain": [
       "                Index Accident_Severity Accident Date   Latitude  \\\n",
       "0       200701BS64157           Serious      5/6/2019  51.506187   \n",
       "1       200701BS65737           Serious      2/7/2019  51.495029   \n",
       "2       200701BS66127           Serious    26-08-2019  51.517715   \n",
       "3       200701BS66128           Serious    16-08-2019  51.495478   \n",
       "4       200701BS66837            Slight      3/9/2019  51.488576   \n",
       "...               ...               ...           ...        ...   \n",
       "660674  201091NM01760            Slight    18-02-2022  57.374005   \n",
       "660675  201091NM01881            Slight    21-02-2022  57.232273   \n",
       "660676  201091NM01935            Slight    23-02-2022  57.585044   \n",
       "660677  201091NM01964           Serious    23-02-2022  57.214898   \n",
       "660678  201091NM02142           Serious    28-02-2022  57.575210   \n",
       "\n",
       "                   Light_Conditions           District Area  Longitude  \\\n",
       "0             Darkness - lights lit  Kensington and Chelsea  -0.209082   \n",
       "1                          Daylight  Kensington and Chelsea  -0.173647   \n",
       "2       Darkness - lighting unknown  Kensington and Chelsea  -0.210215   \n",
       "3                          Daylight  Kensington and Chelsea  -0.202731   \n",
       "4             Darkness - lights lit  Kensington and Chelsea  -0.192487   \n",
       "...                             ...                     ...        ...   \n",
       "660674                     Daylight                Highland  -3.467828   \n",
       "660675       Darkness - no lighting                Highland  -3.809281   \n",
       "660676                     Daylight                Highland  -3.862727   \n",
       "660677       Darkness - no lighting                Highland  -3.823997   \n",
       "660678                     Daylight                Highland  -3.895673   \n",
       "\n",
       "        Number_of_Casualties  Number_of_Vehicles Road_Surface_Conditions  \\\n",
       "0                          1                   2                     Dry   \n",
       "1                          1                   2             Wet or damp   \n",
       "2                          1                   3                     Dry   \n",
       "3                          1                   4                     Dry   \n",
       "4                          1                   2                     Dry   \n",
       "...                      ...                 ...                     ...   \n",
       "660674                     2                   1                     Dry   \n",
       "660675                     1                   1            Frost or ice   \n",
       "660676                     1                   3            Frost or ice   \n",
       "660677                     1                   2             Wet or damp   \n",
       "660678                     1                   1             Wet or damp   \n",
       "\n",
       "                 Road_Type Urban_or_Rural_Area     Weather_Conditions  \\\n",
       "0       Single carriageway               Urban     Fine no high winds   \n",
       "1       Single carriageway               Urban  Raining no high winds   \n",
       "2                      NaN               Urban                    NaN   \n",
       "3       Single carriageway               Urban     Fine no high winds   \n",
       "4                      NaN               Urban                    NaN   \n",
       "...                    ...                 ...                    ...   \n",
       "660674  Single carriageway               Rural     Fine no high winds   \n",
       "660675  Single carriageway               Rural     Fine no high winds   \n",
       "660676  Single carriageway               Rural     Fine no high winds   \n",
       "660677  Single carriageway               Rural     Fine no high winds   \n",
       "660678    Dual carriageway               Rural  Snowing no high winds   \n",
       "\n",
       "                                Vehicle_Type  \n",
       "0                                        Car  \n",
       "1                                        Car  \n",
       "2                      Taxi/Private hire car  \n",
       "3       Bus or coach (17 or more pass seats)  \n",
       "4                              Other vehicle  \n",
       "...                                      ...  \n",
       "660674                                   Car  \n",
       "660675                                   Car  \n",
       "660676                                   Car  \n",
       "660677                 Motorcycle over 500cc  \n",
       "660678                                   Car  \n",
       "\n",
       "[660679 rows x 14 columns]"
      ]
     },
     "execution_count": 3,
     "metadata": {},
     "output_type": "execute_result"
    }
   ],
   "source": [
    "road\n"
   ]
  },
  {
   "cell_type": "code",
   "execution_count": 4,
   "id": "d4659d87-c377-41b7-ba09-39fba7cfcb1e",
   "metadata": {},
   "outputs": [
    {
     "name": "stdout",
     "output_type": "stream",
     "text": [
      "<class 'pandas.core.frame.DataFrame'>\n",
      "RangeIndex: 660679 entries, 0 to 660678\n",
      "Data columns (total 14 columns):\n",
      " #   Column                   Non-Null Count   Dtype  \n",
      "---  ------                   --------------   -----  \n",
      " 0   Index                    660679 non-null  object \n",
      " 1   Accident_Severity        660679 non-null  object \n",
      " 2   Accident Date            660679 non-null  object \n",
      " 3   Latitude                 660654 non-null  float64\n",
      " 4   Light_Conditions         660679 non-null  object \n",
      " 5   District Area            660679 non-null  object \n",
      " 6   Longitude                660653 non-null  float64\n",
      " 7   Number_of_Casualties     660679 non-null  int64  \n",
      " 8   Number_of_Vehicles       660679 non-null  int64  \n",
      " 9   Road_Surface_Conditions  659953 non-null  object \n",
      " 10  Road_Type                656159 non-null  object \n",
      " 11  Urban_or_Rural_Area      660664 non-null  object \n",
      " 12  Weather_Conditions       646551 non-null  object \n",
      " 13  Vehicle_Type             660679 non-null  object \n",
      "dtypes: float64(2), int64(2), object(10)\n",
      "memory usage: 70.6+ MB\n"
     ]
    }
   ],
   "source": [
    "road.info()"
   ]
  },
  {
   "cell_type": "code",
   "execution_count": 5,
   "id": "bea1e354-0695-4a3e-8112-01f077d5d50f",
   "metadata": {},
   "outputs": [
    {
     "data": {
      "text/plain": [
       "Index                          0\n",
       "Accident_Severity              0\n",
       "Accident Date                  0\n",
       "Latitude                      25\n",
       "Light_Conditions               0\n",
       "District Area                  0\n",
       "Longitude                     26\n",
       "Number_of_Casualties           0\n",
       "Number_of_Vehicles             0\n",
       "Road_Surface_Conditions      726\n",
       "Road_Type                   4520\n",
       "Urban_or_Rural_Area           15\n",
       "Weather_Conditions         14128\n",
       "Vehicle_Type                   0\n",
       "dtype: int64"
      ]
     },
     "execution_count": 5,
     "metadata": {},
     "output_type": "execute_result"
    }
   ],
   "source": [
    "road.isnull().sum()"
   ]
  },
  {
   "cell_type": "markdown",
   "id": "7961f8fa-51df-46a0-aaae-8362d908bebb",
   "metadata": {},
   "source": [
    "<h2>Clean the dataset</h2>"
   ]
  },
  {
   "cell_type": "code",
   "execution_count": 6,
   "id": "22917ef7-949e-4284-b949-59d5b5ec5735",
   "metadata": {},
   "outputs": [],
   "source": [
    "road['Latitude'] = road['Latitude'].fillna(road['Latitude'].mean())\n",
    "road['Longitude'] = road['Longitude'].fillna(road['Longitude'].mean())\n",
    "road['Road_Surface_Conditions'] = road['Road_Surface_Conditions'].fillna(road['Road_Surface_Conditions'].mode()[0])\n",
    "road['Road_Type'] = road['Road_Type'].fillna(road['Road_Type'].mode()[0])\n",
    "road['Urban_or_Rural_Area'] = road['Urban_or_Rural_Area'].fillna(road['Urban_or_Rural_Area'].mode()[0])\n",
    "road['Weather_Conditions'] = road['Weather_Conditions'].fillna(road['Weather_Conditions'].mode()[0])"
   ]
  },
  {
   "cell_type": "code",
   "execution_count": 7,
   "id": "afb1967d-bd19-45b9-8409-41e5cfeaf628",
   "metadata": {
    "scrolled": true
   },
   "outputs": [
    {
     "data": {
      "text/plain": [
       "Index                      0\n",
       "Accident_Severity          0\n",
       "Accident Date              0\n",
       "Latitude                   0\n",
       "Light_Conditions           0\n",
       "District Area              0\n",
       "Longitude                  0\n",
       "Number_of_Casualties       0\n",
       "Number_of_Vehicles         0\n",
       "Road_Surface_Conditions    0\n",
       "Road_Type                  0\n",
       "Urban_or_Rural_Area        0\n",
       "Weather_Conditions         0\n",
       "Vehicle_Type               0\n",
       "dtype: int64"
      ]
     },
     "execution_count": 7,
     "metadata": {},
     "output_type": "execute_result"
    }
   ],
   "source": [
    "road.isnull().sum()\n"
   ]
  },
  {
   "cell_type": "markdown",
   "id": "5adb333a-5b0f-4fe8-bca8-2037b67dc8fe",
   "metadata": {},
   "source": [
    "<h2>1. What area has the most casualties per accident?</h2>"
   ]
  },
  {
   "cell_type": "code",
   "execution_count": 8,
   "id": "1980e023-e9c7-456a-badd-d45fc41110b9",
   "metadata": {},
   "outputs": [
    {
     "data": {
      "text/plain": [
       "Urban_or_Rural_Area\n",
       "Urban          421678\n",
       "Rural          238990\n",
       "Unallocated        11\n",
       "Name: count, dtype: int64"
      ]
     },
     "execution_count": 8,
     "metadata": {},
     "output_type": "execute_result"
    }
   ],
   "source": [
    "road['Urban_or_Rural_Area'].value_counts()"
   ]
  },
  {
   "cell_type": "markdown",
   "id": "3d045c15-ab72-401b-a0e7-58aa0b62d34d",
   "metadata": {},
   "source": [
    "<H2>Insight#1: Most casualties are reported in urban areas compared to rural places.</H2>"
   ]
  },
  {
   "cell_type": "markdown",
   "id": "4b72e797-bc22-4ff8-ad1e-303aeb4a7429",
   "metadata": {},
   "source": [
    "<h2>2. What is the Correlation between casualties and longitude.</h2>"
   ]
  },
  {
   "cell_type": "code",
   "execution_count": 9,
   "id": "2240d16b-d863-49f1-8068-bc9cb14b454f",
   "metadata": {},
   "outputs": [
    {
     "data": {
      "text/plain": [
       "np.float64(-0.040405645788454514)"
      ]
     },
     "execution_count": 9,
     "metadata": {},
     "output_type": "execute_result"
    }
   ],
   "source": [
    "road['Number_of_Casualties'].corr(road['Longitude'])"
   ]
  },
  {
   "cell_type": "markdown",
   "id": "eef44ec6-063c-45a4-9dfa-ecd6318f8667",
   "metadata": {},
   "source": [
    "<h2>Insight#2: There is almost no relationship between casualties and longitude. This means that whether the accident happens farther east or west doesn’t significantly affect the number of casualties.</h2>"
   ]
  },
  {
   "cell_type": "markdown",
   "id": "630e0d02-e04e-485f-bebc-22b27703eab1",
   "metadata": {},
   "source": [
    "<h2>3. Which type of weather occurs most often? </h2>"
   ]
  },
  {
   "cell_type": "code",
   "execution_count": 10,
   "id": "d1eb0296-e0e9-4b57-9130-70619ec4fdba",
   "metadata": {},
   "outputs": [
    {
     "data": {
      "text/plain": [
       "Weather_Conditions\n",
       "Fine no high winds       535013\n",
       "Raining no high winds     79696\n",
       "Other                     17150\n",
       "Raining + high winds       9615\n",
       "Fine + high winds          8554\n",
       "Snowing no high winds      6238\n",
       "Fog or mist                3528\n",
       "Snowing + high winds        885\n",
       "Name: count, dtype: int64"
      ]
     },
     "execution_count": 10,
     "metadata": {},
     "output_type": "execute_result"
    }
   ],
   "source": [
    "road['Weather_Conditions'].value_counts()"
   ]
  },
  {
   "cell_type": "markdown",
   "id": "2ffedd00-d086-4446-a20a-b82e12a2f409",
   "metadata": {},
   "source": [
    "<h2>Insight#3: The highest number of accidents occurs under weather conditions of \"fine no high winds\"</h2>"
   ]
  },
  {
   "cell_type": "markdown",
   "id": "ba510d75-1a72-4eb4-8752-a535963dbd6b",
   "metadata": {},
   "source": [
    "<h2>4. Which light condition is most often linked to accidents?</h2>"
   ]
  },
  {
   "cell_type": "code",
   "execution_count": 11,
   "id": "8beaabf0-7760-4b48-8199-73a2b92a4a79",
   "metadata": {},
   "outputs": [
    {
     "data": {
      "text/plain": [
       "Light_Conditions\n",
       "Daylight                       484880\n",
       "Darkness - lights lit          129335\n",
       "Darkness - no lighting          37437\n",
       "Darkness - lighting unknown      6484\n",
       "Darkness - lights unlit          2543\n",
       "Name: count, dtype: int64"
      ]
     },
     "execution_count": 11,
     "metadata": {},
     "output_type": "execute_result"
    }
   ],
   "source": [
    "road['Light_Conditions'].value_counts() \n"
   ]
  },
  {
   "cell_type": "markdown",
   "id": "1a9df9fb-400b-428a-bb1c-e0c1553d46e6",
   "metadata": {},
   "source": [
    "<h2>Insight#4: The light condition that is often linked to accidents happen in \"daylight\".</h2>"
   ]
  },
  {
   "cell_type": "markdown",
   "id": "98dfc722-1664-4e62-abbd-21c6c33e4114",
   "metadata": {},
   "source": [
    "<h2>5. Which vehicle type is most involved in accidents?</h2>"
   ]
  },
  {
   "cell_type": "code",
   "execution_count": 12,
   "id": "8319c5b3-a7bf-4b1c-ba81-91c29e7d4570",
   "metadata": {},
   "outputs": [
    {
     "data": {
      "text/plain": [
       "Vehicle_Type\n",
       "Car                                     6577\n",
       "Van / Goods 3.5 tonnes mgw or under      467\n",
       "Motorcycle over 500cc                    339\n",
       "Bus or coach (17 or more pass seats)     325\n",
       "Goods 7.5 tonnes mgw and over            216\n",
       "Name: count, dtype: int64"
      ]
     },
     "execution_count": 12,
     "metadata": {},
     "output_type": "execute_result"
    }
   ],
   "source": [
    "road[road['Accident_Severity'] == 'Fatal']['Vehicle_Type'].value_counts().head(5)\n"
   ]
  },
  {
   "cell_type": "markdown",
   "id": "bceec023-2486-4f41-944a-d32cdd0d286d",
   "metadata": {},
   "source": [
    "<h2>Insight#5: Car was the most frequently involved in accidents.</h2>"
   ]
  },
  {
   "cell_type": "markdown",
   "id": "afaef59d-800c-4002-9cd7-dc9d63fac287",
   "metadata": {},
   "source": [
    "<h2>6. Which district has the highest average casualties per accident?</h2>"
   ]
  },
  {
   "cell_type": "code",
   "execution_count": 13,
   "id": "5e9fafb8-99b5-4dc9-a304-d540830be966",
   "metadata": {},
   "outputs": [
    {
     "data": {
      "text/plain": [
       "District Area\n",
       "Blaeu Gwent          1.693694\n",
       "West Somerset        1.613990\n",
       "Derwentside          1.606186\n",
       "Chester-le-Street    1.603306\n",
       "Durham               1.580431\n",
       "Blaenau Gwent        1.579310\n",
       "Fylde                1.569350\n",
       "Hambleton            1.568523\n",
       "Merthyr Tydfil       1.568182\n",
       "West Lancashire      1.566341\n",
       "Name: Number_of_Casualties, dtype: float64"
      ]
     },
     "execution_count": 13,
     "metadata": {},
     "output_type": "execute_result"
    }
   ],
   "source": [
    "road.groupby('District Area')['Number_of_Casualties'].mean().sort_values(ascending=False).head(10)"
   ]
  },
  {
   "cell_type": "markdown",
   "id": "396d854e-bbb4-474b-a39a-471ad5672dad",
   "metadata": {},
   "source": [
    "<h2>Insight#6: The records that have the highest average casualties per accident of District area is Blaeu Gwent at 1.69, indicating that casualties in this district usually affect more people than in other districts.</h2>"
   ]
  },
  {
   "cell_type": "markdown",
   "id": "91f99da6-e9be-4a5b-ab7e-55d7e6065d73",
   "metadata": {},
   "source": [
    "<h2>7-9. Which accident severity has the highest average casualties?</h2>"
   ]
  },
  {
   "cell_type": "code",
   "execution_count": 14,
   "id": "5099957c-1d7d-45b1-8ee7-32bdface9075",
   "metadata": {},
   "outputs": [
    {
     "data": {
      "text/plain": [
       "Accident_Severity\n",
       "Fatal      1.903129\n",
       "Serious    1.467280\n",
       "Slight     1.331402\n",
       "Name: Number_of_Casualties, dtype: float64"
      ]
     },
     "execution_count": 14,
     "metadata": {},
     "output_type": "execute_result"
    }
   ],
   "source": [
    "road.groupby('Accident_Severity')['Number_of_Casualties'].mean()"
   ]
  },
  {
   "cell_type": "markdown",
   "id": "dd0513e2-2b6d-43e5-be67-c4b37dcd578e",
   "metadata": {},
   "source": [
    "<h2>Insight#7 </h2>\n",
    "    \n",
    "<h2>Fatal accidents have the highest average casualties.\n",
    "\n",
    "With an average of 1.90 casualties per accident, fatal accidents tend to involve more people compared to other severities.</h2>"
   ]
  },
  {
   "cell_type": "markdown",
   "id": "c8143ccf-c411-434a-bf2b-59d3ad878987",
   "metadata": {},
   "source": [
    "<h2>Insight#8</h2>\n",
    "<h3>\n",
    "\n",
    "Serious accidents average about 1.47 casualties, showing they typically affect more than one person, but still less than fatal cases.</h3>"
   ]
  },
  {
   "cell_type": "markdown",
   "id": "4128f553-7dbd-43eb-b93d-635f4434c1e0",
   "metadata": {},
   "source": [
    "<h2>Insight#9</h2>\n",
    "<h3>Slight accidents involve the fewest casualties.\n",
    "\n",
    "With an average of 1.33 casualties, slight accidents usually affect only one person, reflecting their lower severity and impact compared to serious or fatal crashes.</h3>"
   ]
  },
  {
   "cell_type": "markdown",
   "id": "9644e3e4-1055-44df-b7c6-d4c25d3e0236",
   "metadata": {},
   "source": [
    "<h2>10-12. What is the number of Accident Severity on Single carriageway?</h2>"
   ]
  },
  {
   "cell_type": "code",
   "execution_count": 15,
   "id": "1aad0ef3-178c-48c1-9e20-2c9a7941e48a",
   "metadata": {},
   "outputs": [
    {
     "data": {
      "text/plain": [
       "Accident_Severity\n",
       "Slight     419563\n",
       "Serious     70540\n",
       "Fatal        6560\n",
       "Name: count, dtype: int64"
      ]
     },
     "execution_count": 15,
     "metadata": {},
     "output_type": "execute_result"
    }
   ],
   "source": [
    "single_carriageway_accidents = road[road['Road_Type'] == 'Single carriageway']\n",
    "single_carriageway_accidents['Accident_Severity'].value_counts()"
   ]
  },
  {
   "cell_type": "markdown",
   "id": "a332aac7-648c-4a1e-b294-ec5622be54a5",
   "metadata": {},
   "source": [
    "<h2>Insight#10</h2>\n",
    "<h3>Slight accidents are dominant.\n",
    "\n",
    "Out of all recorded cases, 419,563 are slight accidents, which makes them the most frequent by a large margin.</h3>"
   ]
  },
  {
   "cell_type": "markdown",
   "id": "1427660c-558f-4abd-b28d-fea42f5aa4cf",
   "metadata": {},
   "source": [
    "<h2>Insight#11</h2>\n",
    "<h3>Serious accidents are much fewer.\n",
    "\n",
    "70,540 serious accidents were recorded, showing that while still significant, they occur far less often than slight ones.</h3>"
   ]
  },
  {
   "cell_type": "markdown",
   "id": "d3938df7-1c07-43c3-b671-cf52c81f7427",
   "metadata": {},
   "source": [
    "<h2>Insight#12</h2>\n",
    "<h3>Fatal accidents are rare.\n",
    "\n",
    "With only 6,560 fatal cases, they make up the smallest share of all accidents on single carriageways, showing that while these roads are prone to frequent accidents, fatalities remain comparatively rare.</h3>"
   ]
  },
  {
   "cell_type": "markdown",
   "id": "1a50f920-e6c0-43b3-a859-7a763c22d5df",
   "metadata": {},
   "source": [
    "<h2>13. Correlation between casualties and vehicles</h2>"
   ]
  },
  {
   "cell_type": "code",
   "execution_count": 16,
   "id": "4b59532d-8699-4aa0-8b30-5eaa78784a95",
   "metadata": {},
   "outputs": [],
   "source": [
    "corr_casualties_vehicle = road['Number_of_Casualties'].corr(road['Number_of_Vehicles'])\n",
    "\n"
   ]
  },
  {
   "cell_type": "code",
   "execution_count": 17,
   "id": "d790d895-fbb9-489a-a2b4-caa7f24eac5f",
   "metadata": {},
   "outputs": [
    {
     "data": {
      "text/plain": [
       "np.float64(0.22888886126927627)"
      ]
     },
     "execution_count": 17,
     "metadata": {},
     "output_type": "execute_result"
    }
   ],
   "source": [
    "corr_casualties_vehicle"
   ]
  },
  {
   "cell_type": "markdown",
   "id": "3a74e101-3c82-4d11-830b-8a557a00bf5a",
   "metadata": {},
   "source": [
    "<h2>Insight#13</h2>\n",
    "\n",
    "<h3>The correlation between number of casualties and number of vehicles involved is about 0.23, meaning that as the number of vehicles in an accident increases, the number of casualties also tends to rise.</h3>"
   ]
  },
  {
   "cell_type": "markdown",
   "id": "b79fcd37-cbdd-4ef1-b6f9-889c76022ac4",
   "metadata": {},
   "source": [
    "<h2>14-15. What road type is the most and less involved accident?</h2>"
   ]
  },
  {
   "cell_type": "code",
   "execution_count": 18,
   "id": "1a2c41a3-aa30-4bfc-b16b-abe875b296c5",
   "metadata": {},
   "outputs": [
    {
     "data": {
      "text/plain": [
       "Road_Type\n",
       "Single carriageway    496663\n",
       "Dual carriageway       99424\n",
       "Roundabout             43992\n",
       "One way street         13559\n",
       "Slip road               7041\n",
       "Name: count, dtype: int64"
      ]
     },
     "execution_count": 18,
     "metadata": {},
     "output_type": "execute_result"
    }
   ],
   "source": [
    "road['Road_Type'].value_counts()"
   ]
  },
  {
   "cell_type": "markdown",
   "id": "39ba5b3f-9453-4abd-8c0a-7835cf30534a",
   "metadata": {},
   "source": [
    "<h2>Insight#14</h2>\n",
    "<h3>Single carriageways has most accidents.\n",
    "\n",
    "With 496,663 cases, single carriageways account for the majority of accidents, far exceeding other road types. This suggests they may be more dangerous due to factors like narrower lanes, opposing traffic, or lack of separation barriers.</h3>"
   ]
  },
  {
   "cell_type": "markdown",
   "id": "051c1edf-4bb6-4868-b78a-5fb8dbdaa2f1",
   "metadata": {},
   "source": [
    "<h2>Insight#15</h2>\n",
    "<h3>Slip roads show fewer accidents.\n",
    "\n",
    "Slip roads (7,041) have significantly fewer accidents, possibly due to slower speeds and controlled traffic flow.</h3>"
   ]
  },
  {
   "cell_type": "code",
   "execution_count": 19,
   "id": "f04311dc-d5dc-4771-a7e3-73f77d1ff7b8",
   "metadata": {},
   "outputs": [],
   "source": [
    "# road['Accident Date'] = pd.to_datetime(road['Accident Date'],dayfirst=True, errors='coerce')"
   ]
  },
  {
   "cell_type": "code",
   "execution_count": 20,
   "id": "28e77148-d750-43b2-a22d-d69e99dc3a67",
   "metadata": {},
   "outputs": [
    {
     "ename": "AttributeError",
     "evalue": "Can only use .dt accessor with datetimelike values",
     "output_type": "error",
     "traceback": [
      "\u001b[1;31m---------------------------------------------------------------------------\u001b[0m",
      "\u001b[1;31mAttributeError\u001b[0m                            Traceback (most recent call last)",
      "Cell \u001b[1;32mIn[20], line 3\u001b[0m\n\u001b[0;32m      1\u001b[0m \u001b[38;5;66;03m#Create Column for Month,Day, Year\u001b[39;00m\n\u001b[1;32m----> 3\u001b[0m road[\u001b[38;5;124m'\u001b[39m\u001b[38;5;124mYear\u001b[39m\u001b[38;5;124m'\u001b[39m] \u001b[38;5;241m=\u001b[39m \u001b[43mroad\u001b[49m\u001b[43m[\u001b[49m\u001b[38;5;124;43m'\u001b[39;49m\u001b[38;5;124;43mAccident Date\u001b[39;49m\u001b[38;5;124;43m'\u001b[39;49m\u001b[43m]\u001b[49m\u001b[38;5;241;43m.\u001b[39;49m\u001b[43mdt\u001b[49m\u001b[38;5;241m.\u001b[39myear\n\u001b[0;32m      4\u001b[0m road[\u001b[38;5;124m'\u001b[39m\u001b[38;5;124mDay\u001b[39m\u001b[38;5;124m'\u001b[39m] \u001b[38;5;241m=\u001b[39m road[\u001b[38;5;124m'\u001b[39m\u001b[38;5;124mAccident Date\u001b[39m\u001b[38;5;124m'\u001b[39m]\u001b[38;5;241m.\u001b[39mdt\u001b[38;5;241m.\u001b[39mday\n\u001b[0;32m      5\u001b[0m road[\u001b[38;5;124m'\u001b[39m\u001b[38;5;124mDay_Name\u001b[39m\u001b[38;5;124m'\u001b[39m] \u001b[38;5;241m=\u001b[39m road[\u001b[38;5;124m'\u001b[39m\u001b[38;5;124mAccident Date\u001b[39m\u001b[38;5;124m'\u001b[39m]\u001b[38;5;241m.\u001b[39mdt\u001b[38;5;241m.\u001b[39mday_name()\n",
      "File \u001b[1;32m~\\AppData\\Local\\Programs\\Python\\Python313\\Lib\\site-packages\\pandas\\core\\generic.py:6318\u001b[0m, in \u001b[0;36mNDFrame.__getattr__\u001b[1;34m(self, name)\u001b[0m\n\u001b[0;32m   6311\u001b[0m \u001b[38;5;28;01mif\u001b[39;00m (\n\u001b[0;32m   6312\u001b[0m     name \u001b[38;5;129;01mnot\u001b[39;00m \u001b[38;5;129;01min\u001b[39;00m \u001b[38;5;28mself\u001b[39m\u001b[38;5;241m.\u001b[39m_internal_names_set\n\u001b[0;32m   6313\u001b[0m     \u001b[38;5;129;01mand\u001b[39;00m name \u001b[38;5;129;01mnot\u001b[39;00m \u001b[38;5;129;01min\u001b[39;00m \u001b[38;5;28mself\u001b[39m\u001b[38;5;241m.\u001b[39m_metadata\n\u001b[0;32m   6314\u001b[0m     \u001b[38;5;129;01mand\u001b[39;00m name \u001b[38;5;129;01mnot\u001b[39;00m \u001b[38;5;129;01min\u001b[39;00m \u001b[38;5;28mself\u001b[39m\u001b[38;5;241m.\u001b[39m_accessors\n\u001b[0;32m   6315\u001b[0m     \u001b[38;5;129;01mand\u001b[39;00m \u001b[38;5;28mself\u001b[39m\u001b[38;5;241m.\u001b[39m_info_axis\u001b[38;5;241m.\u001b[39m_can_hold_identifiers_and_holds_name(name)\n\u001b[0;32m   6316\u001b[0m ):\n\u001b[0;32m   6317\u001b[0m     \u001b[38;5;28;01mreturn\u001b[39;00m \u001b[38;5;28mself\u001b[39m[name]\n\u001b[1;32m-> 6318\u001b[0m \u001b[38;5;28;01mreturn\u001b[39;00m \u001b[38;5;28;43mobject\u001b[39;49m\u001b[38;5;241;43m.\u001b[39;49m\u001b[38;5;21;43m__getattribute__\u001b[39;49m\u001b[43m(\u001b[49m\u001b[38;5;28;43mself\u001b[39;49m\u001b[43m,\u001b[49m\u001b[43m \u001b[49m\u001b[43mname\u001b[49m\u001b[43m)\u001b[49m\n",
      "File \u001b[1;32m~\\AppData\\Local\\Programs\\Python\\Python313\\Lib\\site-packages\\pandas\\core\\accessor.py:224\u001b[0m, in \u001b[0;36mCachedAccessor.__get__\u001b[1;34m(self, obj, cls)\u001b[0m\n\u001b[0;32m    221\u001b[0m \u001b[38;5;28;01mif\u001b[39;00m obj \u001b[38;5;129;01mis\u001b[39;00m \u001b[38;5;28;01mNone\u001b[39;00m:\n\u001b[0;32m    222\u001b[0m     \u001b[38;5;66;03m# we're accessing the attribute of the class, i.e., Dataset.geo\u001b[39;00m\n\u001b[0;32m    223\u001b[0m     \u001b[38;5;28;01mreturn\u001b[39;00m \u001b[38;5;28mself\u001b[39m\u001b[38;5;241m.\u001b[39m_accessor\n\u001b[1;32m--> 224\u001b[0m accessor_obj \u001b[38;5;241m=\u001b[39m \u001b[38;5;28;43mself\u001b[39;49m\u001b[38;5;241;43m.\u001b[39;49m\u001b[43m_accessor\u001b[49m\u001b[43m(\u001b[49m\u001b[43mobj\u001b[49m\u001b[43m)\u001b[49m\n\u001b[0;32m    225\u001b[0m \u001b[38;5;66;03m# Replace the property with the accessor object. Inspired by:\u001b[39;00m\n\u001b[0;32m    226\u001b[0m \u001b[38;5;66;03m# https://www.pydanny.com/cached-property.html\u001b[39;00m\n\u001b[0;32m    227\u001b[0m \u001b[38;5;66;03m# We need to use object.__setattr__ because we overwrite __setattr__ on\u001b[39;00m\n\u001b[0;32m    228\u001b[0m \u001b[38;5;66;03m# NDFrame\u001b[39;00m\n\u001b[0;32m    229\u001b[0m \u001b[38;5;28mobject\u001b[39m\u001b[38;5;241m.\u001b[39m\u001b[38;5;21m__setattr__\u001b[39m(obj, \u001b[38;5;28mself\u001b[39m\u001b[38;5;241m.\u001b[39m_name, accessor_obj)\n",
      "File \u001b[1;32m~\\AppData\\Local\\Programs\\Python\\Python313\\Lib\\site-packages\\pandas\\core\\indexes\\accessors.py:643\u001b[0m, in \u001b[0;36mCombinedDatetimelikeProperties.__new__\u001b[1;34m(cls, data)\u001b[0m\n\u001b[0;32m    640\u001b[0m \u001b[38;5;28;01melif\u001b[39;00m \u001b[38;5;28misinstance\u001b[39m(data\u001b[38;5;241m.\u001b[39mdtype, PeriodDtype):\n\u001b[0;32m    641\u001b[0m     \u001b[38;5;28;01mreturn\u001b[39;00m PeriodProperties(data, orig)\n\u001b[1;32m--> 643\u001b[0m \u001b[38;5;28;01mraise\u001b[39;00m \u001b[38;5;167;01mAttributeError\u001b[39;00m(\u001b[38;5;124m\"\u001b[39m\u001b[38;5;124mCan only use .dt accessor with datetimelike values\u001b[39m\u001b[38;5;124m\"\u001b[39m)\n",
      "\u001b[1;31mAttributeError\u001b[0m: Can only use .dt accessor with datetimelike values"
     ]
    }
   ],
   "source": [
    "#Create Column for Month,Day, Year\n",
    "\n",
    "road['Year'] = road['Accident Date'].dt.year\n",
    "road['Day'] = road['Accident Date'].dt.day\n",
    "road['Day_Name'] = road['Accident Date'].dt.day_name()\n",
    "road['Day_of_Week'] = road['Accident Date'].dt.dayofweek\n",
    "road['Month'] = road['Accident Date'].dt.month\n"
   ]
  },
  {
   "cell_type": "code",
   "execution_count": null,
   "id": "81c47708-5615-4999-92a9-c240f83bf7ba",
   "metadata": {},
   "outputs": [],
   "source": [
    "road[\"Accident Date\"] =  road[\"Accident Date\"].fillna(road[\"Accident Date\"] .mode()[0])\n",
    "road['Month'] =  road['Month'].fillna(road['Month'] .mode()[0])\n",
    "road['Year'] =  road['Year'].fillna(road['Year'] .mode()[0])\n",
    "road['Day'] =  road['Day'].fillna(road['Day'] .mode()[0])\n",
    "road['Day_Name'] =  road['Day'].fillna(road['Day_Name'] .mode()[0])\n",
    "road['Day_of_Week'] =  road['Day_of_Week'].fillna(road['Day_of_Week'] .mode()[0])\n",
    "road['Month'] = road['Month'].astype('category') "
   ]
  },
  {
   "cell_type": "code",
   "execution_count": null,
   "id": "e68544b5-273f-4e18-ab82-6a6959d53cdf",
   "metadata": {},
   "outputs": [],
   "source": [
    "# #CREATING NEW COLUMN FOR YEAR,MONTH,DAY,DAYOFWEEK\n",
    "# road['Accident Date'] = (\n",
    "#     road['Accident Date']\n",
    "#     .astype(str)               \n",
    "#     .str.replace('/', '-', regex=False) \n",
    "#     .str.strip()                   \n",
    "# )\n",
    "# road['Accident Date'].replace('nan', pd.NA, inplace=True)\n",
    "\n",
    "# road['Accident Date'] = pd.to_datetime(\n",
    "#     road['Accident Date'], \n",
    "#     dayfirst=True, \n",
    "#     errors='coerce'\n",
    "# )\n",
    "# road['Year'] = road['Accident Date'].dt.year\n",
    "# road['Month'] =  road['Accident Date'].dt.month\n",
    "# road['Day'] =  road['Accident Date'].dt.day\n",
    "# road['DayOfWeek'] =  road['Accident Date'].dt.dayofweek"
   ]
  },
  {
   "cell_type": "markdown",
   "id": "20d4445b-be9c-492b-9d0c-6458e8be519e",
   "metadata": {},
   "source": [
    "<h2>16-18. In which month does accident happen the most per detrict area?</h2>"
   ]
  },
  {
   "cell_type": "code",
   "execution_count": null,
   "id": "a111210b-6a6b-4471-a253-d1d0f485d817",
   "metadata": {},
   "outputs": [],
   "source": [
    "month_acc = road.groupby(['District Area','Month'])['Number_of_Casualties'].size().unstack()\n",
    "month_acc.head(12)"
   ]
  },
  {
   "cell_type": "markdown",
   "id": "cac3f9f7-1cae-47e3-8b82-8b7835e5b2ae",
   "metadata": {},
   "source": [
    "<h2>Insight#16 </h2>\n",
    "<h3>Seasonal Pattern in Accidents.\n",
    "\n",
    "Many districts (Aberdeenshire and Aylesbury Vale) show higher accident counts in December compared to earlier months, suggesting that winter months may have more accidents due to weather conditions like snow, ice, or reduced daylight.</h3>"
   ]
  },
  {
   "cell_type": "markdown",
   "id": "360b7ceb-51b0-4527-8b42-bd638362bfbd",
   "metadata": {},
   "source": [
    "<h2>Insight#17</h2>\n",
    "<h3>District Variation.\n",
    "\n",
    "Accident frequencies differ by district. For example, Aberdeenshire records consistently higher accident counts across all months (ranging from ~49 to 79), while smaller districts like Adur have much lower counts (14–27). This shows that both population density and road activity strongly influence accident numbers.</h3>"
   ]
  },
  {
   "cell_type": "markdown",
   "id": "330addc7-069e-437d-a63f-a4ccebd992fc",
   "metadata": {},
   "source": [
    "<h2>Insight#18</h2>\n",
    "<h3>Mid-Year Stability vs. End-Year Spike.\n",
    "\n",
    "Several districts (Amber Valley, Ashford) show relatively stable accident numbers from April to August, followed by noticeable increases in November–December. This pattern suggests that accident rates are more stable in mid-year months but rise toward year-end.</h3>"
   ]
  },
  {
   "cell_type": "markdown",
   "id": "ce4b7437-6c75-4da7-8088-fefd75998c20",
   "metadata": {},
   "source": [
    "<h2>19-20. In what day of the week record the highest and lowest number of road acccidents?</h2>"
   ]
  },
  {
   "cell_type": "code",
   "execution_count": null,
   "id": "98b127f8-2cbc-46b8-af69-02b0d19ebaee",
   "metadata": {},
   "outputs": [],
   "source": [
    "day_weeks = road['Day_of_Week'].value_counts()\n",
    "day_weeks"
   ]
  },
  {
   "cell_type": "markdown",
   "id": "a011488c-8351-4ecf-9c11-d7a2efbbbb8f",
   "metadata": {},
   "source": [
    "<h2>Insight#19</h2>\n",
    "<h3>Friday has the highest accidents.\n",
    "\n",
    "Day 5 (Friday) recorded 43,836 accidents, the most among all days. This likely reflects increased traffic from commuters heading into the weekend and higher evening social activity.</h3>"
   ]
  },
  {
   "cell_type": "markdown",
   "id": "3810acfd-406c-490a-838e-d05e6d0c4616",
   "metadata": {},
   "source": [
    "<h2>Insight#20</h2>\n",
    "<h3>Sunday has the lowest accidents.\n",
    "\n",
    "Day 0 (Sunday) recorded only 28,564 accidents, the fewest. This suggests lighter traffic volumes on Sundays reduce the likelihood of accidents compared to weekdays.</h3>"
   ]
  },
  {
   "cell_type": "markdown",
   "id": "1a43488a-d61c-4e8f-8ac2-6bebebc3cc30",
   "metadata": {},
   "source": [
    "<h2>21-22. Which light condition records the highest number of accidents?</h2>"
   ]
  },
  {
   "cell_type": "code",
   "execution_count": null,
   "id": "7d2575cf-1aff-4a25-bb9e-c7745fbb2208",
   "metadata": {},
   "outputs": [],
   "source": [
    "light_accidents = road['Light_Conditions'].value_counts()\n",
    "light_accidents\n"
   ]
  },
  {
   "cell_type": "code",
   "execution_count": null,
   "id": "fe396dfe-c859-40d2-9c4e-fcc2a15770b8",
   "metadata": {},
   "outputs": [],
   "source": [
    "import matplotlib.pyplot as plt"
   ]
  },
  {
   "cell_type": "code",
   "execution_count": null,
   "id": "420cc1cc-08ba-493f-ab45-d5957c45f5a3",
   "metadata": {},
   "outputs": [],
   "source": [
    "light_accidents.plot(kind='bar', color='skyblue', figsize=(8,5))\n",
    "plt.title(\"Number of Accidents by Light Condition\")\n",
    "plt.xlabel(\"Light Condition\")\n",
    "plt.ylabel(\"Number of Accidents\")\n",
    "plt.xticks(rotation=90)\n",
    "plt.show()"
   ]
  },
  {
   "cell_type": "markdown",
   "id": "3b77f20f-be79-41a6-8592-2dbdfa823858",
   "metadata": {},
   "source": [
    "<h2>Insight#21</h2>\n",
    "<h3>Daylight conditions account for the highest number of accidents, which is expected since most vehicles are on the road during daytime.</h3>"
   ]
  },
  {
   "cell_type": "markdown",
   "id": "7912d4b9-9089-4256-9e47-b14af43a9fad",
   "metadata": {},
   "source": [
    "<h2>Insight#22</h2>\n",
    "<h3>Darkness without street lights has the fewest accidents, likely because drivers avoid unlit areas at night.</h3>"
   ]
  },
  {
   "cell_type": "markdown",
   "id": "772557f6-25f1-4790-8ccd-1300e18be1e8",
   "metadata": {},
   "source": [
    "<h2>23-24. How does urban or rural area condition affect accidents?</h2>"
   ]
  },
  {
   "cell_type": "code",
   "execution_count": null,
   "id": "a252c5c6-8753-4de2-b8c7-98453336bedb",
   "metadata": {},
   "outputs": [],
   "source": [
    "# Count accidents by Urban or Rural\n",
    "urban_rural = road['Urban_or_Rural_Area'].value_counts()\n",
    "urban_rural\n",
    "\n"
   ]
  },
  {
   "cell_type": "code",
   "execution_count": null,
   "id": "1290716d-faf1-4ff0-aa04-fce997de3174",
   "metadata": {},
   "outputs": [],
   "source": [
    "\n",
    "urban_rural = road['Urban_or_Rural_Area'].value_counts()\n",
    "urban_rural = urban_rural[urban_rural.index != 'Unallocated']  # remove Unallocated\n",
    "\n",
    "\n",
    "urban_rural.plot(\n",
    "    kind='pie', \n",
    "    autopct='%1.1f%%', \n",
    "    figsize=(6,6), \n",
    "    startangle=90, \n",
    "    colors=['skyblue','orange']\n",
    ")\n",
    "plt.title(\"Urban vs Rural Accidents\")\n",
    "plt.ylabel(\"\")\n",
    "plt.show()\n",
    "\n"
   ]
  },
  {
   "cell_type": "markdown",
   "id": "11c570a5-853a-4993-aa74-e3ac4d141384",
   "metadata": {},
   "source": [
    "<h2>Insight#23:\n",
    "Urban areas account for the majority of accidents (63.8%), showing that higher traffic density and congestion contribute to more frequent collisions.</h2>"
   ]
  },
  {
   "cell_type": "markdown",
   "id": "a4dd2b54-d13d-497c-beaf-12fc05d26e37",
   "metadata": {},
   "source": [
    "<h2>Insight#24:  Rural areas still represent a significant 36.2%, indicating that despite lower traffic volumes, factors like higher speeds and less roadside infrastructure increase accident risks.</h2>"
   ]
  },
  {
   "cell_type": "markdown",
   "id": "83bd8d83-4dd6-4539-9728-9f7fd3bdd6ef",
   "metadata": {},
   "source": [
    "<h2>25-26. How does the number of vehicles involved affect the number of casualties?</h2>"
   ]
  },
  {
   "cell_type": "code",
   "execution_count": null,
   "id": "b471ec33-f1f4-46b1-b08b-ceaea7b05c13",
   "metadata": {},
   "outputs": [],
   "source": [
    "vehicles_casualties = road.groupby('Number_of_Vehicles')['Number_of_Casualties'].mean()\n",
    "vehicles_casualties\n"
   ]
  },
  {
   "cell_type": "code",
   "execution_count": null,
   "id": "5a7feb50-45ef-45bd-a2ac-9584be13f67c",
   "metadata": {},
   "outputs": [],
   "source": [
    "plt.figure(figsize=(7,5))\n",
    "vehicles_casualties.plot(kind='line', marker='o', color='teal')\n",
    "\n",
    "plt.title(\"Average Casualties vs Vehicles Involved\")\n",
    "plt.xlabel(\"Number of Vehicles Involved\")\n",
    "plt.ylabel(\"Average Number of Casualties\")\n",
    "plt.grid(True, linestyle=\"--\", alpha=0.6)\n",
    "plt.show()\n"
   ]
  },
  {
   "cell_type": "markdown",
   "id": "d366c20b-7ffa-49e0-be6a-a90b074ded15",
   "metadata": {},
   "source": [
    "<h2>Insight#25: Accidents with only one vehicle usually have fewer casualties, suggesting they are often single-driver incidents.</h2>"
   ]
  },
  {
   "cell_type": "markdown",
   "id": "53410945-73b7-4b88-a6e2-318598ff32d7",
   "metadata": {},
   "source": [
    "<h2>Insight#26: As more vehicles are involved, the average number of casualties increases, showing that multi-vehicle accidents tend to be more severe.</h2>"
   ]
  },
  {
   "cell_type": "code",
   "execution_count": null,
   "id": "c785ef21-62f4-478d-878d-e132e5ca8043",
   "metadata": {},
   "outputs": [],
   "source": [
    "road['District Area'].value_counts().head(6)"
   ]
  },
  {
   "cell_type": "code",
   "execution_count": null,
   "id": "f702c407-69e3-40dc-bd4c-0d4a7480c85d",
   "metadata": {},
   "outputs": [],
   "source": [
    "for i in road['District Area'].unique(): \n",
    "    print(i)"
   ]
  },
  {
   "attachments": {},
   "cell_type": "markdown",
   "id": "5c151023-2060-4721-95ec-93cf31fcb855",
   "metadata": {},
   "source": [
    "<h1>Insight#27 OXFORD DATA VISUALIZATION</h1>\n",
    "<img src=\"assets//oxford.jpg\" >\n",
    "\n"
   ]
  },
  {
   "cell_type": "code",
   "execution_count": null,
   "id": "5cf7ce36-9a22-4368-a6ab-e091c4b74715",
   "metadata": {},
   "outputs": [],
   "source": [
    "oxford_road = road[road['District Area'] == 'Oxford']"
   ]
  },
  {
   "cell_type": "markdown",
   "id": "0c95eae5-d147-4da5-8131-6ad6b78232b5",
   "metadata": {},
   "source": [
    "<h2>1. Monthly Road Accidents by year in Oxford</h2>"
   ]
  },
  {
   "cell_type": "code",
   "execution_count": null,
   "id": "cec2376a-8bcc-4724-86f2-53999ac780b6",
   "metadata": {},
   "outputs": [],
   "source": [
    "monthly_oxdata = oxford_road.groupby(['Year', 'Month']).size()\n",
    "\n",
    "monthly_oxdata = monthly_oxdata.unstack(level=0)\n",
    "\n",
    "monthly_oxdata.plot(\n",
    "    marker='o', \n",
    "    figsize=(10, 5),\n",
    "    title='Monthly Road Accidents in Oxford by Year (2019-2022)'\n",
    ")\n",
    "plt.xticks(range(1, 13), ['Jan','Feb','Mar','Apr','May','Jun','Jul','Aug','Sep','Oct','Nov','Dec'])\n",
    "plt.legend(title='Yearly Accident Comparison', bbox_to_anchor = (1.05,1), loc='upper left')\n",
    "plt.grid(alpha=0.3)\n",
    "plt.show()"
   ]
  },
  {
   "cell_type": "markdown",
   "id": "86a08a52-b1f6-4201-b4e8-5be88b8ecaed",
   "metadata": {},
   "source": [
    "<h2>2.Accidents per Year</h2>\n",
    "<h2>3.Accidents per Month</h2>\n",
    "<h2>4.Accidents per Day</h2>"
   ]
  },
  {
   "cell_type": "code",
   "execution_count": null,
   "id": "b5e63b4f-539e-4121-9008-4660a824d464",
   "metadata": {},
   "outputs": [],
   "source": [
    "# Accidents per year\n",
    "accidents_per_year = oxford_road['Year'].value_counts().sort_index()\n",
    "accidents_per_month = oxford_road['Month'].value_counts().sort_index()\n",
    "accidents_per_day = oxford_road['DayOfWeek'].value_counts().sort_index()\n",
    "\n",
    "\n",
    "#PER YEAR \n",
    "plt.subplot(2, 2, 1) # this just makes the pie plot next to each others by specifying which rows and columns to put it in and in what order (rows, cols, position(order)).\n",
    "accidents_per_year.plot(kind='bar')\n",
    "plt.title('Accidents per Year')\n",
    "plt.xlabel('Year')\n",
    "plt.ylabel('Number of Accidents')\n",
    "plt.xticks(rotation=45) # It just make the x-labels slightly bent so that it can be read more easily\n",
    "\n",
    "month_names = {\n",
    "    1: 'January', 2: 'February', 3: 'March', 4: 'April',\n",
    "    5: 'May', 6: 'June', 7: 'July', 8: 'August',\n",
    "    9: 'September', 10: 'October', 11: 'November', 12: 'December'\n",
    "}\n",
    "\n",
    "#PER MONTH\n",
    "# Replace numerical months with their names\n",
    "accidents_per_month.index = accidents_per_month.index.map(month_names)\n",
    "\n",
    "plt.subplot(2, 2, 2)\n",
    "accidents_per_month.plot(kind='bar')\n",
    "plt.title('Accidents per Month')\n",
    "plt.xlabel('Month')\n",
    "plt.ylabel('Number of Accidents')\n",
    "plt.xticks(rotation=45)\n",
    "\n",
    "#PER DAY\n",
    "day_names = {\n",
    "    0: 'Monday',\n",
    "    1: 'Tuesday',\n",
    "    2: 'Wednesday',\n",
    "    3: 'Thursday',\n",
    "    4: 'Friday',\n",
    "    5: 'Saturday',\n",
    "    6: 'Sunday'\n",
    "}\n",
    "\n",
    "plt.subplot(2, 2, 3)\n",
    "accidents_per_day.index = accidents_per_day.index.map(day_names) # To make the labels in the Accident Per Days be Monday-Sunday instead of numbers.\n",
    "accidents_per_day.plot(kind='bar')\n",
    "plt.title('Accidents per Day')\n",
    "plt.xlabel('Day of the Week')\n",
    "plt.ylabel('Number of Accidents')\n",
    "plt.xticks(rotation=45)\n",
    "\n",
    "plt.gcf().set_size_inches(14, 12)\n",
    "plt.tight_layout()\n",
    "plt.show()\n"
   ]
  },
  {
   "cell_type": "markdown",
   "id": "8e068bdc-2bd5-48e5-9217-cac68198772f",
   "metadata": {},
   "source": [
    "<h2>5. Accident Severity</h2>"
   ]
  },
  {
   "cell_type": "code",
   "execution_count": null,
   "id": "13c0bb80-56cf-4c88-843d-03cfc0a24333",
   "metadata": {},
   "outputs": [],
   "source": [
    "# Pie chart for all years\n",
    "plt.subplot(1, 2, 1) # this just makes the pie plot next to each others by specifying which rows and columns to put it in and in what order (rows, cols, position(order)).\n",
    "severity_oxford = oxford_road['Accident_Severity'].value_counts()\n",
    "plt.pie(severity_oxford,\n",
    "        labels=severity_oxford.index,\n",
    "        autopct='%1.1f%%',\n",
    "        startangle=90)\n",
    "plt.title('Accident Severity (2019-2022)')\n",
    "\n",
    "# Pie chart for 2019\n",
    "plt.subplot(1, 2, 2)\n",
    "severity_2019_oxford = oxford_road[oxford_road['Year'] == 2019]\n",
    "lsc_2019 = severity_2019_oxford['Accident_Severity'].value_counts()\n",
    "plt.pie(lsc_2019,\n",
    "        labels=lsc_2019.index,\n",
    "        autopct='%1.1f%%',\n",
    "        startangle=90)\n",
    "plt.title('Accident Severity (2019)')\n",
    "\n",
    "plt.gcf().set_size_inches(12, 6)  # To make it wider\n",
    "# plt.tight_layout() # this just adds enough padding to make everything fit cleanly\n",
    "plt.show()\n"
   ]
  },
  {
   "cell_type": "markdown",
   "id": "71cd57b1-94aa-4558-8d21-36d955027968",
   "metadata": {},
   "source": [
    "<h2>6. Map Location using folium(Heatmap)</h2>"
   ]
  },
  {
   "cell_type": "code",
   "execution_count": null,
   "id": "453349cc-7fb0-4bb7-b304-c3e6deb9ce12",
   "metadata": {},
   "outputs": [],
   "source": [
    "oxford_locations  = list(zip(oxford_road['Latitude'], oxford_road['Longitude']))\n",
    "oxford_map = folium.Map(location=[oxford_road['Latitude'].mean(), oxford_road['Longitude'].mean()], zoom_start=12)\n",
    "HeatMap(oxford_locations).add_to(oxford_map)\n",
    "\n",
    "oxford_map"
   ]
  },
  {
   "attachments": {},
   "cell_type": "markdown",
   "id": "d8332f94-8608-4efd-a3b5-e0b1ee8cbb2e",
   "metadata": {},
   "source": [
    "<h1>Insight#28 GREENWICH DATA VISUALIZATION</h1>\n",
    "<img src='assets//greenwich.jpg'>\n",
    "\n"
   ]
  },
  {
   "cell_type": "code",
   "execution_count": null,
   "id": "11b9f2dd-3c5f-486e-9959-75f196bcc7c7",
   "metadata": {},
   "outputs": [],
   "source": [
    "greenwich_road = road[road['District Area'] == 'Greenwich']"
   ]
  },
  {
   "cell_type": "markdown",
   "id": "d8ad4c75-19a0-49ca-b4ee-aad4a92bd82b",
   "metadata": {},
   "source": [
    "<h2>1. Monthly Road Accidents by year in Greenwich</h2>"
   ]
  },
  {
   "cell_type": "code",
   "execution_count": null,
   "id": "541a1bf9-cf14-401c-a95c-a754e5809293",
   "metadata": {},
   "outputs": [],
   "source": [
    "monthly_greendata = greenwich_road.groupby(['Year', 'Month']).size()\n",
    "\n",
    "monthly_greendata = monthly_greendata.unstack(level=0)\n",
    "\n",
    "monthly_greendata.plot(\n",
    "    marker='o', \n",
    "    figsize=(10, 5),\n",
    "    title='Monthly Road Accidents in Greenwich by Year (2019-2022)'\n",
    ")\n",
    "plt.xticks(range(1, 13), ['Jan','Feb','Mar','Apr','May','Jun','Jul','Aug','Sep','Oct','Nov','Dec'])\n",
    "plt.legend(title='Yearly Accident Comparison', bbox_to_anchor = (1.05,1), loc='upper left')\n",
    "plt.grid(alpha=0.3)\n",
    "plt.show()"
   ]
  },
  {
   "cell_type": "markdown",
   "id": "ea23d450-d78c-4503-b68c-c7acde675e5e",
   "metadata": {},
   "source": [
    "<h2>2.Accidents per Year</h2>\n",
    "<h2>3.Accidents per Month</h2>\n",
    "<h2>4.Accidents per Day</h2>"
   ]
  },
  {
   "cell_type": "code",
   "execution_count": null,
   "id": "33a4a11b-11ba-40c5-b799-7229cf59a7fe",
   "metadata": {},
   "outputs": [],
   "source": [
    "# Accidents per year\n",
    "accidents_per_year = greenwich_road['Year'].value_counts().sort_index()\n",
    "accidents_per_month = greenwich_road['Month'].value_counts().sort_index()\n",
    "accidents_per_day = greenwich_road['DayOfWeek'].value_counts().sort_index()\n",
    "\n",
    "\n",
    "#PER YEAR \n",
    "plt.subplot(2, 2, 1) # this just makes the pie plot next to each others by specifying which rows and columns to put it in and in what order (rows, cols, position(order)).\n",
    "accidents_per_year.plot(kind='bar')\n",
    "plt.title('Accidents per Year')\n",
    "plt.xlabel('Year')\n",
    "plt.ylabel('Number of Accidents')\n",
    "plt.xticks(rotation=45) # It just make the x-labels slightly bent so that it can be read more easily\n",
    "\n",
    "month_names = {\n",
    "    1: 'January', 2: 'February', 3: 'March', 4: 'April',\n",
    "    5: 'May', 6: 'June', 7: 'July', 8: 'August',\n",
    "    9: 'September', 10: 'October', 11: 'November', 12: 'December'\n",
    "}\n",
    "\n",
    "#PER MONTH\n",
    "# Replace numerical months with their names\n",
    "accidents_per_month.index = accidents_per_month.index.map(month_names)\n",
    "\n",
    "plt.subplot(2, 2, 2)\n",
    "accidents_per_month.plot(kind='bar')\n",
    "plt.title('Accidents per Month')\n",
    "plt.xlabel('Month')\n",
    "plt.ylabel('Number of Accidents')\n",
    "plt.xticks(rotation=45)\n",
    "\n",
    "#PER DAY\n",
    "day_names = {\n",
    "    0: 'Monday',\n",
    "    1: 'Tuesday',\n",
    "    2: 'Wednesday',\n",
    "    3: 'Thursday',\n",
    "    4: 'Friday',\n",
    "    5: 'Saturday',\n",
    "    6: 'Sunday'\n",
    "}\n",
    "\n",
    "plt.subplot(2, 2, 3)\n",
    "accidents_per_day.index = accidents_per_day.index.map(day_names) # To make the labels in the Accident Per Days be Monday-Sunday instead of numbers.\n",
    "accidents_per_day.plot(kind='bar')\n",
    "plt.title('Accidents per Day')\n",
    "plt.xlabel('Day of the Week')\n",
    "plt.ylabel('Number of Accidents')\n",
    "plt.xticks(rotation=45)\n",
    "\n",
    "plt.gcf().set_size_inches(14, 12)\n",
    "plt.tight_layout()\n",
    "plt.show()\n"
   ]
  },
  {
   "cell_type": "markdown",
   "id": "d81e656d-72f8-4186-b762-ba3a5c14201f",
   "metadata": {},
   "source": [
    "<h2>5. Accident Severity</h2>"
   ]
  },
  {
   "cell_type": "code",
   "execution_count": null,
   "id": "ab526874-14f1-4859-9fa0-98d2cb28bf7b",
   "metadata": {},
   "outputs": [],
   "source": [
    "# Pie chart for all years\n",
    "plt.subplot(1, 2, 1) # this just makes the pie plot next to each others by specifying which rows and columns to put it in and in what order (rows, cols, position(order)).\n",
    "severity_counts = road['Accident_Severity'].value_counts()\n",
    "plt.pie(severity_counts,\n",
    "        labels=severity_counts.index,\n",
    "        autopct='%1.1f%%',\n",
    "        startangle=90)\n",
    "plt.title('Accident Severity (2019-2022)')\n",
    "\n",
    "# Pie chart for 2019\n",
    "plt.subplot(1, 2, 2)\n",
    "severity_2019 = road[road['Year'] == 2019]\n",
    "lsc_2019 = severity_2019['Accident_Severity'].value_counts()\n",
    "plt.pie(lsc_2019,\n",
    "        labels=lsc_2019.index,\n",
    "        autopct='%1.1f%%',\n",
    "        startangle=90)\n",
    "plt.title('Accident Severity (2019)')\n",
    "\n",
    "plt.gcf().set_size_inches(12, 6)  # To make it wider\n",
    "# plt.tight_layout() # this just adds enough padding to make everything fit cleanly\n",
    "plt.show()\n"
   ]
  },
  {
   "cell_type": "markdown",
   "id": "e4a1da8e-6dc3-485d-a3f3-6969ab7301a0",
   "metadata": {},
   "source": [
    "<h2>6. Map Location using folium(Heatmap)</h2>"
   ]
  },
  {
   "cell_type": "code",
   "execution_count": null,
   "id": "a7fdc195-f7ef-41c1-a363-10fc931396c6",
   "metadata": {},
   "outputs": [],
   "source": [
    "greenwich_locations  = list(zip(greenwich_road['Latitude'], greenwich_road['Longitude']))\n",
    "greenwich_map = folium.Map(location=[greenwich_road['Latitude'].mean(), greenwich_road['Longitude'].mean()], zoom_start=12)\n",
    "HeatMap(greenwich_locations).add_to(greenwich_map)\n",
    "\n",
    "greenwich_map"
   ]
  },
  {
   "cell_type": "markdown",
   "id": "c730d34d-1ee9-40f7-80d2-e6a2f2d5e7dc",
   "metadata": {},
   "source": [
    "<h1>Insight#29 REDBRIDGE DATA VISUALIZATION</h1>\n",
    "<img src='assets//redbridge.jpg'>"
   ]
  },
  {
   "cell_type": "code",
   "execution_count": null,
   "id": "c9858063-8f83-43dc-a956-e1ca3f7ff0f4",
   "metadata": {},
   "outputs": [],
   "source": [
    "redbridge_road = road[road['District Area'] == 'Redbridge']"
   ]
  },
  {
   "cell_type": "markdown",
   "id": "d10048e6-c0b0-40bd-a972-35ba7414d0dc",
   "metadata": {},
   "source": [
    "<h2>1. Monthly Road Accidents by year in Redbridge</h2>"
   ]
  },
  {
   "cell_type": "code",
   "execution_count": null,
   "id": "f1dc4fe7-04a1-4d8a-a30d-7b248fd0256d",
   "metadata": {},
   "outputs": [],
   "source": [
    "monthly_reddata = redbridge_road.groupby(['Year', 'Month']).size()\n",
    "\n",
    "monthly_reddata = monthly_reddata.unstack(level=0)\n",
    "\n",
    "monthly_reddata.plot(\n",
    "    marker='o', \n",
    "    figsize=(10, 5),\n",
    "    title='Monthly Road Accidents in Redbridge by Year (2019-2022)'\n",
    ")\n",
    "plt.xticks(range(1, 13), ['Jan','Feb','Mar','Apr','May','Jun','Jul','Aug','Sep','Oct','Nov','Dec'])\n",
    "plt.legend(title='Yearly Accident Comparison', bbox_to_anchor = (1.05,1), loc='upper left')\n",
    "plt.grid(alpha=0.3)\n",
    "plt.show()"
   ]
  },
  {
   "cell_type": "markdown",
   "id": "73aeee95-3b02-4e09-bcac-284ea4405a86",
   "metadata": {},
   "source": [
    "<h2>2.Accidents per Year</h2>\n",
    "<h2>3.Accidents per Month</h2>\n",
    "<h2>4.Accidents per Day</h2>"
   ]
  },
  {
   "cell_type": "code",
   "execution_count": null,
   "id": "9e0eb187-04fd-4a43-9bcf-d0357b3f4e9a",
   "metadata": {},
   "outputs": [],
   "source": [
    "# Accidents per year\n",
    "accidents_per_year = redbridge_road['Year'].value_counts().sort_index()\n",
    "accidents_per_month = redbridge_road['Month'].value_counts().sort_index()\n",
    "accidents_per_day = redbridge_road['DayOfWeek'].value_counts().sort_index()\n",
    "\n",
    "\n",
    "#PER YEAR \n",
    "plt.subplot(2, 2, 1) # this just makes the pie plot next to each others by specifying which rows and columns to put it in and in what order (rows, cols, position(order)).\n",
    "accidents_per_year.plot(kind='bar')\n",
    "plt.title('Accidents per Year')\n",
    "plt.xlabel('Year')\n",
    "plt.ylabel('Number of Accidents')\n",
    "plt.xticks(rotation=45) # It just make the x-labels slightly bent so that it can be read more easily\n",
    "\n",
    "month_names = {\n",
    "    1: 'January', 2: 'February', 3: 'March', 4: 'April',\n",
    "    5: 'May', 6: 'June', 7: 'July', 8: 'August',\n",
    "    9: 'September', 10: 'October', 11: 'November', 12: 'December'\n",
    "}\n",
    "\n",
    "#PER MONTH\n",
    "# Replace numerical months with their names\n",
    "accidents_per_month.index = accidents_per_month.index.map(month_names)\n",
    "\n",
    "plt.subplot(2, 2, 2)\n",
    "accidents_per_month.plot(kind='bar')\n",
    "plt.title('Accidents per Month')\n",
    "plt.xlabel('Month')\n",
    "plt.ylabel('Number of Accidents')\n",
    "plt.xticks(rotation=45)\n",
    "\n",
    "#PER DAY\n",
    "day_names = {\n",
    "    0: 'Monday',\n",
    "    1: 'Tuesday',\n",
    "    2: 'Wednesday',\n",
    "    3: 'Thursday',\n",
    "    4: 'Friday',\n",
    "    5: 'Saturday',\n",
    "    6: 'Sunday'\n",
    "}\n",
    "\n",
    "plt.subplot(2, 2, 3)\n",
    "accidents_per_day.index = accidents_per_day.index.map(day_names) # To make the labels in the Accident Per Days be Monday-Sunday instead of numbers.\n",
    "accidents_per_day.plot(kind='bar')\n",
    "plt.title('Accidents per Day')\n",
    "plt.xlabel('Day of the Week')\n",
    "plt.ylabel('Number of Accidents')\n",
    "plt.xticks(rotation=45)\n",
    "\n",
    "plt.gcf().set_size_inches(14, 12)\n",
    "plt.tight_layout()\n",
    "plt.show()"
   ]
  },
  {
   "cell_type": "markdown",
   "id": "ec66f709-2a9b-4888-9ede-9dda79960309",
   "metadata": {},
   "source": [
    "<h2>5. Accident Severity</h2>"
   ]
  },
  {
   "cell_type": "code",
   "execution_count": null,
   "id": "aea6bc6d-4ae6-427f-b101-ba8486f6a1ef",
   "metadata": {},
   "outputs": [],
   "source": [
    "# Pie chart for all years\n",
    "plt.subplot(1, 2, 1) # this just makes the pie plot next to each others by specifying which rows and columns to put it in and in what order (rows, cols, position(order)).\n",
    "severity_redbridge = redbridge_road['Accident_Severity'].value_counts()\n",
    "plt.pie(severity_redbridge,\n",
    "        labels=severity_oxford.index,\n",
    "        autopct='%1.1f%%',\n",
    "        startangle=90)\n",
    "plt.title('Accident Severity (2019-2022)')\n",
    "\n",
    "# Pie chart for 2019\n",
    "plt.subplot(1, 2, 2)\n",
    "severity_2019_redbridge = redbridge_road[redbridge_road['Year'] == 2019]\n",
    "lsc_2019 = severity_2019_redbridge['Accident_Severity'].value_counts()\n",
    "plt.pie(lsc_2019,\n",
    "        labels=lsc_2019.index,\n",
    "        autopct='%1.1f%%',\n",
    "        startangle=90)\n",
    "plt.title('Accident Severity (2019)')\n",
    "\n",
    "plt.gcf().set_size_inches(12, 6)  # To make it wider\n",
    "# plt.tight_layout() # this just adds enough padding to make everything fit cleanly\n",
    "plt.show()"
   ]
  },
  {
   "cell_type": "markdown",
   "id": "e36c518f-b128-42ff-97c8-a6acc49842eb",
   "metadata": {},
   "source": [
    "<h2>6. Map Location using folium(Heatmap)</h2>"
   ]
  },
  {
   "cell_type": "code",
   "execution_count": null,
   "id": "ea3c22d3-49c7-4164-bb3d-b1b523fdd4e0",
   "metadata": {},
   "outputs": [],
   "source": [
    "redbridge_locations  = list(zip(redbridge_road['Latitude'], redbridge_road['Longitude']))\n",
    "redbridge_map = folium.Map(location=[redbridge_road['Latitude'].mean(), redbridge_road['Longitude'].mean()], zoom_start=12)\n",
    "HeatMap(redbridge_locations).add_to(redbridge_map)\n",
    "\n",
    "redbridge_map"
   ]
  },
  {
   "cell_type": "markdown",
   "id": "37bfc86e-3c6e-4f9f-a5e7-458cc26be6d7",
   "metadata": {},
   "source": [
    "<h1>Insight#30 HIGHLAND DATA VISUALIZATION</h1>\n",
    "<img src='assets//highland.jpg'/>"
   ]
  },
  {
   "cell_type": "code",
   "execution_count": null,
   "id": "b04da66d-f159-48cd-be46-d6ff72e63dde",
   "metadata": {},
   "outputs": [],
   "source": [
    "highland_road = road[road['District Area'] == 'Highland']"
   ]
  },
  {
   "cell_type": "markdown",
   "id": "3f90e8b5-6f99-4c7d-b10e-8c1065106119",
   "metadata": {},
   "source": [
    "<h2>1. Monthly Road Accidents by year in Highland</h2>"
   ]
  },
  {
   "cell_type": "code",
   "execution_count": null,
   "id": "1ba94735-bebf-4984-826c-5d9a2abe78ed",
   "metadata": {},
   "outputs": [],
   "source": [
    "monthly_highdata = highland_road.groupby(['Year', 'Month']).size()\n",
    "\n",
    "monthly_highdata = monthly_highdata.unstack(level=0)\n",
    "\n",
    "monthly_highdata.plot(\n",
    "    marker='o', \n",
    "    figsize=(10, 5),\n",
    "    title='Monthly Road Accidents in Highland by Year (2019-2022)'\n",
    ")\n",
    "plt.xticks(range(1, 13), ['Jan','Feb','Mar','Apr','May','Jun','Jul','Aug','Sep','Oct','Nov','Dec'])\n",
    "plt.legend(title='Yearly Accident Comparison', bbox_to_anchor = (1.05,1), loc='upper left')\n",
    "plt.grid(alpha=0.3)\n",
    "plt.show()"
   ]
  },
  {
   "cell_type": "markdown",
   "id": "31bd5c24-c34e-42f0-a956-6fba0adc837a",
   "metadata": {},
   "source": [
    "<h2>2.Accidents per Year</h2>\n",
    "<h2>3.Accidents per Month</h2>\n",
    "<h2>4.Accidents per Day</h2>"
   ]
  },
  {
   "cell_type": "code",
   "execution_count": null,
   "id": "955aad97-d057-435c-88ab-0786ec6938d3",
   "metadata": {},
   "outputs": [],
   "source": [
    "# Accidents per year\n",
    "accidents_per_year = highland_road['Year'].value_counts().sort_index()\n",
    "accidents_per_month = highland_road['Month'].value_counts().sort_index()\n",
    "accidents_per_day = highland_road['DayOfWeek'].value_counts().sort_index()\n",
    "\n",
    "\n",
    "#PER YEAR \n",
    "plt.subplot(2, 2, 1) # this just makes the pie plot next to each others by specifying which rows and columns to put it in and in what order (rows, cols, position(order)).\n",
    "accidents_per_year.plot(kind='bar')\n",
    "plt.title('Accidents per Year')\n",
    "plt.xlabel('Year')\n",
    "plt.ylabel('Number of Accidents')\n",
    "plt.xticks(rotation=45) # It just make the x-labels slightly bent so that it can be read more easily\n",
    "\n",
    "month_names = {\n",
    "    1: 'January', 2: 'February', 3: 'March', 4: 'April',\n",
    "    5: 'May', 6: 'June', 7: 'July', 8: 'August',\n",
    "    9: 'September', 10: 'October', 11: 'November', 12: 'December'\n",
    "}\n",
    "\n",
    "#PER MONTH\n",
    "# Replace numerical months with their names\n",
    "accidents_per_month.index = accidents_per_month.index.map(month_names)\n",
    "\n",
    "plt.subplot(2, 2, 2)\n",
    "accidents_per_month.plot(kind='bar')\n",
    "plt.title('Accidents per Month')\n",
    "plt.xlabel('Month')\n",
    "plt.ylabel('Number of Accidents')\n",
    "plt.xticks(rotation=45)\n",
    "\n",
    "#PER DAY\n",
    "day_names = {\n",
    "    0: 'Monday',\n",
    "    1: 'Tuesday',\n",
    "    2: 'Wednesday',\n",
    "    3: 'Thursday',\n",
    "    4: 'Friday',\n",
    "    5: 'Saturday',\n",
    "    6: 'Sunday'\n",
    "}\n",
    "\n",
    "plt.subplot(2, 2, 3)\n",
    "accidents_per_day.index = accidents_per_day.index.map(day_names) # To make the labels in the Accident Per Days be Monday-Sunday instead of numbers.\n",
    "accidents_per_day.plot(kind='bar')\n",
    "plt.title('Accidents per Day')\n",
    "plt.xlabel('Day of the Week')\n",
    "plt.ylabel('Number of Accidents')\n",
    "plt.xticks(rotation=45)\n",
    "\n",
    "plt.gcf().set_size_inches(14, 12)\n",
    "plt.tight_layout()\n",
    "plt.show()"
   ]
  },
  {
   "cell_type": "markdown",
   "id": "ccbbce1c-d5a9-47da-a3d2-fa06ff0270c9",
   "metadata": {},
   "source": [
    "<h2>5. Accident Severity</h2>\n"
   ]
  },
  {
   "cell_type": "code",
   "execution_count": null,
   "id": "5bd02734-09ba-4cc2-9805-14522aa44a2a",
   "metadata": {},
   "outputs": [],
   "source": [
    "# Pie chart for all years\n",
    "plt.subplot(1, 2, 1) # this just makes the pie plot next to each others by specifying which rows and columns to put it in and in what order (rows, cols, position(order)).\n",
    "severity_highland = highland_road['Accident_Severity'].value_counts()\n",
    "plt.pie(severity_highland,\n",
    "        labels=severity_highland.index,\n",
    "        autopct='%1.1f%%',\n",
    "        startangle=90)\n",
    "plt.title('Accident Severity (2019-2022)')\n",
    "\n",
    "# Pie chart for 2019\n",
    "plt.subplot(1, 2, 2)\n",
    "severity_2019_highland = highland_road[highland_road['Year'] == 2019]\n",
    "lsc_2019 = severity_2019_highland['Accident_Severity'].value_counts()\n",
    "plt.pie(lsc_2019,\n",
    "        labels=lsc_2019.index,\n",
    "        autopct='%1.1f%%',\n",
    "        startangle=90)\n",
    "plt.title('Accident Severity (2019)')\n",
    "\n",
    "plt.gcf().set_size_inches(12, 6)  # To make it wider\n",
    "# plt.tight_layout() # this just adds enough padding to make everything fit cleanly\n",
    "plt.show()\n",
    "\n"
   ]
  },
  {
   "cell_type": "markdown",
   "id": "c5150303-8ada-4adc-ac92-f0cebb97fe46",
   "metadata": {},
   "source": [
    "<h2>6. Map Location using folium(Heatmap)</h2>"
   ]
  },
  {
   "cell_type": "code",
   "execution_count": null,
   "id": "9b065c68-64e8-40af-a193-baf7ff46a382",
   "metadata": {},
   "outputs": [],
   "source": [
    "highland_locations  = list(zip(highland_road['Latitude'], highland_road['Longitude']))\n",
    "highland_map = folium.Map(location=[highland_road['Latitude'].mean(), highland_road['Longitude'].mean()], zoom_start=12)\n",
    "HeatMap(highland_locations).add_to(highland_map)\n",
    "\n",
    "highland_map"
   ]
  },
  {
   "cell_type": "markdown",
   "id": "edf21cc6-56bf-4c0d-8d60-c0116e890fa1",
   "metadata": {},
   "source": [
    "<h1>Insight#31 Eastbourne DATA VISUALIZATION</h1>\n",
    "<img src='assets//Eastbourne.jpg'/>"
   ]
  },
  {
   "cell_type": "code",
   "execution_count": null,
   "id": "f3d2c03c-3b32-4d1b-99fc-b011d0e92ad2",
   "metadata": {},
   "outputs": [],
   "source": [
    "eastbourne_road = road[road['District Area'] == 'Eastbourne']"
   ]
  },
  {
   "cell_type": "markdown",
   "id": "af9c9285-d5cc-4792-9c43-f662f8e80e18",
   "metadata": {},
   "source": [
    "<h2>1. Monthly Road Accidents by year in Eastbourne</h2>"
   ]
  },
  {
   "cell_type": "code",
   "execution_count": null,
   "id": "292be2e8-ae26-441b-9e84-4017bb2a0944",
   "metadata": {},
   "outputs": [],
   "source": [
    "monthly_eastdata = eastbourne_road.groupby(['Year', 'Month']).size()\n",
    "\n",
    "monthly_eastdata = monthly_eastdata.unstack(level=0)\n",
    "\n",
    "monthly_eastdata.plot(\n",
    "    marker='o', \n",
    "    figsize=(10, 5),\n",
    "    title='Monthly Road Accidents in Eastbourne by Year (2019-2022)'\n",
    ")\n",
    "plt.xticks(range(1, 13), ['Jan','Feb','Mar','Apr','May','Jun','Jul','Aug','Sep','Oct','Nov','Dec'])\n",
    "plt.legend(title='Yearly Accident Comparison', bbox_to_anchor = (1.05,1), loc='upper left')\n",
    "plt.grid(alpha=0.3)\n",
    "plt.show()"
   ]
  },
  {
   "cell_type": "markdown",
   "id": "82910eb8-48aa-4585-85cd-dd9338fceff2",
   "metadata": {},
   "source": [
    "<h2>2.Accidents per Year</h2>\n",
    "<h2>3.Accidents per Month</h2>\n",
    "<h2>4.Accidents per Day</h2>"
   ]
  },
  {
   "cell_type": "code",
   "execution_count": null,
   "id": "fdcbecb7-c0cd-4bc0-947b-ee1701b6a322",
   "metadata": {},
   "outputs": [],
   "source": [
    "# Accidents per year\n",
    "accidents_per_year = eastbourne_road['Year'].value_counts().sort_index()\n",
    "accidents_per_month = eastbourne_road['Month'].value_counts().sort_index()\n",
    "accidents_per_day = eastbourne_road['DayOfWeek'].value_counts().sort_index()\n",
    "\n",
    "\n",
    "#PER YEAR \n",
    "plt.subplot(2, 2, 1) # this just makes the pie plot next to each others by specifying which rows and columns to put it in and in what order (rows, cols, position(order)).\n",
    "accidents_per_year.plot(kind='bar')\n",
    "plt.title('Accidents per Year')\n",
    "plt.xlabel('Year')\n",
    "plt.ylabel('Number of Accidents')\n",
    "plt.xticks(rotation=45) # It just make the x-labels slightly bent so that it can be read more easily\n",
    "\n",
    "month_names = {\n",
    "    1: 'January', 2: 'February', 3: 'March', 4: 'April',\n",
    "    5: 'May', 6: 'June', 7: 'July', 8: 'August',\n",
    "    9: 'September', 10: 'October', 11: 'November', 12: 'December'\n",
    "}\n",
    "\n",
    "#PER MONTH\n",
    "# Replace numerical months with their names\n",
    "accidents_per_month.index = accidents_per_month.index.map(month_names)\n",
    "\n",
    "plt.subplot(2, 2, 2)\n",
    "accidents_per_month.plot(kind='bar')\n",
    "plt.title('Accidents per Month')\n",
    "plt.xlabel('Month')\n",
    "plt.ylabel('Number of Accidents')\n",
    "plt.xticks(rotation=45)\n",
    "\n",
    "#PER DAY\n",
    "day_names = {\n",
    "    0: 'Monday',\n",
    "    1: 'Tuesday',\n",
    "    2: 'Wednesday',\n",
    "    3: 'Thursday',\n",
    "    4: 'Friday',\n",
    "    5: 'Saturday',\n",
    "    6: 'Sunday'\n",
    "}\n",
    "\n",
    "plt.subplot(2, 2, 3)\n",
    "accidents_per_day.index = accidents_per_day.index.map(day_names) # To make the labels in the Accident Per Days be Monday-Sunday instead of numbers.\n",
    "accidents_per_day.plot(kind='bar')\n",
    "plt.title('Accidents per Day')\n",
    "plt.xlabel('Day of the Week')\n",
    "plt.ylabel('Number of Accidents')\n",
    "plt.xticks(rotation=45)\n",
    "\n",
    "plt.gcf().set_size_inches(14, 12)\n",
    "plt.tight_layout()\n",
    "plt.show()"
   ]
  },
  {
   "cell_type": "markdown",
   "id": "e3ea331f-d73f-4e13-bc8e-09bcdab1e999",
   "metadata": {},
   "source": [
    "<h2>5. Accident Severity</h2>\n"
   ]
  },
  {
   "cell_type": "code",
   "execution_count": null,
   "id": "1d3ff3bc-85c3-4cdd-a09f-6e974eb6ca78",
   "metadata": {},
   "outputs": [],
   "source": [
    "# Pie chart for all years\n",
    "plt.subplot(1, 2, 1) # this just makes the pie plot next to each others by specifying which rows and columns to put it in and in what order (rows, cols, position(order)).\n",
    "severity_eastbourne = eastbourne_road['Accident_Severity'].value_counts()\n",
    "plt.pie(severity_eastbourne,\n",
    "        labels=severity_eastbourne.index,\n",
    "        autopct='%1.1f%%',\n",
    "        startangle=90)\n",
    "plt.title('Accident Severity (2019-2022)')\n",
    "\n",
    "# Pie chart for 2019\n",
    "plt.subplot(1, 2, 2)\n",
    "severity_2019_eastbourne = eastbourne_road[eastbourne_road['Year'] == 2019]\n",
    "lsc_2019 = severity_2019_eastbourne['Accident_Severity'].value_counts()\n",
    "plt.pie(lsc_2019,\n",
    "        labels=lsc_2019.index,\n",
    "        autopct='%1.1f%%',\n",
    "        startangle=90)\n",
    "plt.title('Accident Severity (2019)')\n",
    "\n",
    "plt.gcf().set_size_inches(12, 6)  # To make it wider\n",
    "# plt.tight_layout() # this just adds enough padding to make everything fit cleanly\n",
    "plt.show()\n"
   ]
  },
  {
   "cell_type": "markdown",
   "id": "a3b6e5b5-92e2-4592-81f6-999cf2b64b67",
   "metadata": {},
   "source": [
    "<h2>6. Map Location using folium(Heatmap)</h2>"
   ]
  },
  {
   "cell_type": "code",
   "execution_count": null,
   "id": "4d917648-178e-4dcd-a584-9426170beacf",
   "metadata": {},
   "outputs": [],
   "source": [
    "eastbourne_locations  = list(zip(eastbourne_road['Latitude'], eastbourne_road['Longitude']))\n",
    "eastbourne_map = folium.Map(location=[eastbourne_road['Latitude'].mean(), eastbourne_road['Longitude'].mean()], zoom_start=12)\n",
    "HeatMap(eastbourne_locations).add_to(eastbourne_map)\n",
    "\n",
    "eastbourne_map"
   ]
  },
  {
   "cell_type": "markdown",
   "id": "ca9b6967-ac8d-43f5-a041-fc4ee8a57b8a",
   "metadata": {},
   "source": [
    "<h1>Insight#32 Newport DATA VISUALIZATION</h1>\n",
    "<img src='assets//Newport.png'/>"
   ]
  },
  {
   "cell_type": "code",
   "execution_count": null,
   "id": "ff9723ea-4c06-4e26-9fef-cfdfe0542223",
   "metadata": {},
   "outputs": [],
   "source": [
    "newport_road = road[road['District Area'] == 'Newport']"
   ]
  },
  {
   "cell_type": "markdown",
   "id": "98785fc0-d863-40f2-b145-6322bcd3a196",
   "metadata": {},
   "source": [
    "<h2>1. Monthly Road Accidents by year in Newport</h2>\n"
   ]
  },
  {
   "cell_type": "code",
   "execution_count": null,
   "id": "e0bd9966-2b0a-4c92-bad5-b670e5fd03b9",
   "metadata": {},
   "outputs": [],
   "source": [
    "monthly_newdata = newport_road.groupby(['Year', 'Month']).size()\n",
    "\n",
    "monthly_newdata = monthly_newdata.unstack(level=0)\n",
    "\n",
    "monthly_newdata.plot(\n",
    "    marker='o', \n",
    "    figsize=(10, 5),\n",
    "    title='Monthly Road Accidents in Newport by Year (2019-2022)'\n",
    ")\n",
    "plt.xticks(range(1, 13), ['Jan','Feb','Mar','Apr','May','Jun','Jul','Aug','Sep','Oct','Nov','Dec'])\n",
    "plt.legend(title='Yearly Accident Comparison', bbox_to_anchor = (1.05,1), loc='upper left')\n",
    "plt.grid(alpha=0.3)\n",
    "plt.show()\n"
   ]
  },
  {
   "cell_type": "markdown",
   "id": "2c73d617-7562-4e21-8545-f3b583538ecf",
   "metadata": {},
   "source": [
    "<h2>2.Accidents per Year</h2>\n",
    "<h2>3.Accidents per Month</h2>\n",
    "<h2>4.Accidents per Day</h2>"
   ]
  },
  {
   "cell_type": "code",
   "execution_count": null,
   "id": "e2a63b8d-1758-46b8-91b6-0bccc8b02e32",
   "metadata": {},
   "outputs": [],
   "source": [
    "# Accidents per year\n",
    "accidents_per_year = newport_road['Year'].value_counts().sort_index()\n",
    "accidents_per_month = newport_road['Month'].value_counts().sort_index()\n",
    "accidents_per_day = newport_road['DayOfWeek'].value_counts().sort_index()\n",
    "\n",
    "\n",
    "#PER YEAR \n",
    "plt.subplot(2, 2, 1) # this just makes the pie plot next to each others by specifying which rows and columns to put it in and in what order (rows, cols, position(order)).\n",
    "accidents_per_year.plot(kind='bar')\n",
    "plt.title('Accidents per Year')\n",
    "plt.xlabel('Year')\n",
    "plt.ylabel('Number of Accidents')\n",
    "plt.xticks(rotation=45) # It just make the x-labels slightly bent so that it can be read more easily\n",
    "\n",
    "month_names = {\n",
    "    1: 'January', 2: 'February', 3: 'March', 4: 'April',\n",
    "    5: 'May', 6: 'June', 7: 'July', 8: 'August',\n",
    "    9: 'September', 10: 'October', 11: 'November', 12: 'December'\n",
    "}\n",
    "\n",
    "#PER MONTH\n",
    "# Replace numerical months with their names\n",
    "accidents_per_month.index = accidents_per_month.index.map(month_names)\n",
    "\n",
    "plt.subplot(2, 2, 2)\n",
    "accidents_per_month.plot(kind='bar')\n",
    "plt.title('Accidents per Month')\n",
    "plt.xlabel('Month')\n",
    "plt.ylabel('Number of Accidents')\n",
    "plt.xticks(rotation=45)\n",
    "\n",
    "#PER DAY\n",
    "day_names = {\n",
    "    0: 'Monday',\n",
    "    1: 'Tuesday',\n",
    "    2: 'Wednesday',\n",
    "    3: 'Thursday',\n",
    "    4: 'Friday',\n",
    "    5: 'Saturday',\n",
    "    6: 'Sunday'\n",
    "}\n",
    "\n",
    "plt.subplot(2, 2, 3)\n",
    "accidents_per_day.index = accidents_per_day.index.map(day_names) # To make the labels in the Accident Per Days be Monday-Sunday instead of numbers.\n",
    "accidents_per_day.plot(kind='bar')\n",
    "plt.title('Accidents per Day')\n",
    "plt.xlabel('Day of the Week')\n",
    "plt.ylabel('Number of Accidents')\n",
    "plt.xticks(rotation=45)\n",
    "\n",
    "plt.gcf().set_size_inches(14, 12)\n",
    "plt.tight_layout()\n",
    "plt.show()"
   ]
  },
  {
   "cell_type": "markdown",
   "id": "6a86cba5-dedb-4c21-80ae-c137a7c35cde",
   "metadata": {},
   "source": [
    "<h2>5. Accident Severity</h2>"
   ]
  },
  {
   "cell_type": "code",
   "execution_count": null,
   "id": "486eb2ca-07bb-46eb-8891-0e46e87a076f",
   "metadata": {},
   "outputs": [],
   "source": [
    "# Pie chart for all years\n",
    "plt.subplot(1, 2, 1) # this just makes the pie plot next to each others by specifying which rows and columns to put it in and in what order (rows, cols, position(order)).\n",
    "severity_newport = newport_road['Accident_Severity'].value_counts()\n",
    "plt.pie(severity_newport,\n",
    "        labels=severity_newport.index,\n",
    "        autopct='%1.1f%%',\n",
    "        startangle=90)\n",
    "plt.title('Accident Severity (2019-2022)')\n",
    "\n",
    "# Pie chart for 2019\n",
    "plt.subplot(1, 2, 2)\n",
    "severity_2019_newport = newport_road[newport_road['Year'] == 2019]\n",
    "lsc_2019 = severity_2019_newport['Accident_Severity'].value_counts()\n",
    "plt.pie(lsc_2019,\n",
    "        labels=lsc_2019.index,\n",
    "        autopct='%1.1f%%',\n",
    "        startangle=90)\n",
    "plt.title('Accident Severity (2019)')\n",
    "\n",
    "plt.gcf().set_size_inches(12, 6)  # To make it wider\n",
    "# plt.tight_layout() # this just adds enough padding to make everything fit cleanly\n",
    "plt.show()\n"
   ]
  },
  {
   "cell_type": "markdown",
   "id": "b7976ace-5ea7-4eeb-9177-b90b6feb1cbd",
   "metadata": {},
   "source": [
    "<h2>6. Map Location using folium(Heatmap)</h2>"
   ]
  },
  {
   "cell_type": "code",
   "execution_count": null,
   "id": "b23a1633-7eb5-4344-99d4-c00217224de1",
   "metadata": {},
   "outputs": [],
   "source": [
    "newport_locations  = list(zip(newport_road['Latitude'], newport_road['Longitude']))\n",
    "newport_map = folium.Map(location=[newport_road['Latitude'].mean(), newport_road['Longitude'].mean()], zoom_start=12)\n",
    "HeatMap(newport_locations).add_to(newport_map)\n",
    "\n",
    "newport_map"
   ]
  },
  {
   "cell_type": "code",
   "execution_count": null,
   "id": "f13db697-74d5-4f9e-bfe5-d5a0aad7c5b8",
   "metadata": {},
   "outputs": [],
   "source": []
  }
 ],
 "metadata": {
  "kernelspec": {
   "display_name": "Python 3 (ipykernel)",
   "language": "python",
   "name": "python3"
  },
  "language_info": {
   "codemirror_mode": {
    "name": "ipython",
    "version": 3
   },
   "file_extension": ".py",
   "mimetype": "text/x-python",
   "name": "python",
   "nbconvert_exporter": "python",
   "pygments_lexer": "ipython3",
   "version": "3.13.0"
  }
 },
 "nbformat": 4,
 "nbformat_minor": 5
}
