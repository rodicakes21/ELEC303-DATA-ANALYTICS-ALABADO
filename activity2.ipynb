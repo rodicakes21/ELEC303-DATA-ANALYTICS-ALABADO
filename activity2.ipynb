{
 "cells": [
  {
   "cell_type": "markdown",
   "id": "1c594b3a-6336-4ef6-8b2c-e03556ce5c90",
   "metadata": {},
   "source": [
    "<h1>Alabado, Roderick L.</h1>\n",
    "<h2>BSIT-3A</h2>"
   ]
  },
  {
   "cell_type": "code",
   "execution_count": 59,
   "id": "26783ec2-9d55-4c5a-a617-dcb9813e5c11",
   "metadata": {},
   "outputs": [],
   "source": [
    "import pandas as pd\n",
    "import numpy  as np\n",
    "import matplotlib.pyplot as plt \n",
    "import warnings\n",
    "warnings.filterwarnings('ignore')\n",
    "import folium\n",
    "from folium.plugins import HeatMap\n",
    "import seaborn as sns\n"
   ]
  },
  {
   "cell_type": "code",
   "execution_count": 2,
   "id": "bc193f57-ba0f-421d-91ec-3ebbbbeb434f",
   "metadata": {},
   "outputs": [],
   "source": [
    "road = pd.read_csv('datasets2\\\\uk_road_accident.csv')"
   ]
  },
  {
   "cell_type": "code",
   "execution_count": 3,
   "id": "f7d6be66-7298-4829-80d5-fe817d5034fe",
   "metadata": {},
   "outputs": [
    {
     "data": {
      "text/html": [
       "<div>\n",
       "<style scoped>\n",
       "    .dataframe tbody tr th:only-of-type {\n",
       "        vertical-align: middle;\n",
       "    }\n",
       "\n",
       "    .dataframe tbody tr th {\n",
       "        vertical-align: top;\n",
       "    }\n",
       "\n",
       "    .dataframe thead th {\n",
       "        text-align: right;\n",
       "    }\n",
       "</style>\n",
       "<table border=\"1\" class=\"dataframe\">\n",
       "  <thead>\n",
       "    <tr style=\"text-align: right;\">\n",
       "      <th></th>\n",
       "      <th>Index</th>\n",
       "      <th>Accident_Severity</th>\n",
       "      <th>Accident Date</th>\n",
       "      <th>Latitude</th>\n",
       "      <th>Light_Conditions</th>\n",
       "      <th>District Area</th>\n",
       "      <th>Longitude</th>\n",
       "      <th>Number_of_Casualties</th>\n",
       "      <th>Number_of_Vehicles</th>\n",
       "      <th>Road_Surface_Conditions</th>\n",
       "      <th>Road_Type</th>\n",
       "      <th>Urban_or_Rural_Area</th>\n",
       "      <th>Weather_Conditions</th>\n",
       "      <th>Vehicle_Type</th>\n",
       "    </tr>\n",
       "  </thead>\n",
       "  <tbody>\n",
       "    <tr>\n",
       "      <th>0</th>\n",
       "      <td>200701BS64157</td>\n",
       "      <td>Serious</td>\n",
       "      <td>5/6/2019</td>\n",
       "      <td>51.506187</td>\n",
       "      <td>Darkness - lights lit</td>\n",
       "      <td>Kensington and Chelsea</td>\n",
       "      <td>-0.209082</td>\n",
       "      <td>1</td>\n",
       "      <td>2</td>\n",
       "      <td>Dry</td>\n",
       "      <td>Single carriageway</td>\n",
       "      <td>Urban</td>\n",
       "      <td>Fine no high winds</td>\n",
       "      <td>Car</td>\n",
       "    </tr>\n",
       "    <tr>\n",
       "      <th>1</th>\n",
       "      <td>200701BS65737</td>\n",
       "      <td>Serious</td>\n",
       "      <td>2/7/2019</td>\n",
       "      <td>51.495029</td>\n",
       "      <td>Daylight</td>\n",
       "      <td>Kensington and Chelsea</td>\n",
       "      <td>-0.173647</td>\n",
       "      <td>1</td>\n",
       "      <td>2</td>\n",
       "      <td>Wet or damp</td>\n",
       "      <td>Single carriageway</td>\n",
       "      <td>Urban</td>\n",
       "      <td>Raining no high winds</td>\n",
       "      <td>Car</td>\n",
       "    </tr>\n",
       "    <tr>\n",
       "      <th>2</th>\n",
       "      <td>200701BS66127</td>\n",
       "      <td>Serious</td>\n",
       "      <td>26-08-2019</td>\n",
       "      <td>51.517715</td>\n",
       "      <td>Darkness - lighting unknown</td>\n",
       "      <td>Kensington and Chelsea</td>\n",
       "      <td>-0.210215</td>\n",
       "      <td>1</td>\n",
       "      <td>3</td>\n",
       "      <td>Dry</td>\n",
       "      <td>NaN</td>\n",
       "      <td>Urban</td>\n",
       "      <td>NaN</td>\n",
       "      <td>Taxi/Private hire car</td>\n",
       "    </tr>\n",
       "    <tr>\n",
       "      <th>3</th>\n",
       "      <td>200701BS66128</td>\n",
       "      <td>Serious</td>\n",
       "      <td>16-08-2019</td>\n",
       "      <td>51.495478</td>\n",
       "      <td>Daylight</td>\n",
       "      <td>Kensington and Chelsea</td>\n",
       "      <td>-0.202731</td>\n",
       "      <td>1</td>\n",
       "      <td>4</td>\n",
       "      <td>Dry</td>\n",
       "      <td>Single carriageway</td>\n",
       "      <td>Urban</td>\n",
       "      <td>Fine no high winds</td>\n",
       "      <td>Bus or coach (17 or more pass seats)</td>\n",
       "    </tr>\n",
       "    <tr>\n",
       "      <th>4</th>\n",
       "      <td>200701BS66837</td>\n",
       "      <td>Slight</td>\n",
       "      <td>3/9/2019</td>\n",
       "      <td>51.488576</td>\n",
       "      <td>Darkness - lights lit</td>\n",
       "      <td>Kensington and Chelsea</td>\n",
       "      <td>-0.192487</td>\n",
       "      <td>1</td>\n",
       "      <td>2</td>\n",
       "      <td>Dry</td>\n",
       "      <td>NaN</td>\n",
       "      <td>Urban</td>\n",
       "      <td>NaN</td>\n",
       "      <td>Other vehicle</td>\n",
       "    </tr>\n",
       "    <tr>\n",
       "      <th>...</th>\n",
       "      <td>...</td>\n",
       "      <td>...</td>\n",
       "      <td>...</td>\n",
       "      <td>...</td>\n",
       "      <td>...</td>\n",
       "      <td>...</td>\n",
       "      <td>...</td>\n",
       "      <td>...</td>\n",
       "      <td>...</td>\n",
       "      <td>...</td>\n",
       "      <td>...</td>\n",
       "      <td>...</td>\n",
       "      <td>...</td>\n",
       "      <td>...</td>\n",
       "    </tr>\n",
       "    <tr>\n",
       "      <th>660674</th>\n",
       "      <td>201091NM01760</td>\n",
       "      <td>Slight</td>\n",
       "      <td>18-02-2022</td>\n",
       "      <td>57.374005</td>\n",
       "      <td>Daylight</td>\n",
       "      <td>Highland</td>\n",
       "      <td>-3.467828</td>\n",
       "      <td>2</td>\n",
       "      <td>1</td>\n",
       "      <td>Dry</td>\n",
       "      <td>Single carriageway</td>\n",
       "      <td>Rural</td>\n",
       "      <td>Fine no high winds</td>\n",
       "      <td>Car</td>\n",
       "    </tr>\n",
       "    <tr>\n",
       "      <th>660675</th>\n",
       "      <td>201091NM01881</td>\n",
       "      <td>Slight</td>\n",
       "      <td>21-02-2022</td>\n",
       "      <td>57.232273</td>\n",
       "      <td>Darkness - no lighting</td>\n",
       "      <td>Highland</td>\n",
       "      <td>-3.809281</td>\n",
       "      <td>1</td>\n",
       "      <td>1</td>\n",
       "      <td>Frost or ice</td>\n",
       "      <td>Single carriageway</td>\n",
       "      <td>Rural</td>\n",
       "      <td>Fine no high winds</td>\n",
       "      <td>Car</td>\n",
       "    </tr>\n",
       "    <tr>\n",
       "      <th>660676</th>\n",
       "      <td>201091NM01935</td>\n",
       "      <td>Slight</td>\n",
       "      <td>23-02-2022</td>\n",
       "      <td>57.585044</td>\n",
       "      <td>Daylight</td>\n",
       "      <td>Highland</td>\n",
       "      <td>-3.862727</td>\n",
       "      <td>1</td>\n",
       "      <td>3</td>\n",
       "      <td>Frost or ice</td>\n",
       "      <td>Single carriageway</td>\n",
       "      <td>Rural</td>\n",
       "      <td>Fine no high winds</td>\n",
       "      <td>Car</td>\n",
       "    </tr>\n",
       "    <tr>\n",
       "      <th>660677</th>\n",
       "      <td>201091NM01964</td>\n",
       "      <td>Serious</td>\n",
       "      <td>23-02-2022</td>\n",
       "      <td>57.214898</td>\n",
       "      <td>Darkness - no lighting</td>\n",
       "      <td>Highland</td>\n",
       "      <td>-3.823997</td>\n",
       "      <td>1</td>\n",
       "      <td>2</td>\n",
       "      <td>Wet or damp</td>\n",
       "      <td>Single carriageway</td>\n",
       "      <td>Rural</td>\n",
       "      <td>Fine no high winds</td>\n",
       "      <td>Motorcycle over 500cc</td>\n",
       "    </tr>\n",
       "    <tr>\n",
       "      <th>660678</th>\n",
       "      <td>201091NM02142</td>\n",
       "      <td>Serious</td>\n",
       "      <td>28-02-2022</td>\n",
       "      <td>57.575210</td>\n",
       "      <td>Daylight</td>\n",
       "      <td>Highland</td>\n",
       "      <td>-3.895673</td>\n",
       "      <td>1</td>\n",
       "      <td>1</td>\n",
       "      <td>Wet or damp</td>\n",
       "      <td>Dual carriageway</td>\n",
       "      <td>Rural</td>\n",
       "      <td>Snowing no high winds</td>\n",
       "      <td>Car</td>\n",
       "    </tr>\n",
       "  </tbody>\n",
       "</table>\n",
       "<p>660679 rows × 14 columns</p>\n",
       "</div>"
      ],
      "text/plain": [
       "                Index Accident_Severity Accident Date   Latitude  \\\n",
       "0       200701BS64157           Serious      5/6/2019  51.506187   \n",
       "1       200701BS65737           Serious      2/7/2019  51.495029   \n",
       "2       200701BS66127           Serious    26-08-2019  51.517715   \n",
       "3       200701BS66128           Serious    16-08-2019  51.495478   \n",
       "4       200701BS66837            Slight      3/9/2019  51.488576   \n",
       "...               ...               ...           ...        ...   \n",
       "660674  201091NM01760            Slight    18-02-2022  57.374005   \n",
       "660675  201091NM01881            Slight    21-02-2022  57.232273   \n",
       "660676  201091NM01935            Slight    23-02-2022  57.585044   \n",
       "660677  201091NM01964           Serious    23-02-2022  57.214898   \n",
       "660678  201091NM02142           Serious    28-02-2022  57.575210   \n",
       "\n",
       "                   Light_Conditions           District Area  Longitude  \\\n",
       "0             Darkness - lights lit  Kensington and Chelsea  -0.209082   \n",
       "1                          Daylight  Kensington and Chelsea  -0.173647   \n",
       "2       Darkness - lighting unknown  Kensington and Chelsea  -0.210215   \n",
       "3                          Daylight  Kensington and Chelsea  -0.202731   \n",
       "4             Darkness - lights lit  Kensington and Chelsea  -0.192487   \n",
       "...                             ...                     ...        ...   \n",
       "660674                     Daylight                Highland  -3.467828   \n",
       "660675       Darkness - no lighting                Highland  -3.809281   \n",
       "660676                     Daylight                Highland  -3.862727   \n",
       "660677       Darkness - no lighting                Highland  -3.823997   \n",
       "660678                     Daylight                Highland  -3.895673   \n",
       "\n",
       "        Number_of_Casualties  Number_of_Vehicles Road_Surface_Conditions  \\\n",
       "0                          1                   2                     Dry   \n",
       "1                          1                   2             Wet or damp   \n",
       "2                          1                   3                     Dry   \n",
       "3                          1                   4                     Dry   \n",
       "4                          1                   2                     Dry   \n",
       "...                      ...                 ...                     ...   \n",
       "660674                     2                   1                     Dry   \n",
       "660675                     1                   1            Frost or ice   \n",
       "660676                     1                   3            Frost or ice   \n",
       "660677                     1                   2             Wet or damp   \n",
       "660678                     1                   1             Wet or damp   \n",
       "\n",
       "                 Road_Type Urban_or_Rural_Area     Weather_Conditions  \\\n",
       "0       Single carriageway               Urban     Fine no high winds   \n",
       "1       Single carriageway               Urban  Raining no high winds   \n",
       "2                      NaN               Urban                    NaN   \n",
       "3       Single carriageway               Urban     Fine no high winds   \n",
       "4                      NaN               Urban                    NaN   \n",
       "...                    ...                 ...                    ...   \n",
       "660674  Single carriageway               Rural     Fine no high winds   \n",
       "660675  Single carriageway               Rural     Fine no high winds   \n",
       "660676  Single carriageway               Rural     Fine no high winds   \n",
       "660677  Single carriageway               Rural     Fine no high winds   \n",
       "660678    Dual carriageway               Rural  Snowing no high winds   \n",
       "\n",
       "                                Vehicle_Type  \n",
       "0                                        Car  \n",
       "1                                        Car  \n",
       "2                      Taxi/Private hire car  \n",
       "3       Bus or coach (17 or more pass seats)  \n",
       "4                              Other vehicle  \n",
       "...                                      ...  \n",
       "660674                                   Car  \n",
       "660675                                   Car  \n",
       "660676                                   Car  \n",
       "660677                 Motorcycle over 500cc  \n",
       "660678                                   Car  \n",
       "\n",
       "[660679 rows x 14 columns]"
      ]
     },
     "execution_count": 3,
     "metadata": {},
     "output_type": "execute_result"
    }
   ],
   "source": [
    "road\n"
   ]
  },
  {
   "cell_type": "code",
   "execution_count": 4,
   "id": "d4659d87-c377-41b7-ba09-39fba7cfcb1e",
   "metadata": {},
   "outputs": [
    {
     "name": "stdout",
     "output_type": "stream",
     "text": [
      "<class 'pandas.core.frame.DataFrame'>\n",
      "RangeIndex: 660679 entries, 0 to 660678\n",
      "Data columns (total 14 columns):\n",
      " #   Column                   Non-Null Count   Dtype  \n",
      "---  ------                   --------------   -----  \n",
      " 0   Index                    660679 non-null  object \n",
      " 1   Accident_Severity        660679 non-null  object \n",
      " 2   Accident Date            660679 non-null  object \n",
      " 3   Latitude                 660654 non-null  float64\n",
      " 4   Light_Conditions         660679 non-null  object \n",
      " 5   District Area            660679 non-null  object \n",
      " 6   Longitude                660653 non-null  float64\n",
      " 7   Number_of_Casualties     660679 non-null  int64  \n",
      " 8   Number_of_Vehicles       660679 non-null  int64  \n",
      " 9   Road_Surface_Conditions  659953 non-null  object \n",
      " 10  Road_Type                656159 non-null  object \n",
      " 11  Urban_or_Rural_Area      660664 non-null  object \n",
      " 12  Weather_Conditions       646551 non-null  object \n",
      " 13  Vehicle_Type             660679 non-null  object \n",
      "dtypes: float64(2), int64(2), object(10)\n",
      "memory usage: 70.6+ MB\n"
     ]
    }
   ],
   "source": [
    "road.info()"
   ]
  },
  {
   "cell_type": "code",
   "execution_count": 5,
   "id": "bea1e354-0695-4a3e-8112-01f077d5d50f",
   "metadata": {},
   "outputs": [
    {
     "data": {
      "text/plain": [
       "Index                          0\n",
       "Accident_Severity              0\n",
       "Accident Date                  0\n",
       "Latitude                      25\n",
       "Light_Conditions               0\n",
       "District Area                  0\n",
       "Longitude                     26\n",
       "Number_of_Casualties           0\n",
       "Number_of_Vehicles             0\n",
       "Road_Surface_Conditions      726\n",
       "Road_Type                   4520\n",
       "Urban_or_Rural_Area           15\n",
       "Weather_Conditions         14128\n",
       "Vehicle_Type                   0\n",
       "dtype: int64"
      ]
     },
     "execution_count": 5,
     "metadata": {},
     "output_type": "execute_result"
    }
   ],
   "source": [
    "road.isnull().sum()"
   ]
  },
  {
   "cell_type": "markdown",
   "id": "7961f8fa-51df-46a0-aaae-8362d908bebb",
   "metadata": {},
   "source": [
    "<h2>Clean the dataset</h2>"
   ]
  },
  {
   "cell_type": "code",
   "execution_count": 6,
   "id": "22917ef7-949e-4284-b949-59d5b5ec5735",
   "metadata": {},
   "outputs": [],
   "source": [
    "road['Latitude'] = road['Latitude'].fillna(road['Latitude'].mean())\n",
    "road['Longitude'] = road['Longitude'].fillna(road['Longitude'].mean())\n",
    "road['Road_Surface_Conditions'] = road['Road_Surface_Conditions'].fillna(road['Road_Surface_Conditions'].mode()[0])\n",
    "road['Road_Type'] = road['Road_Type'].fillna(road['Road_Type'].mode()[0])\n",
    "road['Urban_or_Rural_Area'] = road['Urban_or_Rural_Area'].fillna(road['Urban_or_Rural_Area'].mode()[0])\n",
    "road['Weather_Conditions'] = road['Weather_Conditions'].fillna(road['Weather_Conditions'].mode()[0])"
   ]
  },
  {
   "cell_type": "code",
   "execution_count": 7,
   "id": "afb1967d-bd19-45b9-8409-41e5cfeaf628",
   "metadata": {
    "scrolled": true
   },
   "outputs": [
    {
     "data": {
      "text/plain": [
       "Index                      0\n",
       "Accident_Severity          0\n",
       "Accident Date              0\n",
       "Latitude                   0\n",
       "Light_Conditions           0\n",
       "District Area              0\n",
       "Longitude                  0\n",
       "Number_of_Casualties       0\n",
       "Number_of_Vehicles         0\n",
       "Road_Surface_Conditions    0\n",
       "Road_Type                  0\n",
       "Urban_or_Rural_Area        0\n",
       "Weather_Conditions         0\n",
       "Vehicle_Type               0\n",
       "dtype: int64"
      ]
     },
     "execution_count": 7,
     "metadata": {},
     "output_type": "execute_result"
    }
   ],
   "source": [
    "road.isnull().sum()\n"
   ]
  },
  {
   "cell_type": "markdown",
   "id": "5adb333a-5b0f-4fe8-bca8-2037b67dc8fe",
   "metadata": {},
   "source": [
    "<h2>1. What area has the most casualties per accident?</h2>"
   ]
  },
  {
   "cell_type": "code",
   "execution_count": 8,
   "id": "1980e023-e9c7-456a-badd-d45fc41110b9",
   "metadata": {},
   "outputs": [
    {
     "data": {
      "text/plain": [
       "Urban_or_Rural_Area\n",
       "Urban          421678\n",
       "Rural          238990\n",
       "Unallocated        11\n",
       "Name: count, dtype: int64"
      ]
     },
     "execution_count": 8,
     "metadata": {},
     "output_type": "execute_result"
    }
   ],
   "source": [
    "road['Urban_or_Rural_Area'].value_counts()"
   ]
  },
  {
   "cell_type": "markdown",
   "id": "3d045c15-ab72-401b-a0e7-58aa0b62d34d",
   "metadata": {},
   "source": [
    "<H2>Insight#1: Most casualties are reported in urban areas compared to rural places.</H2>"
   ]
  },
  {
   "cell_type": "markdown",
   "id": "4b72e797-bc22-4ff8-ad1e-303aeb4a7429",
   "metadata": {},
   "source": [
    "<h2>2. What is the Correlation between casualties and longitude.</h2>"
   ]
  },
  {
   "cell_type": "code",
   "execution_count": 9,
   "id": "2240d16b-d863-49f1-8068-bc9cb14b454f",
   "metadata": {},
   "outputs": [
    {
     "data": {
      "text/plain": [
       "np.float64(-0.040405645788454514)"
      ]
     },
     "execution_count": 9,
     "metadata": {},
     "output_type": "execute_result"
    }
   ],
   "source": [
    "road['Number_of_Casualties'].corr(road['Longitude'])"
   ]
  },
  {
   "cell_type": "markdown",
   "id": "eef44ec6-063c-45a4-9dfa-ecd6318f8667",
   "metadata": {},
   "source": [
    "<h2>Insight#2: There is almost no relationship between casualties and longitude. This means that whether the accident happens farther east or west doesn’t significantly affect the number of casualties.</h2>"
   ]
  },
  {
   "cell_type": "markdown",
   "id": "630e0d02-e04e-485f-bebc-22b27703eab1",
   "metadata": {},
   "source": [
    "<h2>3. Which type of weather occurs most often? </h2>"
   ]
  },
  {
   "cell_type": "code",
   "execution_count": 10,
   "id": "d1eb0296-e0e9-4b57-9130-70619ec4fdba",
   "metadata": {},
   "outputs": [
    {
     "data": {
      "text/plain": [
       "Weather_Conditions\n",
       "Fine no high winds       535013\n",
       "Raining no high winds     79696\n",
       "Other                     17150\n",
       "Raining + high winds       9615\n",
       "Fine + high winds          8554\n",
       "Snowing no high winds      6238\n",
       "Fog or mist                3528\n",
       "Snowing + high winds        885\n",
       "Name: count, dtype: int64"
      ]
     },
     "execution_count": 10,
     "metadata": {},
     "output_type": "execute_result"
    }
   ],
   "source": [
    "road['Weather_Conditions'].value_counts()"
   ]
  },
  {
   "cell_type": "markdown",
   "id": "2ffedd00-d086-4446-a20a-b82e12a2f409",
   "metadata": {},
   "source": [
    "<h2>Insight#3: The highest number of accidents occurs under weather conditions of \"fine no high winds\"</h2>"
   ]
  },
  {
   "cell_type": "markdown",
   "id": "ba510d75-1a72-4eb4-8752-a535963dbd6b",
   "metadata": {},
   "source": [
    "<h2>4. Which light condition is most often linked to accidents?</h2>"
   ]
  },
  {
   "cell_type": "code",
   "execution_count": 11,
   "id": "8beaabf0-7760-4b48-8199-73a2b92a4a79",
   "metadata": {},
   "outputs": [
    {
     "data": {
      "text/plain": [
       "Light_Conditions\n",
       "Daylight                       484880\n",
       "Darkness - lights lit          129335\n",
       "Darkness - no lighting          37437\n",
       "Darkness - lighting unknown      6484\n",
       "Darkness - lights unlit          2543\n",
       "Name: count, dtype: int64"
      ]
     },
     "execution_count": 11,
     "metadata": {},
     "output_type": "execute_result"
    }
   ],
   "source": [
    "road['Light_Conditions'].value_counts() \n"
   ]
  },
  {
   "cell_type": "markdown",
   "id": "1a9df9fb-400b-428a-bb1c-e0c1553d46e6",
   "metadata": {},
   "source": [
    "<h2>Insight#4: The light condition that is often linked to accidents happen in \"daylight\".</h2>"
   ]
  },
  {
   "cell_type": "markdown",
   "id": "98dfc722-1664-4e62-abbd-21c6c33e4114",
   "metadata": {},
   "source": [
    "<h2>5. Which vehicle type is most involved in accidents?</h2>"
   ]
  },
  {
   "cell_type": "code",
   "execution_count": 12,
   "id": "8319c5b3-a7bf-4b1c-ba81-91c29e7d4570",
   "metadata": {},
   "outputs": [
    {
     "data": {
      "text/plain": [
       "Vehicle_Type\n",
       "Car                                     6577\n",
       "Van / Goods 3.5 tonnes mgw or under      467\n",
       "Motorcycle over 500cc                    339\n",
       "Bus or coach (17 or more pass seats)     325\n",
       "Goods 7.5 tonnes mgw and over            216\n",
       "Name: count, dtype: int64"
      ]
     },
     "execution_count": 12,
     "metadata": {},
     "output_type": "execute_result"
    }
   ],
   "source": [
    "road[road['Accident_Severity'] == 'Fatal']['Vehicle_Type'].value_counts().head(5)\n"
   ]
  },
  {
   "cell_type": "markdown",
   "id": "bceec023-2486-4f41-944a-d32cdd0d286d",
   "metadata": {},
   "source": [
    "<h2>Insight#5: Car was the most frequently involved in accidents.</h2>"
   ]
  },
  {
   "cell_type": "markdown",
   "id": "afaef59d-800c-4002-9cd7-dc9d63fac287",
   "metadata": {},
   "source": [
    "<h2>6. Which district has the highest average casualties per accident?</h2>"
   ]
  },
  {
   "cell_type": "code",
   "execution_count": 13,
   "id": "5e9fafb8-99b5-4dc9-a304-d540830be966",
   "metadata": {},
   "outputs": [
    {
     "data": {
      "text/plain": [
       "District Area\n",
       "Blaeu Gwent          1.693694\n",
       "West Somerset        1.613990\n",
       "Derwentside          1.606186\n",
       "Chester-le-Street    1.603306\n",
       "Durham               1.580431\n",
       "Blaenau Gwent        1.579310\n",
       "Fylde                1.569350\n",
       "Hambleton            1.568523\n",
       "Merthyr Tydfil       1.568182\n",
       "West Lancashire      1.566341\n",
       "Name: Number_of_Casualties, dtype: float64"
      ]
     },
     "execution_count": 13,
     "metadata": {},
     "output_type": "execute_result"
    }
   ],
   "source": [
    "road.groupby('District Area')['Number_of_Casualties'].mean().sort_values(ascending=False).head(10)"
   ]
  },
  {
   "cell_type": "markdown",
   "id": "396d854e-bbb4-474b-a39a-471ad5672dad",
   "metadata": {},
   "source": [
    "<h2>Insight#6: The records that have the highest average casualties per accident of District area is Blaeu Gwent at 1.69, indicating that casualties in this district usually affect more people than in other districts.</h2>"
   ]
  },
  {
   "cell_type": "markdown",
   "id": "91f99da6-e9be-4a5b-ab7e-55d7e6065d73",
   "metadata": {},
   "source": [
    "<h2>7-9. Which accident severity has the highest average casualties?</h2>"
   ]
  },
  {
   "cell_type": "code",
   "execution_count": 14,
   "id": "5099957c-1d7d-45b1-8ee7-32bdface9075",
   "metadata": {},
   "outputs": [
    {
     "data": {
      "text/plain": [
       "Accident_Severity\n",
       "Fatal      1.903129\n",
       "Serious    1.467280\n",
       "Slight     1.331402\n",
       "Name: Number_of_Casualties, dtype: float64"
      ]
     },
     "execution_count": 14,
     "metadata": {},
     "output_type": "execute_result"
    }
   ],
   "source": [
    "road.groupby('Accident_Severity')['Number_of_Casualties'].mean()"
   ]
  },
  {
   "cell_type": "markdown",
   "id": "dd0513e2-2b6d-43e5-be67-c4b37dcd578e",
   "metadata": {},
   "source": [
    "<h2>Insight#7 </h2>\n",
    "    \n",
    "<h2>Fatal accidents have the highest average casualties.\n",
    "\n",
    "With an average of 1.90 casualties per accident, fatal accidents tend to involve more people compared to other severities.</h2>"
   ]
  },
  {
   "cell_type": "markdown",
   "id": "c8143ccf-c411-434a-bf2b-59d3ad878987",
   "metadata": {},
   "source": [
    "<h2>Insight#8</h2>\n",
    "<h3>\n",
    "\n",
    "Serious accidents average about 1.47 casualties, showing they typically affect more than one person, but still less than fatal cases.</h3>"
   ]
  },
  {
   "cell_type": "markdown",
   "id": "4128f553-7dbd-43eb-b93d-635f4434c1e0",
   "metadata": {},
   "source": [
    "<h2>Insight#9</h2>\n",
    "<h3>Slight accidents involve the fewest casualties.\n",
    "\n",
    "With an average of 1.33 casualties, slight accidents usually affect only one person, reflecting their lower severity and impact compared to serious or fatal crashes.</h3>"
   ]
  },
  {
   "cell_type": "markdown",
   "id": "9644e3e4-1055-44df-b7c6-d4c25d3e0236",
   "metadata": {},
   "source": [
    "<h2>10-12. What is the number of Accident Severity on Single carriageway?</h2>"
   ]
  },
  {
   "cell_type": "code",
   "execution_count": 15,
   "id": "1aad0ef3-178c-48c1-9e20-2c9a7941e48a",
   "metadata": {},
   "outputs": [
    {
     "data": {
      "text/plain": [
       "Accident_Severity\n",
       "Slight     419563\n",
       "Serious     70540\n",
       "Fatal        6560\n",
       "Name: count, dtype: int64"
      ]
     },
     "execution_count": 15,
     "metadata": {},
     "output_type": "execute_result"
    }
   ],
   "source": [
    "single_carriageway_accidents = road[road['Road_Type'] == 'Single carriageway']\n",
    "single_carriageway_accidents['Accident_Severity'].value_counts()"
   ]
  },
  {
   "cell_type": "markdown",
   "id": "a332aac7-648c-4a1e-b294-ec5622be54a5",
   "metadata": {},
   "source": [
    "<h2>Insight#10</h2>\n",
    "<h3>Slight accidents are dominant.\n",
    "\n",
    "Out of all recorded cases, 419,563 are slight accidents, which makes them the most frequent by a large margin.</h3>"
   ]
  },
  {
   "cell_type": "markdown",
   "id": "1427660c-558f-4abd-b28d-fea42f5aa4cf",
   "metadata": {},
   "source": [
    "<h2>Insight#11</h2>\n",
    "<h3>Serious accidents are much fewer.\n",
    "\n",
    "70,540 serious accidents were recorded, showing that while still significant, they occur far less often than slight ones.</h3>"
   ]
  },
  {
   "cell_type": "markdown",
   "id": "d3938df7-1c07-43c3-b671-cf52c81f7427",
   "metadata": {},
   "source": [
    "<h2>Insight#12</h2>\n",
    "<h3>Fatal accidents are rare.\n",
    "\n",
    "With only 6,560 fatal cases, they make up the smallest share of all accidents on single carriageways, showing that while these roads are prone to frequent accidents, fatalities remain comparatively rare.</h3>"
   ]
  },
  {
   "cell_type": "markdown",
   "id": "1a50f920-e6c0-43b3-a859-7a763c22d5df",
   "metadata": {},
   "source": [
    "<h2>13. Correlation between casualties and vehicles</h2>"
   ]
  },
  {
   "cell_type": "code",
   "execution_count": 16,
   "id": "4b59532d-8699-4aa0-8b30-5eaa78784a95",
   "metadata": {},
   "outputs": [],
   "source": [
    "corr_casualties_vehicle = road['Number_of_Casualties'].corr(road['Number_of_Vehicles'])\n",
    "\n"
   ]
  },
  {
   "cell_type": "code",
   "execution_count": 17,
   "id": "d790d895-fbb9-489a-a2b4-caa7f24eac5f",
   "metadata": {},
   "outputs": [
    {
     "data": {
      "text/plain": [
       "np.float64(0.22888886126927627)"
      ]
     },
     "execution_count": 17,
     "metadata": {},
     "output_type": "execute_result"
    }
   ],
   "source": [
    "corr_casualties_vehicle"
   ]
  },
  {
   "cell_type": "markdown",
   "id": "3a74e101-3c82-4d11-830b-8a557a00bf5a",
   "metadata": {},
   "source": [
    "<h2>Insight#13</h2>\n",
    "\n",
    "<h3>The correlation between number of casualties and number of vehicles involved is about 0.23, meaning that as the number of vehicles in an accident increases, the number of casualties also tends to rise.</h3>"
   ]
  },
  {
   "cell_type": "markdown",
   "id": "b79fcd37-cbdd-4ef1-b6f9-889c76022ac4",
   "metadata": {},
   "source": [
    "<h2>14-15. What road type is the most and less involved accident?</h2>"
   ]
  },
  {
   "cell_type": "code",
   "execution_count": 18,
   "id": "1a2c41a3-aa30-4bfc-b16b-abe875b296c5",
   "metadata": {},
   "outputs": [
    {
     "data": {
      "text/plain": [
       "Road_Type\n",
       "Single carriageway    496663\n",
       "Dual carriageway       99424\n",
       "Roundabout             43992\n",
       "One way street         13559\n",
       "Slip road               7041\n",
       "Name: count, dtype: int64"
      ]
     },
     "execution_count": 18,
     "metadata": {},
     "output_type": "execute_result"
    }
   ],
   "source": [
    "road['Road_Type'].value_counts()"
   ]
  },
  {
   "cell_type": "markdown",
   "id": "39ba5b3f-9453-4abd-8c0a-7835cf30534a",
   "metadata": {},
   "source": [
    "<h2>Insight#14</h2>\n",
    "<h3>Single carriageways has most accidents.\n",
    "\n",
    "With 496,663 cases, single carriageways account for the majority of accidents, far exceeding other road types. This suggests they may be more dangerous due to factors like narrower lanes, opposing traffic, or lack of separation barriers.</h3>"
   ]
  },
  {
   "cell_type": "markdown",
   "id": "051c1edf-4bb6-4868-b78a-5fb8dbdaa2f1",
   "metadata": {},
   "source": [
    "<h2>Insight#15</h2>\n",
    "<h3>Slip roads show fewer accidents.\n",
    "\n",
    "Slip roads (7,041) have significantly fewer accidents, possibly due to slower speeds and controlled traffic flow.</h3>"
   ]
  },
  {
   "cell_type": "code",
   "execution_count": 19,
   "id": "f04311dc-d5dc-4771-a7e3-73f77d1ff7b8",
   "metadata": {},
   "outputs": [],
   "source": [
    "# road['Accident Date'] = pd.to_datetime(road['Accident Date'],dayfirst=True, errors='coerce')"
   ]
  },
  {
   "cell_type": "code",
   "execution_count": 27,
   "id": "28e77148-d750-43b2-a22d-d69e99dc3a67",
   "metadata": {},
   "outputs": [],
   "source": [
    "#Create Column for Month,Day, Year\n",
    "\n",
    "road['Year'] = road['Accident Date'].dt.year\n",
    "road['Day'] = road['Accident Date'].dt.day\n",
    "road['Day_Name'] = road['Accident Date'].dt.day_name()\n",
    "road['Day_of_Week'] = road['Accident Date'].dt.dayofweek\n",
    "road['Month'] = road['Accident Date'].dt.month\n"
   ]
  },
  {
   "cell_type": "code",
   "execution_count": 28,
   "id": "81c47708-5615-4999-92a9-c240f83bf7ba",
   "metadata": {},
   "outputs": [],
   "source": [
    "road[\"Accident Date\"] =  road[\"Accident Date\"].fillna(road[\"Accident Date\"] .mode()[0])\n",
    "road['Month'] =  road['Month'].fillna(road['Month'] .mode()[0])\n",
    "road['Year'] =  road['Year'].fillna(road['Year'] .mode()[0])\n",
    "road['Day'] =  road['Day'].fillna(road['Day'] .mode()[0])\n",
    "road['Day_Name'] =  road['Day'].fillna(road['Day_Name'] .mode()[0])\n",
    "road['Day_of_Week'] =  road['Day_of_Week'].fillna(road['Day_of_Week'] .mode()[0])\n",
    "road['Month'] = road['Month'].astype('category') "
   ]
  },
  {
   "cell_type": "code",
   "execution_count": 22,
   "id": "e68544b5-273f-4e18-ab82-6a6959d53cdf",
   "metadata": {},
   "outputs": [],
   "source": [
    "# #CREATING NEW COLUMN FOR YEAR,MONTH,DAY,DAYOFWEEK\n",
    "# road['Accident Date'] = (\n",
    "#     road['Accident Date']\n",
    "#     .astype(str)               \n",
    "#     .str.replace('/', '-', regex=False) \n",
    "#     .str.strip()                   \n",
    "# )\n",
    "# road['Accident Date'].replace('nan', pd.NA, inplace=True)\n",
    "\n",
    "# road['Accident Date'] = pd.to_datetime(\n",
    "#     road['Accident Date'], \n",
    "#     dayfirst=True, \n",
    "#     errors='coerce'\n",
    "# )\n",
    "# road['Year'] = road['Accident Date'].dt.year\n",
    "# road['Month'] =  road['Accident Date'].dt.month\n",
    "# road['Day'] =  road['Accident Date'].dt.day\n",
    "# road['DayOfWeek'] =  road['Accident Date'].dt.dayofweek"
   ]
  },
  {
   "cell_type": "markdown",
   "id": "20d4445b-be9c-492b-9d0c-6458e8be519e",
   "metadata": {},
   "source": [
    "<h2>16-18. In which month does accident happen the most per detrict area?</h2>"
   ]
  },
  {
   "cell_type": "code",
   "execution_count": 23,
   "id": "a111210b-6a6b-4471-a253-d1d0f485d817",
   "metadata": {},
   "outputs": [
    {
     "data": {
      "text/html": [
       "<div>\n",
       "<style scoped>\n",
       "    .dataframe tbody tr th:only-of-type {\n",
       "        vertical-align: middle;\n",
       "    }\n",
       "\n",
       "    .dataframe tbody tr th {\n",
       "        vertical-align: top;\n",
       "    }\n",
       "\n",
       "    .dataframe thead th {\n",
       "        text-align: right;\n",
       "    }\n",
       "</style>\n",
       "<table border=\"1\" class=\"dataframe\">\n",
       "  <thead>\n",
       "    <tr style=\"text-align: right;\">\n",
       "      <th>Month</th>\n",
       "      <th>1</th>\n",
       "      <th>2</th>\n",
       "      <th>3</th>\n",
       "      <th>4</th>\n",
       "      <th>5</th>\n",
       "      <th>6</th>\n",
       "      <th>7</th>\n",
       "      <th>8</th>\n",
       "      <th>9</th>\n",
       "      <th>10</th>\n",
       "      <th>11</th>\n",
       "      <th>12</th>\n",
       "    </tr>\n",
       "    <tr>\n",
       "      <th>District Area</th>\n",
       "      <th></th>\n",
       "      <th></th>\n",
       "      <th></th>\n",
       "      <th></th>\n",
       "      <th></th>\n",
       "      <th></th>\n",
       "      <th></th>\n",
       "      <th></th>\n",
       "      <th></th>\n",
       "      <th></th>\n",
       "      <th></th>\n",
       "      <th></th>\n",
       "    </tr>\n",
       "  </thead>\n",
       "  <tbody>\n",
       "    <tr>\n",
       "      <th>Aberdeen City</th>\n",
       "      <td>92</td>\n",
       "      <td>120</td>\n",
       "      <td>114</td>\n",
       "      <td>90</td>\n",
       "      <td>123</td>\n",
       "      <td>111</td>\n",
       "      <td>112</td>\n",
       "      <td>118</td>\n",
       "      <td>103</td>\n",
       "      <td>121</td>\n",
       "      <td>113</td>\n",
       "      <td>106</td>\n",
       "    </tr>\n",
       "    <tr>\n",
       "      <th>Aberdeenshire</th>\n",
       "      <td>149</td>\n",
       "      <td>133</td>\n",
       "      <td>171</td>\n",
       "      <td>134</td>\n",
       "      <td>161</td>\n",
       "      <td>187</td>\n",
       "      <td>170</td>\n",
       "      <td>170</td>\n",
       "      <td>150</td>\n",
       "      <td>165</td>\n",
       "      <td>171</td>\n",
       "      <td>169</td>\n",
       "    </tr>\n",
       "    <tr>\n",
       "      <th>Adur</th>\n",
       "      <td>58</td>\n",
       "      <td>41</td>\n",
       "      <td>53</td>\n",
       "      <td>58</td>\n",
       "      <td>58</td>\n",
       "      <td>58</td>\n",
       "      <td>51</td>\n",
       "      <td>48</td>\n",
       "      <td>43</td>\n",
       "      <td>53</td>\n",
       "      <td>59</td>\n",
       "      <td>39</td>\n",
       "    </tr>\n",
       "    <tr>\n",
       "      <th>Allerdale</th>\n",
       "      <td>89</td>\n",
       "      <td>85</td>\n",
       "      <td>82</td>\n",
       "      <td>86</td>\n",
       "      <td>101</td>\n",
       "      <td>89</td>\n",
       "      <td>91</td>\n",
       "      <td>114</td>\n",
       "      <td>93</td>\n",
       "      <td>107</td>\n",
       "      <td>90</td>\n",
       "      <td>101</td>\n",
       "    </tr>\n",
       "    <tr>\n",
       "      <th>Alnwick</th>\n",
       "      <td>23</td>\n",
       "      <td>25</td>\n",
       "      <td>14</td>\n",
       "      <td>17</td>\n",
       "      <td>16</td>\n",
       "      <td>18</td>\n",
       "      <td>16</td>\n",
       "      <td>25</td>\n",
       "      <td>18</td>\n",
       "      <td>23</td>\n",
       "      <td>18</td>\n",
       "      <td>19</td>\n",
       "    </tr>\n",
       "    <tr>\n",
       "      <th>Amber Valley</th>\n",
       "      <td>116</td>\n",
       "      <td>100</td>\n",
       "      <td>116</td>\n",
       "      <td>98</td>\n",
       "      <td>97</td>\n",
       "      <td>120</td>\n",
       "      <td>127</td>\n",
       "      <td>119</td>\n",
       "      <td>123</td>\n",
       "      <td>124</td>\n",
       "      <td>106</td>\n",
       "      <td>101</td>\n",
       "    </tr>\n",
       "    <tr>\n",
       "      <th>Angus</th>\n",
       "      <td>64</td>\n",
       "      <td>89</td>\n",
       "      <td>55</td>\n",
       "      <td>53</td>\n",
       "      <td>70</td>\n",
       "      <td>71</td>\n",
       "      <td>58</td>\n",
       "      <td>51</td>\n",
       "      <td>73</td>\n",
       "      <td>61</td>\n",
       "      <td>87</td>\n",
       "      <td>64</td>\n",
       "    </tr>\n",
       "    <tr>\n",
       "      <th>Argyll and Bute</th>\n",
       "      <td>53</td>\n",
       "      <td>58</td>\n",
       "      <td>58</td>\n",
       "      <td>63</td>\n",
       "      <td>73</td>\n",
       "      <td>73</td>\n",
       "      <td>78</td>\n",
       "      <td>95</td>\n",
       "      <td>89</td>\n",
       "      <td>77</td>\n",
       "      <td>56</td>\n",
       "      <td>63</td>\n",
       "    </tr>\n",
       "    <tr>\n",
       "      <th>Arun</th>\n",
       "      <td>110</td>\n",
       "      <td>100</td>\n",
       "      <td>104</td>\n",
       "      <td>121</td>\n",
       "      <td>125</td>\n",
       "      <td>113</td>\n",
       "      <td>136</td>\n",
       "      <td>90</td>\n",
       "      <td>125</td>\n",
       "      <td>137</td>\n",
       "      <td>102</td>\n",
       "      <td>113</td>\n",
       "    </tr>\n",
       "    <tr>\n",
       "      <th>Ashfield</th>\n",
       "      <td>131</td>\n",
       "      <td>98</td>\n",
       "      <td>108</td>\n",
       "      <td>116</td>\n",
       "      <td>105</td>\n",
       "      <td>125</td>\n",
       "      <td>140</td>\n",
       "      <td>102</td>\n",
       "      <td>104</td>\n",
       "      <td>121</td>\n",
       "      <td>130</td>\n",
       "      <td>115</td>\n",
       "    </tr>\n",
       "    <tr>\n",
       "      <th>Ashford</th>\n",
       "      <td>130</td>\n",
       "      <td>159</td>\n",
       "      <td>136</td>\n",
       "      <td>143</td>\n",
       "      <td>139</td>\n",
       "      <td>139</td>\n",
       "      <td>158</td>\n",
       "      <td>133</td>\n",
       "      <td>140</td>\n",
       "      <td>138</td>\n",
       "      <td>156</td>\n",
       "      <td>134</td>\n",
       "    </tr>\n",
       "    <tr>\n",
       "      <th>Aylesbury Vale</th>\n",
       "      <td>156</td>\n",
       "      <td>136</td>\n",
       "      <td>151</td>\n",
       "      <td>142</td>\n",
       "      <td>154</td>\n",
       "      <td>152</td>\n",
       "      <td>148</td>\n",
       "      <td>153</td>\n",
       "      <td>131</td>\n",
       "      <td>157</td>\n",
       "      <td>184</td>\n",
       "      <td>173</td>\n",
       "    </tr>\n",
       "  </tbody>\n",
       "</table>\n",
       "</div>"
      ],
      "text/plain": [
       "Month             1    2    3    4    5    6    7    8    9    10   11   12\n",
       "District Area                                                              \n",
       "Aberdeen City     92  120  114   90  123  111  112  118  103  121  113  106\n",
       "Aberdeenshire    149  133  171  134  161  187  170  170  150  165  171  169\n",
       "Adur              58   41   53   58   58   58   51   48   43   53   59   39\n",
       "Allerdale         89   85   82   86  101   89   91  114   93  107   90  101\n",
       "Alnwick           23   25   14   17   16   18   16   25   18   23   18   19\n",
       "Amber Valley     116  100  116   98   97  120  127  119  123  124  106  101\n",
       "Angus             64   89   55   53   70   71   58   51   73   61   87   64\n",
       "Argyll and Bute   53   58   58   63   73   73   78   95   89   77   56   63\n",
       "Arun             110  100  104  121  125  113  136   90  125  137  102  113\n",
       "Ashfield         131   98  108  116  105  125  140  102  104  121  130  115\n",
       "Ashford          130  159  136  143  139  139  158  133  140  138  156  134\n",
       "Aylesbury Vale   156  136  151  142  154  152  148  153  131  157  184  173"
      ]
     },
     "execution_count": 23,
     "metadata": {},
     "output_type": "execute_result"
    }
   ],
   "source": [
    "month_acc = road.groupby(['District Area','Month'])['Number_of_Casualties'].size().unstack()\n",
    "month_acc.head(12)"
   ]
  },
  {
   "cell_type": "markdown",
   "id": "cac3f9f7-1cae-47e3-8b82-8b7835e5b2ae",
   "metadata": {},
   "source": [
    "<h2>Insight#16 </h2>\n",
    "<h3>Seasonal Pattern in Accidents.\n",
    "\n",
    "Many districts (Aberdeenshire and Aylesbury Vale) show higher accident counts in December compared to earlier months, suggesting that winter months may have more accidents due to weather conditions like snow, ice, or reduced daylight.</h3>"
   ]
  },
  {
   "cell_type": "markdown",
   "id": "360b7ceb-51b0-4527-8b42-bd638362bfbd",
   "metadata": {},
   "source": [
    "<h2>Insight#17</h2>\n",
    "<h3>District Variation.\n",
    "\n",
    "Accident frequencies differ by district. For example, Aberdeenshire records consistently higher accident counts across all months (ranging from ~49 to 79), while smaller districts like Adur have much lower counts (14–27). This shows that both population density and road activity strongly influence accident numbers.</h3>"
   ]
  },
  {
   "cell_type": "markdown",
   "id": "330addc7-069e-437d-a63f-a4ccebd992fc",
   "metadata": {},
   "source": [
    "<h2>Insight#18</h2>\n",
    "<h3>Mid-Year Stability vs. End-Year Spike.\n",
    "\n",
    "Several districts (Amber Valley, Ashford) show relatively stable accident numbers from April to August, followed by noticeable increases in November–December. This pattern suggests that accident rates are more stable in mid-year months but rise toward year-end.</h3>"
   ]
  },
  {
   "cell_type": "markdown",
   "id": "ce4b7437-6c75-4da7-8088-fefd75998c20",
   "metadata": {},
   "source": [
    "<h2>19-20. In what day of the week record the highest and lowest number of road acccidents?</h2>"
   ]
  },
  {
   "cell_type": "code",
   "execution_count": 29,
   "id": "98b127f8-2cbc-46b8-af69-02b0d19ebaee",
   "metadata": {},
   "outputs": [
    {
     "data": {
      "text/plain": [
       "Day_of_Week\n",
       "5    107178\n",
       "2     99558\n",
       "3     99511\n",
       "4     97900\n",
       "1     94550\n",
       "6     89302\n",
       "0     72680\n",
       "Name: count, dtype: int64"
      ]
     },
     "execution_count": 29,
     "metadata": {},
     "output_type": "execute_result"
    }
   ],
   "source": [
    "day_weeks = road['Day_of_Week'].value_counts()\n",
    "day_weeks"
   ]
  },
  {
   "cell_type": "markdown",
   "id": "a011488c-8351-4ecf-9c11-d7a2efbbbb8f",
   "metadata": {},
   "source": [
    "<h2>Insight#19</h2>\n",
    "<h3>Friday has the highest accidents.\n",
    "\n",
    "Day 5 (Friday) recorded 43,836 accidents, the most among all days. This likely reflects increased traffic from commuters heading into the weekend and higher evening social activity.</h3>"
   ]
  },
  {
   "cell_type": "markdown",
   "id": "3810acfd-406c-490a-838e-d05e6d0c4616",
   "metadata": {},
   "source": [
    "<h2>Insight#20</h2>\n",
    "<h3>Sunday has the lowest accidents.\n",
    "\n",
    "Day 0 (Sunday) recorded only 28,564 accidents, the fewest. This suggests lighter traffic volumes on Sundays reduce the likelihood of accidents compared to weekdays.</h3>"
   ]
  },
  {
   "cell_type": "markdown",
   "id": "1a43488a-d61c-4e8f-8ac2-6bebebc3cc30",
   "metadata": {},
   "source": [
    "<h2>21-22. Which light condition records the highest number of accidents?</h2>"
   ]
  },
  {
   "cell_type": "code",
   "execution_count": null,
   "id": "7d2575cf-1aff-4a25-bb9e-c7745fbb2208",
   "metadata": {},
   "outputs": [],
   "source": [
    "light_accidents = road['Light_Conditions'].value_counts()\n",
    "light_accidents\n"
   ]
  },
  {
   "cell_type": "code",
   "execution_count": null,
   "id": "fe396dfe-c859-40d2-9c4e-fcc2a15770b8",
   "metadata": {},
   "outputs": [],
   "source": [
    "import matplotlib.pyplot as plt"
   ]
  },
  {
   "cell_type": "code",
   "execution_count": null,
   "id": "420cc1cc-08ba-493f-ab45-d5957c45f5a3",
   "metadata": {},
   "outputs": [],
   "source": [
    "light_accidents.plot(kind='bar', color='skyblue', figsize=(8,5))\n",
    "plt.title(\"Number of Accidents by Light Condition\")\n",
    "plt.xlabel(\"Light Condition\")\n",
    "plt.ylabel(\"Number of Accidents\")\n",
    "plt.xticks(rotation=90)\n",
    "plt.show()"
   ]
  },
  {
   "cell_type": "markdown",
   "id": "3b77f20f-be79-41a6-8592-2dbdfa823858",
   "metadata": {},
   "source": [
    "<h2>Insight#21</h2>\n",
    "<h3>Daylight conditions account for the highest number of accidents, which is expected since most vehicles are on the road during daytime.</h3>"
   ]
  },
  {
   "cell_type": "markdown",
   "id": "7912d4b9-9089-4256-9e47-b14af43a9fad",
   "metadata": {},
   "source": [
    "<h2>Insight#22</h2>\n",
    "<h3>Darkness without street lights has the fewest accidents, likely because drivers avoid unlit areas at night.</h3>"
   ]
  },
  {
   "cell_type": "markdown",
   "id": "772557f6-25f1-4790-8ccd-1300e18be1e8",
   "metadata": {},
   "source": [
    "<h2>23-24. How does urban or rural area condition affect accidents?</h2>"
   ]
  },
  {
   "cell_type": "code",
   "execution_count": null,
   "id": "a252c5c6-8753-4de2-b8c7-98453336bedb",
   "metadata": {},
   "outputs": [],
   "source": [
    "# Count accidents by Urban or Rural\n",
    "urban_rural = road['Urban_or_Rural_Area'].value_counts()\n",
    "urban_rural\n",
    "\n"
   ]
  },
  {
   "cell_type": "code",
   "execution_count": null,
   "id": "1290716d-faf1-4ff0-aa04-fce997de3174",
   "metadata": {},
   "outputs": [],
   "source": [
    "\n",
    "urban_rural = road['Urban_or_Rural_Area'].value_counts()\n",
    "urban_rural = urban_rural[urban_rural.index != 'Unallocated']  # remove Unallocated\n",
    "\n",
    "\n",
    "urban_rural.plot(\n",
    "    kind='pie', \n",
    "    autopct='%1.1f%%', \n",
    "    figsize=(6,6), \n",
    "    startangle=90, \n",
    "    colors=['skyblue','orange']\n",
    ")\n",
    "plt.title(\"Urban vs Rural Accidents\")\n",
    "plt.ylabel(\"\")\n",
    "plt.show()\n",
    "\n"
   ]
  },
  {
   "cell_type": "markdown",
   "id": "11c570a5-853a-4993-aa74-e3ac4d141384",
   "metadata": {},
   "source": [
    "<h2>Insight#23:\n",
    "Urban areas account for the majority of accidents (63.8%), showing that higher traffic density and congestion contribute to more frequent collisions.</h2>"
   ]
  },
  {
   "cell_type": "markdown",
   "id": "a4dd2b54-d13d-497c-beaf-12fc05d26e37",
   "metadata": {},
   "source": [
    "<h2>Insight#24:  Rural areas still represent a significant 36.2%, indicating that despite lower traffic volumes, factors like higher speeds and less roadside infrastructure increase accident risks.</h2>"
   ]
  },
  {
   "cell_type": "markdown",
   "id": "83bd8d83-4dd6-4539-9728-9f7fd3bdd6ef",
   "metadata": {},
   "source": [
    "<h2>25-26. How does the number of vehicles involved affect the number of casualties?</h2>"
   ]
  },
  {
   "cell_type": "code",
   "execution_count": null,
   "id": "b471ec33-f1f4-46b1-b08b-ceaea7b05c13",
   "metadata": {},
   "outputs": [],
   "source": [
    "vehicles_casualties = road.groupby('Number_of_Vehicles')['Number_of_Casualties'].mean()\n",
    "vehicles_casualties\n"
   ]
  },
  {
   "cell_type": "code",
   "execution_count": null,
   "id": "5a7feb50-45ef-45bd-a2ac-9584be13f67c",
   "metadata": {},
   "outputs": [],
   "source": [
    "plt.figure(figsize=(7,5))\n",
    "vehicles_casualties.plot(kind='line', marker='o', color='teal')\n",
    "\n",
    "plt.title(\"Average Casualties vs Vehicles Involved\")\n",
    "plt.xlabel(\"Number of Vehicles Involved\")\n",
    "plt.ylabel(\"Average Number of Casualties\")\n",
    "plt.grid(True, linestyle=\"--\", alpha=0.6)\n",
    "plt.show()\n"
   ]
  },
  {
   "cell_type": "markdown",
   "id": "d366c20b-7ffa-49e0-be6a-a90b074ded15",
   "metadata": {},
   "source": [
    "<h2>Insight#25: Accidents with only one vehicle usually have fewer casualties, suggesting they are often single-driver incidents.</h2>"
   ]
  },
  {
   "cell_type": "markdown",
   "id": "53410945-73b7-4b88-a6e2-318598ff32d7",
   "metadata": {},
   "source": [
    "<h2>Insight#26: As more vehicles are involved, the average number of casualties increases, showing that multi-vehicle accidents tend to be more severe.</h2>"
   ]
  },
  {
   "cell_type": "code",
   "execution_count": 31,
   "id": "c785ef21-62f4-478d-878d-e132e5ca8043",
   "metadata": {},
   "outputs": [
    {
     "data": {
      "text/plain": [
       "District Area\n",
       "Birmingham     13491\n",
       "Leeds           8898\n",
       "Manchester      6720\n",
       "Bradford        6212\n",
       "Sheffield       5710\n",
       "Westminster     5706\n",
       "Name: count, dtype: int64"
      ]
     },
     "execution_count": 31,
     "metadata": {},
     "output_type": "execute_result"
    }
   ],
   "source": [
    "road['District Area'].value_counts().head(6)"
   ]
  },
  {
   "cell_type": "code",
   "execution_count": 43,
   "id": "f702c407-69e3-40dc-bd4c-0d4a7480c85d",
   "metadata": {},
   "outputs": [
    {
     "name": "stdout",
     "output_type": "stream",
     "text": [
      "Kensington and Chelsea\n",
      "Westminster\n",
      "Richmond upon Thames\n",
      "Hammersmith and Fulham\n",
      "Hounslow\n",
      "Tower Hamlets\n",
      "City of London\n",
      "Southwark\n",
      "Camden\n",
      "Hackney\n",
      "Islington\n",
      "Barnet\n",
      "Brent\n",
      "Haringey\n",
      "Merton\n",
      "Ealing\n",
      "Enfield\n",
      "Greenwich\n",
      "Newham\n",
      "London Airport (Heathrow)\n",
      "Hillingdon\n",
      "Waltham Forest\n",
      "Redbridge\n",
      "Barking and Dagenham\n",
      "Bromley\n",
      "Havering\n",
      "Croydon\n",
      "Lambeth\n",
      "Wandsworth\n",
      "Sutton\n",
      "Bexley\n",
      "Lewisham\n",
      "Harrow\n",
      "Kingston upon Thames\n",
      "Barrow-in-Furness\n",
      "South Lakeland\n",
      "Carlisle\n",
      "Eden\n",
      "Allerdale\n",
      "Copeland\n",
      "Fylde\n",
      "Blackpool\n",
      "Wyre\n",
      "Lancaster\n",
      "Chorley\n",
      "West Lancashire\n",
      "South Ribble\n",
      "Preston\n",
      "Blackburn with Darwen\n",
      "Hyndburn\n",
      "Ribble Valley\n",
      "Burnley\n",
      "Pendle\n",
      "Rossendale\n",
      "Wirral\n",
      "Liverpool\n",
      "Sefton\n",
      "Knowsley\n",
      "St. Helens\n",
      "Manchester\n",
      "Salford\n",
      "Tameside\n",
      "Stockport\n",
      "Bolton\n",
      "Wigan\n",
      "Trafford\n",
      "Bury\n",
      "Rochdale\n",
      "Oldham\n",
      "Chester\n",
      "Vale Royal\n",
      "Halton\n",
      "Warrington\n",
      "Crewe and ntwich\n",
      "Ellesmere Port and Neston\n",
      "Congleton\n",
      "Macclesfield\n",
      "Crewe and Nantwich\n",
      "Blyth Valley\n",
      "Sunderland\n",
      "Gateshead\n",
      "North Tyneside\n",
      "Tynedale\n",
      "Berwick-upon-Tweed\n",
      "Newcastle upon Tyne\n",
      "Castle Morpeth\n",
      "South Tyneside\n",
      "Wansbeck\n",
      "Alnwick\n",
      "Wear Valley\n",
      "Sedgefield\n",
      "Durham\n",
      "Easington\n",
      "Chester-le-Street\n",
      "Derwentside\n",
      "Teesdale\n",
      "Darlington\n",
      "Craven\n",
      "Hambleton\n",
      "Richmondshire\n",
      "York\n",
      "Harrogate\n",
      "Selby\n",
      "Scarborough\n",
      "Ryedale\n",
      "Kirklees\n",
      "Leeds\n",
      "Wakefield\n",
      "Bradford\n",
      "Calderdale\n",
      "Doncaster\n",
      "Barnsley\n",
      "Sheffield\n",
      "Rotherham\n",
      "North East Lincolnshire\n",
      "North Lincolnshire\n",
      "East Riding of Yorkshire\n",
      "Kingston upon Hull, City of\n",
      "Redcar and Cleveland\n",
      "Hartlepool\n",
      "Middlesbrough\n",
      "Stockton-on-Tees\n",
      "Birmingham\n",
      "Wolverhampton\n",
      "Walsall\n",
      "Dudley\n",
      "Sandwell\n",
      "Solihull\n",
      "Coventry\n",
      "Newcastle-under-Lyme\n",
      "Stafford\n",
      "East Staffordshire\n",
      "South Staffordshire\n",
      "Lichfield\n",
      "Stoke-on-Trent\n",
      "Cannock Chase\n",
      "Tamworth\n",
      "Staffordshire Moorlands\n",
      "Malvern Hills\n",
      "Worcester\n",
      "Wychavon\n",
      "Wyre Forest\n",
      "Redditch\n",
      "Bromsgrove\n",
      "Herefordshire, County of\n",
      "Telford and Wrekin\n",
      "South Shropshire\n",
      "Bridgnorth\n",
      "Shrewsbury and Atcham\n",
      "North Shropshire\n",
      "Oswestry\n",
      "Warwick\n",
      "Stratford-upon-Avon\n",
      "Rugby\n",
      "North Warwickshire\n",
      "Nuneaton and Bedworth\n",
      "Amber Valley\n",
      "Erewash\n",
      "Bolsover\n",
      "High Peak\n",
      "Derbyshire Dales\n",
      "North East Derbyshire\n",
      "Chesterfield\n",
      "Derby\n",
      "South Derbyshire\n",
      "Ashfield\n",
      "Mansfield\n",
      "Newark and Sherwood\n",
      "Bassetlaw\n",
      "Gedling\n",
      "Rushcliffe\n",
      "Nottingham\n",
      "Broxtowe\n",
      "South Holland\n",
      "South Kesteven\n",
      "North Kesteven\n",
      "East Lindsey\n",
      "Boston\n",
      "West Lindsey\n",
      "Lincoln\n",
      "Hinckley and Bosworth\n",
      "Harborough\n",
      "Leicester\n",
      "Rutland\n",
      "Charnwood\n",
      "Melton\n",
      "North West Leicestershire\n",
      "Blaby\n",
      "Oadby and Wigston\n",
      "South Northamptonshire\n",
      "Northampton\n",
      "Kettering\n",
      "Corby\n",
      "Daventry\n",
      "East Northamptonshire\n",
      "Wellingborough\n",
      "South Cambridgeshire\n",
      "Fenland\n",
      "Huntingdonshire\n",
      "Peterborough\n",
      "East Cambridgeshire\n",
      "Cambridge\n",
      "King's Lynn and West Norfolk\n",
      "Norwich\n",
      "Breckland\n",
      "South Norfolk\n",
      "Broadland\n",
      "Great Yarmouth\n",
      "North Norfolk\n",
      "St. Edmundsbury\n",
      "Babergh\n",
      "Mid Suffolk\n",
      "Forest Heath\n",
      "Suffolk Coastal\n",
      "Ipswich\n",
      "Waveney\n",
      "Luton\n",
      "Mid Bedfordshire\n",
      "Bedford\n",
      "South Bedfordshire\n",
      "East Hertfordshire\n",
      "North Hertfordshire\n",
      "Welwyn Hatfield\n",
      "St. Albans\n",
      "Hertsmere\n",
      "Three Rivers\n",
      "Watford\n",
      "Dacorum\n",
      "Broxbourne\n",
      "Stevege\n",
      "Stevenage\n",
      "Epping Forest\n",
      "Brentwood\n",
      "Castle Point\n",
      "Uttlesford\n",
      "Chelmsford\n",
      "Basildon\n",
      "Tendring\n",
      "Colchester\n",
      "Thurrock\n",
      "Braintree\n",
      "Rochford\n",
      "Maldon\n",
      "Southend-on-Sea\n",
      "Harlow\n",
      "Aylesbury Vale\n",
      "Wycombe\n",
      "South Bucks\n",
      "Chiltern\n",
      "Slough\n",
      "Windsor and Maidenhead\n",
      "South Oxfordshire\n",
      "Milton Keynes\n",
      "Cherwell\n",
      "Vale of White Horse\n",
      "West Oxfordshire\n",
      "Oxford\n",
      "Reading\n",
      "West Berkshire\n",
      "Wokingham\n",
      "Bracknell Forest\n",
      "Eastleigh\n",
      "Test Valley\n",
      "Portsmouth\n",
      "Winchester\n",
      "Basingstoke and Deane\n",
      "Southampton\n",
      "Fareham\n",
      "Hart\n",
      "Gosport\n",
      "Havant\n",
      "Isle of Wight\n",
      "East Hampshire\n",
      "Rushmoor\n",
      "New Forest\n",
      "Elmbridge\n",
      "Mole Valley\n",
      "Guildford\n",
      "Spelthorne\n",
      "Epsom and Ewell\n",
      "Runnymede\n",
      "Woking\n",
      "Reigate and Banstead\n",
      "Surrey Heath\n",
      "Waverley\n",
      "Tandridge\n",
      "Medway\n",
      "Thanet\n",
      "Shepway\n",
      "Ashford\n",
      "Maidstone\n",
      "Dover\n",
      "Tunbridge Wells\n",
      "Canterbury\n",
      "Tonbridge and Malling\n",
      "Swale\n",
      "Dartford\n",
      "Sevenoaks\n",
      "Gravesham\n",
      "Brighton and Hove\n",
      "Chichester\n",
      "Rother\n",
      "Lewes\n",
      "Wealden\n",
      "Eastbourne\n",
      "Hastings\n",
      "Crawley\n",
      "Horsham\n",
      "Mid Sussex\n",
      "Arun\n",
      "Adur\n",
      "Worthing\n",
      "Kerrier\n",
      "Restormel\n",
      "Carrick\n",
      "Penwith\n",
      "North Cornwall\n",
      "West Devon\n",
      "Torridge\n",
      "Caradon\n",
      "North Devon\n",
      "Mid Devon\n",
      "Exeter\n",
      "East Devon\n",
      "Teignbridge\n",
      "Plymouth\n",
      "South Hams\n",
      "Torbay\n",
      "Bristol, City of\n",
      "South Somerset\n",
      "Sedgemoor\n",
      "Mendip\n",
      "Taunton Deane\n",
      "South Gloucestershire\n",
      "North Somerset\n",
      "Bath and North East Somerset\n",
      "West Somerset\n",
      "Stroud\n",
      "Tewkesbury\n",
      "Gloucester\n",
      "Cotswold\n",
      "Cheltenham\n",
      "Forest of Dean\n",
      "Salisbury\n",
      "Kennet\n",
      "West Wiltshire\n",
      "North Wiltshire\n",
      "Swindon\n",
      "Bournemouth\n",
      "Poole\n",
      "East Dorset\n",
      "West Dorset\n",
      "Weymouth and Portland\n",
      "Christchurch\n",
      "Purbeck\n",
      "North Dorset\n",
      "Isle of Anglesey\n",
      "Conwy\n",
      "Denbighshire\n",
      "Flintshire\n",
      "Wrexham\n",
      "Gwynedd\n",
      "Monmouthshire\n",
      "Newport\n",
      "Caerphilly\n",
      "Torfaen\n",
      "Blaeu Gwent\n",
      "Blaenau Gwent\n",
      "Merthyr Tydfil\n",
      "The Vale of Glamorgan\n",
      "Cardiff\n",
      "Rhondda, Cynon, Taff\n",
      "Swansea\n",
      "Bridgend\n",
      "Neath Port Talbot\n",
      "Carmarthenshire\n",
      "Ceredigion\n",
      "Pembrokeshire\n",
      "Powys\n",
      "Highland\n",
      "Western Isles\n",
      "Orkney Islands\n",
      "Shetland Islands\n",
      "Aberdeenshire\n",
      "Moray\n",
      "Aberdeen City\n",
      "Dundee City\n",
      "Angus\n",
      "Perth and Kinross\n",
      "Fife\n",
      "East Lothian\n",
      "Midlothian\n",
      "Scottish Borders\n",
      "Edinburgh, City of\n",
      "West Lothian\n",
      "Falkirk\n",
      "Clackmannanshire\n",
      "Stirling\n",
      "Clackmannshire\n",
      "Glasgow City\n",
      "East Dunbartonshire\n",
      "North Larkshire\n",
      "North Lanarkshire\n",
      "Renfrewshire\n",
      "East Renfrewshire\n",
      "East Ayrshire\n",
      "South Larkshire\n",
      "Inverclyde\n",
      "West Dunbartonshire\n",
      "Argyll and Bute\n",
      "South Lanarkshire\n",
      "North Ayrshire\n",
      "South Ayrshire\n",
      "Dumfries and Galloway\n",
      "Cheshire East\n",
      "Cheshire West and Chester\n",
      "Northumberland\n",
      "County Durham\n",
      "Shropshire\n",
      "Central Bedfordshire\n",
      "Cornwall\n",
      "Wiltshire\n"
     ]
    }
   ],
   "source": [
    "for i in road['District Area'].unique(): \n",
    "    print(i)"
   ]
  },
  {
   "cell_type": "markdown",
   "id": "5c151023-2060-4721-95ec-93cf31fcb855",
   "metadata": {},
   "source": [
    "<h1>Insight#27 OXFORD DATA VISUALIZATION</h1>\n",
    "<img src='\"C:\\Users\\63968\\Downloads\\bbo-th-location-image-1-1.jpg\"'/>"
   ]
  },
  {
   "cell_type": "code",
   "execution_count": 51,
   "id": "5cf7ce36-9a22-4368-a6ab-e091c4b74715",
   "metadata": {},
   "outputs": [],
   "source": [
    "oxford_road = road[road['District Area'] == 'Oxford']"
   ]
  },
  {
   "cell_type": "markdown",
   "id": "0c95eae5-d147-4da5-8131-6ad6b78232b5",
   "metadata": {},
   "source": [
    "<h2>1. Monthly Road Accidents by year in Oxford</h2>"
   ]
  },
  {
   "cell_type": "code",
   "execution_count": 55,
   "id": "cec2376a-8bcc-4724-86f2-53999ac780b6",
   "metadata": {},
   "outputs": [
    {
     "data": {
      "image/png": "[encoded data removed]",
      "text/plain": [
       "<Figure size 1000x500 with 1 Axes>"
      ]
     },
     "metadata": {},
     "output_type": "display_data"
    }
   ],
   "source": [
    "monthly_oxdata = oxford_road.groupby(['Year', 'Month']).size()\n",
    "\n",
    "monthly_oxdata = monthly_oxdata.unstack(level=0)\n",
    "\n",
    "monthly_oxdata.plot(\n",
    "    marker='o', \n",
    "    figsize=(10, 5),\n",
    "    title='Monthly Road Accidents in Oxford by Year (2019-2022)'\n",
    ")\n",
    "plt.xticks(range(1, 13), ['Jan','Feb','Mar','Apr','May','Jun','Jul','Aug','Sep','Oct','Nov','Dec'])\n",
    "plt.legend(title='Yearly Accident Comparison', bbox_to_anchor = (1.05,1), loc='upper left')\n",
    "plt.grid(alpha=0.3)\n",
    "plt.show()"
   ]
  },
  {
   "cell_type": "markdown",
   "id": "86a08a52-b1f6-4201-b4e8-5be88b8ecaed",
   "metadata": {},
   "source": [
    "<h2>2.Accidents per Year</h2>\n",
    "<h2>3.Accidents per Month</h2>\n",
    "<h2>4.Accidents per Day</h2>"
   ]
  },
  {
   "cell_type": "code",
   "execution_count": 54,
   "id": "b5e63b4f-539e-4121-9008-4660a824d464",
   "metadata": {},
   "outputs": [
    {
     "data": {
      "image/png": "[encoded data removed]",
      "text/plain": [
       "<Figure size 1400x1200 with 3 Axes>"
      ]
     },
     "metadata": {},
     "output_type": "display_data"
    }
   ],
   "source": [
    "# Accidents per year\n",
    "accidents_per_year = oxford_road['Year'].value_counts().sort_index()\n",
    "accidents_per_month = oxford_road['Month'].value_counts().sort_index()\n",
    "accidents_per_day = oxford_road['DayOfWeek'].value_counts().sort_index()\n",
    "\n",
    "\n",
    "#PER YEAR \n",
    "plt.subplot(2, 2, 1) # this just makes the pie plot next to each others by specifying which rows and columns to put it in and in what order (rows, cols, position(order)).\n",
    "accidents_per_year.plot(kind='bar')\n",
    "plt.title('Accidents per Year')\n",
    "plt.xlabel('Year')\n",
    "plt.ylabel('Number of Accidents')\n",
    "plt.xticks(rotation=45) # It just make the x-labels slightly bent so that it can be read more easily\n",
    "\n",
    "month_names = {\n",
    "    1: 'January', 2: 'February', 3: 'March', 4: 'April',\n",
    "    5: 'May', 6: 'June', 7: 'July', 8: 'August',\n",
    "    9: 'September', 10: 'October', 11: 'November', 12: 'December'\n",
    "}\n",
    "\n",
    "#PER MONTH\n",
    "# Replace numerical months with their names\n",
    "accidents_per_month.index = accidents_per_month.index.map(month_names)\n",
    "\n",
    "plt.subplot(2, 2, 2)\n",
    "accidents_per_month.plot(kind='bar')\n",
    "plt.title('Accidents per Month')\n",
    "plt.xlabel('Month')\n",
    "plt.ylabel('Number of Accidents')\n",
    "plt.xticks(rotation=45)\n",
    "\n",
    "#PER DAY\n",
    "day_names = {\n",
    "    0: 'Monday',\n",
    "    1: 'Tuesday',\n",
    "    2: 'Wednesday',\n",
    "    3: 'Thursday',\n",
    "    4: 'Friday',\n",
    "    5: 'Saturday',\n",
    "    6: 'Sunday'\n",
    "}\n",
    "\n",
    "plt.subplot(2, 2, 3)\n",
    "accidents_per_day.index = accidents_per_day.index.map(day_names) # To make the labels in the Accident Per Days be Monday-Sunday instead of numbers.\n",
    "accidents_per_day.plot(kind='bar')\n",
    "plt.title('Accidents per Day')\n",
    "plt.xlabel('Day of the Week')\n",
    "plt.ylabel('Number of Accidents')\n",
    "plt.xticks(rotation=45)\n",
    "\n",
    "plt.gcf().set_size_inches(14, 12)\n",
    "plt.tight_layout()\n",
    "plt.show()\n"
   ]
  },
  {
   "cell_type": "markdown",
   "id": "8e068bdc-2bd5-48e5-9217-cac68198772f",
   "metadata": {},
   "source": [
    "<h2>5. Accident Severity</h2>"
   ]
  },
  {
   "cell_type": "code",
   "execution_count": 57,
   "id": "13c0bb80-56cf-4c88-843d-03cfc0a24333",
   "metadata": {},
   "outputs": [
    {
     "data": {
      "image/png": "[encoded data removed]",
      "text/plain": [
       "<Figure size 1200x600 with 2 Axes>"
      ]
     },
     "metadata": {},
     "output_type": "display_data"
    }
   ],
   "source": [
    "# Pie chart for all years\n",
    "plt.subplot(1, 2, 1) # this just makes the pie plot next to each others by specifying which rows and columns to put it in and in what order (rows, cols, position(order)).\n",
    "severity_oxford = oxford_road['Accident_Severity'].value_counts()\n",
    "plt.pie(severity_oxford,\n",
    "        labels=severity_oxford.index,\n",
    "        autopct='%1.1f%%',\n",
    "        startangle=90)\n",
    "plt.title('Accident Severity (2019-2022)')\n",
    "\n",
    "# Pie chart for 2019\n",
    "plt.subplot(1, 2, 2)\n",
    "severity_2019_oxford = oxford_road[oxford_road['Year'] == 2019]\n",
    "lsc_2019 = severity_2019_oxford['Accident_Severity'].value_counts()\n",
    "plt.pie(lsc_2019,\n",
    "        labels=lsc_2019.index,\n",
    "        autopct='%1.1f%%',\n",
    "        startangle=90)\n",
    "plt.title('Accident Severity (2019)')\n",
    "\n",
    "plt.gcf().set_size_inches(12, 6)  # To make it wider\n",
    "# plt.tight_layout() # this just adds enough padding to make everything fit cleanly\n",
    "plt.show()\n"
   ]
  },
  {
   "cell_type": "markdown",
   "id": "71cd57b1-94aa-4558-8d21-36d955027968",
   "metadata": {},
   "source": [
    "<h2>6. Map Location using folium(Heatmap)</h2>"
   ]
  },
  {
   "cell_type": "code",
   "execution_count": 60,
   "id": "453349cc-7fb0-4bb7-b304-c3e6deb9ce12",
   "metadata": {},
   "outputs": [
    {
     "data": {
      "text/html": [
       "<div style=\"width:100%;\"><div style=\"position:relative;width:100%;height:0;padding-bottom:60%;\"><span style=\"color:#565656\">Make this Notebook Trusted to load map: File -> Trust Notebook</span><iframe srcdoc=\"&lt;!DOCTYPE html&gt;\n",
       "&lt;html&gt;\n",
       "&lt;head&gt;\n",
       "    \n",
       "    &lt;meta http-equiv=&quot;content-type&quot; content=&quot;text/html; charset=UTF-8&quot; /&gt;\n",
       "    &lt;script src=&quot;https://cdn.jsdelivr.net/npm/leaflet@1.9.3/dist/leaflet.js&quot;&gt;&lt;/script&gt;\n",
       "    &lt;script src=&quot;https://code.jquery.com/jquery-3.7.1.min.js&quot;&gt;&lt;/script&gt;\n",
       "    &lt;script src=&quot;https://cdn.jsdelivr.net/npm/bootstrap@5.2.2/dist/js/bootstrap.bundle.min.js&quot;&gt;&lt;/script&gt;\n",
       "    &lt;script src=&quot;https://cdnjs.cloudflare.com/ajax/libs/Leaflet.awesome-markers/2.0.2/leaflet.awesome-markers.js&quot;&gt;&lt;/script&gt;\n",
       "    &lt;link rel=&quot;stylesheet&quot; href=&quot;https://cdn.jsdelivr.net/npm/leaflet@1.9.3/dist/leaflet.css&quot;/&gt;\n",
       "    &lt;link rel=&quot;stylesheet&quot; href=&quot;https://cdn.jsdelivr.net/npm/bootstrap@5.2.2/dist/css/bootstrap.min.css&quot;/&gt;\n",
       "    &lt;link rel=&quot;stylesheet&quot; href=&quot;https://netdna.bootstrapcdn.com/bootstrap/3.0.0/css/bootstrap-glyphicons.css&quot;/&gt;\n",
       "    &lt;link rel=&quot;stylesheet&quot; href=&quot;https://cdn.jsdelivr.net/npm/@fortawesome/fontawesome-free@6.2.0/css/all.min.css&quot;/&gt;\n",
       "    &lt;link rel=&quot;stylesheet&quot; href=&quot;https://cdnjs.cloudflare.com/ajax/libs/Leaflet.awesome-markers/2.0.2/leaflet.awesome-markers.css&quot;/&gt;\n",
       "    &lt;link rel=&quot;stylesheet&quot; href=&quot;https://cdn.jsdelivr.net/gh/python-visualization/folium/folium/templates/leaflet.awesome.rotate.min.css&quot;/&gt;\n",
       "    \n",
       "            &lt;meta name=&quot;viewport&quot; content=&quot;width=device-width,\n",
       "                initial-scale=1.0, maximum-scale=1.0, user-scalable=no&quot; /&gt;\n",
       "            &lt;style&gt;\n",
       "                #map_943ad5538549a04e9553472b142ce2a4 {\n",
       "                    position: relative;\n",
       "                    width: 100.0%;\n",
       "                    height: 100.0%;\n",
       "                    left: 0.0%;\n",
       "                    top: 0.0%;\n",
       "                }\n",
       "                .leaflet-container { font-size: 1rem; }\n",
       "            &lt;/style&gt;\n",
       "\n",
       "            &lt;style&gt;html, body {\n",
       "                width: 100%;\n",
       "                height: 100%;\n",
       "                margin: 0;\n",
       "                padding: 0;\n",
       "            }\n",
       "            &lt;/style&gt;\n",
       "\n",
       "            &lt;style&gt;#map {\n",
       "                position:absolute;\n",
       "                top:0;\n",
       "                bottom:0;\n",
       "                right:0;\n",
       "                left:0;\n",
       "                }\n",
       "            &lt;/style&gt;\n",
       "\n",
       "            &lt;script&gt;\n",
       "                L_NO_TOUCH = false;\n",
       "                L_DISABLE_3D = false;\n",
       "            &lt;/script&gt;\n",
       "\n",
       "        \n",
       "    &lt;script src=&quot;https://cdn.jsdelivr.net/gh/python-visualization/folium@main/folium/templates/leaflet_heat.min.js&quot;&gt;&lt;/script&gt;\n",
       "&lt;/head&gt;\n",
       "&lt;body&gt;\n",
       "    \n",
       "    \n",
       "            &lt;div class=&quot;folium-map&quot; id=&quot;map_943ad5538549a04e9553472b142ce2a4&quot; &gt;&lt;/div&gt;\n",
       "        \n",
       "&lt;/body&gt;\n",
       "&lt;script&gt;\n",
       "    \n",
       "    \n",
       "            var map_943ad5538549a04e9553472b142ce2a4 = L.map(\n",
       "                &quot;map_943ad5538549a04e9553472b142ce2a4&quot;,\n",
       "                {\n",
       "                    center: [51.75244813933415, -1.235492709617756],\n",
       "                    crs: L.CRS.EPSG3857,\n",
       "                    ...{\n",
       "  &quot;zoom&quot;: 12,\n",
       "  &quot;zoomControl&quot;: true,\n",
       "  &quot;preferCanvas&quot;: false,\n",
       "}\n",
       "\n",
       "                }\n",
       "            );\n",
       "\n",
       "            \n",
       "\n",
       "        \n",
       "    \n",
       "            var tile_layer_339dd0ba1d75768d447e350a09510a68 = L.tileLayer(\n",
       "                &quot;https://tile.openstreetmap.org/{z}/{x}/{y}.png&quot;,\n",
       "                {\n",
       "  &quot;minZoom&quot;: 0,\n",
       "  &quot;maxZoom&quot;: 19,\n",
       "  &quot;maxNativeZoom&quot;: 19,\n",
       "  &quot;noWrap&quot;: false,\n",
       "  &quot;attribution&quot;: &quot;\\u0026copy; \\u003ca href=\\&quot;https://www.openstreetmap.org/copyright\\&quot;\\u003eOpenStreetMap\\u003c/a\\u003e contributors&quot;,\n",
       "  &quot;subdomains&quot;: &quot;abc&quot;,\n",
       "  &quot;detectRetina&quot;: false,\n",
       "  &quot;tms&quot;: false,\n",
       "  &quot;opacity&quot;: 1,\n",
       "}\n",
       "\n",
       "            );\n",
       "        \n",
       "    \n",
       "            tile_layer_339dd0ba1d75768d447e350a09510a68.addTo(map_943ad5538549a04e9553472b142ce2a4);\n",
       "        \n",
       "    \n",
       "            var heat_map_3c1ec7595b1ec5b9df962190f4275d43 = L.heatLayer(\n",
       "                [[51.751607, -1.222914], [51.733901, -1.210474], [51.763211, -1.196777], [51.737101, -1.218384], [51.735308, -1.232751], [51.758094, -1.252649], [51.731681, -1.214567], [51.759014, -1.214383], [51.759153, -1.22177], [51.765251, -1.261081], [51.748593, -1.243246], [51.752618, -1.268241], [51.737853, -1.209826], [51.76471, -1.260945], [51.751404, -1.246965], [51.767863, -1.261763], [51.781923, -1.267187], [51.76275, -1.18215], [51.77247, -1.265311], [51.749768, -1.24424], [51.762025, -1.262872], [51.73674, -1.204777], [51.747927, -1.237607], [51.784271, -1.268744], [51.73723, -1.197527], [51.75733, -1.259761], [51.753645, -1.259966], [51.792727, -1.284122], [51.747285, -1.23559], [51.759808, -1.212196], [51.748733, -1.237014], [51.746735, -1.234006], [51.769099, -1.203194], [51.752544, -1.27085], [51.771735, -1.262714], [51.757801, -1.1947], [51.75246, -1.27172], [51.777538, -1.270447], [51.737489, -1.236335], [51.732165, -1.219772], [51.73739, -1.207807], [51.755551, -1.248635], [51.758889, -1.264662], [51.761935, -1.262874], [51.771459, -1.219964], [51.765341, -1.261079], [51.73146, -1.249613], [51.752545, -1.270994], [51.75253, -1.268532], [51.724992, -1.209326], [51.7324, -1.214555], [51.724294, -1.212524], [51.752352, -1.254627], [51.765763, -1.228902], [51.749493, -1.243375], [51.734793, -1.250572], [51.776571, -1.231617], [51.732593, -1.216579], [51.745409, -1.237505], [51.766153, -1.233533], [51.751919, -1.257242], [51.76321, -1.196632], [51.791035, -1.272114], [51.782554, -1.267467], [51.770669, -1.236645], [51.735504, -1.208129], [51.75904, -1.260023], [51.767233, -1.261773], [51.750548, -1.239591], [51.726357, -1.225229], [51.778623, -1.271444], [51.768853, -1.262036], [51.728688, -1.21071], [51.759058, -1.194387], [51.768493, -1.261897], [51.752319, -1.249413], [51.788034, -1.281296], [51.735346, -1.19814], [51.75302, -1.260701], [51.749767, -1.244095], [51.730325, -1.213577], [51.751856, -1.261444], [51.750893, -1.237413], [51.756901, -1.221229], [51.752584, -1.248684], [51.748326, -1.257736], [51.739644, -1.22225], [51.735256, -1.198141], [51.723678, -1.214561], [51.731143, -1.2014], [51.767581, -1.231769], [51.741827, -1.225978], [51.75075, -1.257116], [51.741449, -1.196439], [51.768403, -1.261899], [51.761124, -1.207246], [51.78023, -1.241267], [51.751173, -1.26725], [51.734415, -1.247682], [51.76698, -1.209028], [51.738584, -1.252826], [51.757173, -1.263386], [51.746881, -1.256745], [51.76025, -1.266524], [51.764401, -1.226752], [51.728268, -1.215206], [51.76264, -1.260544], [51.757872, -1.260187], [51.751221, -1.246389], [51.756973, -1.260202], [51.762676, -1.197511], [51.748864, -1.243386], [51.749856, -1.243949], [51.769308, -1.234639], [51.727698, -1.197262], [51.777504, -1.265084], [51.728688, -1.21071], [51.764889, -1.260797], [51.758436, -1.235837], [51.760519, -1.224355], [51.759604, -1.195247], [51.733468, -1.199621], [51.727243, -1.196546], [51.762508, -1.199253], [51.757962, -1.260186], [51.757341, -1.219773], [51.728426, -1.225483], [51.731437, -1.218481], [51.751921, -1.257532], [51.755171, -1.259507], [51.78793, -1.278978], [51.737556, -1.219245], [51.737411, -1.252122], [51.763616, -1.203435], [51.730531, -1.204017], [51.747746, -1.237321], [51.758661, -1.256987], [51.776602, -1.264664], [51.726958, -1.23463], [51.785065, -1.252059], [51.752762, -1.220721], [51.760596, -1.208994], [51.734003, -1.21221], [51.752774, -1.264472], [51.733447, -1.209758], [51.775465, -1.255406], [51.751571, -1.258986], [51.725357, -1.223654], [51.726799, -1.224063], [51.787349, -1.25782], [51.752131, -1.220442], [51.732434, -1.219623], [51.748251, -1.260055], [51.748742, -1.238463], [51.75487, -1.254586], [51.780698, -1.27257], [51.75291, -1.257516], [51.720637, -1.203612], [51.732073, -1.219484], [51.757607, -1.219189], [51.752306, -1.275924], [51.750291, -1.241624], [51.784361, -1.268742], [51.735578, -1.232891], [51.741163, -1.23439], [51.731501, -1.214571], [51.771078, -1.230406], [51.764585, -1.213852], [51.725267, -1.223655], [51.752616, -1.267951], [51.772932, -1.267188], [51.732191, -1.223681], [51.766897, -1.265546], [51.734502, -1.247246], [51.756612, -1.259918], [51.769861, -1.223035], [51.75075, -1.257116], [51.755169, -1.259217], [51.751832, -1.257678], [51.736205, -1.192187], [51.76007, -1.211032], [51.775459, -1.268741], [51.735373, -1.242887], [51.759131, -1.260166], [51.788034, -1.281296], [51.751313, -1.246677], [51.791305, -1.27211], [51.76489, -1.260942], [51.752094, -1.25637], [51.743021, -1.202784], [51.732164, -1.219627], [51.771736, -1.262859], [51.748664, -1.240347], [51.745641, -1.231707], [51.78767, -1.280432], [51.763393, -1.197208], [51.752613, -1.267516], [51.75526, -1.25936], [51.722403, -1.185774], [51.77033, -1.225926], [51.757582, -1.188908], [51.739826, -1.222537], [51.763118, -1.196344], [51.748942, -1.241501], [51.766692, -1.261492], [51.751313, -1.246677], [51.752307, -1.276069], [51.731039, -1.226307], [51.727431, -1.224487], [51.749398, -1.256704], [51.741727, -1.197592], [51.72887, -1.210996], [51.734811, -1.198729], [51.762421, -1.199689], [51.74499, -1.256342], [51.720532, -1.201297], [51.733891, -1.250152], [51.729261, -1.202447], [51.75215, -1.237102], [51.754164, -1.256771], [51.752691, -1.25129], [51.724954, -1.203681], [51.738198, -1.23473], [51.749856, -1.243949], [51.786891, -1.256523], [51.738612, -1.215751], [51.745731, -1.231706], [51.726979, -1.224205], [51.752533, -1.269111], [51.746246, -1.201134], [51.752803, -1.269107], [51.742641, -1.226689], [51.741537, -1.196147], [51.752134, -1.248547], [51.754564, -1.263139], [51.741646, -1.239596], [51.730712, -1.204159], [51.752094, -1.25637], [51.756021, -1.251814], [51.739101, -1.235294], [51.731004, -1.248607], [51.791194, -1.283421], [51.762278, -1.191867], [51.749215, -1.201371], [51.724228, -1.216144], [51.752343, -1.267521], [51.750289, -1.241334], [51.729889, -1.202146], [51.715597, -1.216149], [51.734703, -1.250573], [51.750419, -1.261757], [51.762751, -1.182295], [51.734459, -1.213216], [51.731901, -1.207179], [51.729731, -1.2188], [51.748635, -1.263959], [51.734461, -1.213506], [51.738192, -1.220103], [51.758432, -1.194833], [51.73492, -1.214946], [51.733891, -1.250152], [51.736647, -1.217667], [51.765422, -1.191521], [51.763609, -1.18938], [51.747653, -1.236888], [51.764659, -1.1982], [51.752459, -1.271575], [51.759454, -1.213071], [51.732287, -1.224548], [51.762751, -1.182295], [51.763992, -1.192706], [51.732401, -1.2147], [51.724366, -1.223381], [51.757552, -1.252224], [51.788027, -1.280136], [51.724547, -1.223523], [51.770951, -1.266785], [51.75751, -1.259758], [51.734314, -1.232044], [51.752315, -1.248833], [51.76426, -1.260807], [51.726213, -1.190628], [51.760251, -1.211174], [51.736194, -1.217241], [51.748352, -1.261936], [51.762751, -1.182295], [51.757872, -1.260187], [51.752527, -1.282729], [51.787968, -1.270569], [51.750806, -1.224087], [51.760597, -1.209139], [51.739035, -1.253109], [51.758979, -1.250316], [51.771836, -1.236335], [51.742177, -1.238283], [51.76183, -1.260412], [51.728361, -1.215639], [51.77395, -1.229632], [51.735346, -1.19814], [51.750286, -1.240899], [51.745821, -1.231704], [51.752411, -1.249701], [51.75474, -1.207213], [51.749183, -1.265399], [51.756021, -1.251814], [51.78923, -1.270983], [51.7363, -1.19291], [51.712301, -1.220838], [51.783277, -1.268035], [51.75269, -1.265487], [51.77023, -1.266507], [51.749767, -1.244095], [51.732405, -1.228891], [51.758534, -1.2099], [51.74947, -1.239754], [51.739447, -1.206178], [51.779307, -1.26578], [51.729641, -1.218802], [51.75634, -1.259633], [51.752351, -1.254483], [51.75312, -1.291557], [51.732587, -1.215565], [51.764621, -1.260946], [51.754828, -1.262265], [51.7387, -1.21546], [51.760885, -1.267528], [51.755079, -1.259219], [51.751923, -1.257822], [51.749217, -1.242366], [51.739655, -1.19705], [51.761123, -1.207102], [51.767707, -1.265678], [51.746979, -1.203149], [51.759454, -1.212927], [51.757894, -1.263664], [51.78793, -1.278978], [51.755502, -1.25501], [51.734528, -1.210029], [51.789479, -1.282288], [51.7391, -1.221535], [51.758104, -1.254098], [51.770595, -1.225341], [51.747377, -1.235878], [51.752426, -1.280847], [51.785537, -1.284525], [51.744909, -1.229837], [51.763574, -1.19735], [51.749769, -1.244385], [51.737229, -1.197382], [51.759218, -1.25973], [51.752829, -1.288085], [51.756881, -1.259769], [51.791033, -1.271824], [51.724723, -1.209476], [51.753397, -1.263447], [51.735127, -1.232609], [51.753294, -1.206225], [51.753117, -1.290977], [51.731897, -1.206599], [51.78084, -1.26648], [51.762759, -1.196495], [51.750163, -1.235687], [51.725328, -1.192671], [51.751832, -1.257678], [51.788034, -1.281151], [51.746444, -1.230824], [51.757262, -1.194709], [51.773021, -1.267041], [51.731771, -1.201244], [51.729351, -1.202445], [51.762083, -1.202883], [51.748571, -1.239769], [51.721918, -1.1936], [51.738017, -1.234588], [51.770776, -1.225483], [51.728688, -1.21071], [51.751153, -1.195397], [51.732681, -1.216288], [51.751079, -1.238279], [51.738945, -1.25311], [51.724374, -1.224539], [51.753397, -1.263447], [51.73569, -1.208995], [51.752319, -1.249413], [51.777684, -1.265081], [51.775083, -1.266138], [51.737926, -1.234445], [51.725351, -1.209175], [51.752582, -1.220724], [51.76456, -1.196898], [51.762944, -1.197216], [51.715683, -1.202251], [51.725328, -1.192671], [51.749768, -1.24424], [51.752671, -1.220578], [51.762221, -1.19665], [51.741636, -1.197449], [51.766069, -1.234404], [51.741565, -1.25495], [51.749856, -1.243949], [51.721291, -1.193901], [51.759417, -1.220896], [51.760597, -1.209139], [51.754012, -1.261119], [51.732715, -1.207888], [51.791214, -1.271966], [51.773924, -1.225574], [51.762766, -1.197509], [51.718267, -1.198731], [51.741009, -1.224689], [51.729616, -1.201716], [51.739934, -1.225287], [51.732076, -1.206452], [51.765776, -1.203832], [51.728778, -1.210708], [51.724367, -1.223526], [51.764981, -1.261085], [51.737556, -1.2191], [51.752006, -1.256661], [51.752315, -1.248833], [51.723931, -1.22556], [51.767863, -1.261763], [51.763403, -1.225465], [51.752028, -1.260138], [51.752427, -1.280992], [51.734554, -1.213938], [51.759368, -1.213652], [51.752092, -1.25608], [51.753234, -1.266203], [51.767168, -1.265687], [51.754989, -1.25922], [51.749856, -1.243949], [51.751651, -1.257536], [51.766816, -1.198017], [51.749021, -1.226145], [51.757341, -1.219773], [51.758976, -1.235972], [51.746369, -1.232998], [51.744637, -1.229407], [51.741449, -1.196439], [51.744376, -1.230715], [51.732625, -1.20789], [51.723207, -1.21124], [51.725706, -1.235665], [51.757872, -1.260187], [51.751791, -1.237253], [51.760522, -1.266954], [51.731988, -1.206743], [51.757872, -1.260187], [51.730826, -1.221243], [51.75004, -1.244525], [51.750126, -1.243944], [51.748665, -1.226731], [51.787969, -1.270713], [51.754265, -1.258508], [51.723183, -1.22123], [51.763118, -1.196344], [51.746736, -1.234151], [51.750219, -1.244377], [51.752307, -1.276069], [51.758792, -1.194972], [51.75822, -1.216715], [51.749767, -1.24395], [51.788302, -1.280857], [51.723684, -1.20211], [51.752694, -1.266066], [51.773178, -1.263415], [51.771437, -1.230255], [51.74238, -1.227997], [51.755641, -1.248633], [51.762101, -1.260553], [51.777324, -1.265087], [51.749003, -1.265257], [51.757163, -1.220066], [51.792458, -1.284271], [51.778225, -1.265362], [51.777124, -1.233637], [51.743132, -1.233053], [51.757823, -1.252364], [51.776113, -1.23032], [51.768433, -1.224654], [51.78824, -1.270854], [51.747561, -1.2366], [51.752093, -1.256225], [51.779487, -1.265777], [51.787878, -1.27057], [51.776182, -1.269309], [51.743897, -1.239993], [51.752009, -1.257241], [51.758133, -1.217151], [51.744999, -1.229835], [51.788056, -1.270132], [51.712393, -1.221125], [51.762038, -1.196218], [51.74295, -1.232767], [51.762277, -1.191722], [51.722008, -1.23399], [51.723929, -1.225271], [51.734586, -1.218717], [51.787968, -1.270424], [51.773226, -1.271096], [51.75247, -1.273458], [51.751858, -1.247537], [51.731129, -1.226306], [51.756994, -1.263534], [51.726123, -1.190485], [51.728687, -1.210565], [51.760341, -1.211172], [51.757577, -1.256135], [51.756374, -1.223122], [51.750115, -1.242206], [51.74364, -1.256074], [51.752611, -1.252885], [51.734184, -1.212352], [51.752606, -1.252016], [51.778468, -1.305365], [51.783712, -1.280205], [51.727478, -1.20465], [51.757895, -1.235701], [51.778315, -1.265361], [51.756286, -1.223413], [51.718725, -1.200026], [51.751858, -1.247537], [51.74411, -1.231299], [51.76312, -1.196634], [51.747376, -1.235734], [51.753819, -1.259094], [51.732491, -1.214698], [51.753146, -1.266494], [51.752331, -1.27998], [51.75059, -1.205258], [51.753473, -1.261273], [51.757802, -1.263376], [51.723349, -1.232809], [51.732509, -1.217449], [51.740828, -1.224402], [51.737646, -1.219243], [51.763585, -1.225751], [51.763403, -1.225465], [51.760401, -1.261884], [51.750584, -1.259437], [51.755551, -1.248635], [51.731258, -1.205163], [51.75209, -1.255791], [51.75195, -1.24797], [51.752687, -1.236658], [51.726123, -1.190485], [51.752545, -1.270994], [51.762171, -1.189405], [51.729341, -1.200997], [51.758534, -1.2099], [51.762277, -1.191722], [51.733022, -1.213386], [51.746814, -1.232411], [51.77404, -1.229631], [51.76281, -1.258947], [51.752321, -1.222032], [51.732165, -1.219772], [51.734092, -1.212064], [51.760145, -1.208713], [51.739191, -1.235437], [51.752414, -1.250135], [51.762944, -1.197216], [51.752614, -1.267661], [51.75998, -1.211034], [51.751651, -1.257536], [51.767857, -1.219157], [51.769407, -1.222318], [51.76231, -1.237075], [51.737101, -1.218384], [51.741359, -1.19644], [51.747927, -1.237607], [51.752673, -1.220867], [51.775465, -1.255406], [51.742828, -1.255653], [51.760597, -1.209139], [51.762673, -1.197076], [51.752411, -1.235793], [51.728266, -1.214916], [51.752615, -1.267806], [51.762367, -1.19172], [51.73801, -1.219816], [51.753061, -1.267219], [51.735145, -1.221748], [51.7679, -1.198867], [51.776243, -1.26467], [51.753082, -1.256209], [51.774293, -1.227017], [51.752611, -1.267227], [51.734551, -1.213504], [51.752011, -1.25753], [51.940646, -1.202195], [51.753983, -1.256629], [51.762082, -1.202738], [51.740022, -1.224995], [51.736303, -1.193344], [51.760408, -1.234934], [51.752315, -1.248833], [51.753246, -1.212455], [51.752694, -1.251724], [51.752694, -1.251869], [51.749607, -1.233233], [51.76275, -1.18215], [51.758881, -1.194825], [51.732932, -1.200065], [51.752606, -1.25216], [51.722815, -1.206469], [51.788343, -1.273027], [51.747522, -1.203574], [51.73801, -1.219816], [51.734793, -1.250572], [51.738191, -1.219958], [51.752343, -1.267376], [51.75045, -1.224672], [51.729171, -1.202303], [51.741191, -1.224975], [51.787878, -1.27057], [51.751311, -1.205535], [51.724284, -1.224541], [51.753209, -1.291411], [51.762848, -1.196349], [51.740451, -1.221802], [51.762127, -1.236499], [51.749768, -1.24424], [51.752426, -1.280847], [51.770385, -1.262591], [51.719097, -1.188728], [51.752533, -1.269111], [51.727064, -1.209869], [51.727973, -1.224912], [51.749946, -1.243947], [51.750119, -1.242785], [51.752862, -1.195512], [51.762737, -1.23359], [51.752315, -1.248833], [51.748945, -1.201231], [51.743566, -1.230584], [51.752263, -1.254774], [51.759146, -1.194096], [51.783547, -1.282672], [51.775972, -1.264529], [51.791305, -1.27211], [51.744989, -1.256197], [51.787307, -1.280003], [51.758162, -1.194838], [51.753647, -1.260256], [51.738737, -1.220962], [51.733811, -1.210476], [51.741637, -1.197594], [51.74863, -1.263235], [51.775379, -1.228158], [51.763035, -1.19736], [51.772727, -1.263278], [51.74245, -1.238713], [51.72391, -1.195591], [51.75913, -1.260022], [51.749841, -1.227725], [51.714882, -1.203423], [51.746623, -1.203589], [51.757717, -1.235849], [51.744168, -1.240278], [51.756521, -1.259774], [51.748258, -1.261213], [51.757962, -1.260186], [51.720097, -1.203476], [51.753484, -1.263011], [51.737925, -1.2343], [51.722997, -1.206755], [51.75188, -1.237106], [51.737927, -1.23459], [51.744359, -1.201312], [51.790685, -1.273714], [51.725357, -1.223654], [51.750218, -1.244232], [51.73621, -1.233315], [51.721993, -1.204601], [51.748875, -1.204274], [51.763028, -1.196345], [51.774043, -1.230065], [51.762848, -1.196349], [51.719605, -1.19726], [51.752625, -1.2694], [51.75179, -1.237108], [51.723399, -1.213118], [51.741267, -1.196152], [51.716109, -1.19877], [51.778033, -1.235216], [51.777672, -1.234932], [51.796166, -1.287837], [51.734256, -1.223211], [51.749768, -1.24424], [51.754691, -1.254734], [51.766512, -1.261495], [51.74616, -1.256467], [51.74798, -1.259914], [51.732367, -1.209632], [51.740276, -1.236288], [51.752613, -1.267516], [51.737929, -1.234879], [51.753474, -1.261418], [51.783909, -1.268459], [51.741926, -1.255233], [51.752525, -1.253466], [51.783278, -1.26818], [51.723183, -1.22123], [51.715335, -1.190822], [51.752598, -1.250857], [51.759103, -1.214237], [51.787857, -1.267091], [51.740276, -1.236288], [51.756251, -1.259779], [51.766897, -1.265546], [51.757518, -1.219335], [51.774164, -1.262964], [51.767491, -1.231771], [51.788418, -1.270561], [51.762401, -1.196791], [51.755171, -1.259507], [51.787628, -1.259265], [51.782686, -1.274133], [51.748251, -1.260055], [51.726945, -1.218993], [51.772522, -1.259223], [51.775223, -1.231785], [51.738192, -1.220103], [51.74431, -1.234482], [51.75102, -1.257257], [51.741636, -1.197449], [51.752944, -1.248678], [51.737225, -1.237208], [51.747745, -1.237176], [51.757488, -1.256281], [51.752507, -1.250713], [51.78767, -1.280432], [51.769303, -1.262029], [51.768943, -1.262035], [51.787969, -1.270713], [51.746279, -1.233], [51.762127, -1.196072], [51.755171, -1.259507], [51.771737, -1.263004], [51.724368, -1.223671], [51.734645, -1.214082], [51.741009, -1.224689], [51.761125, -1.207391], [51.773723, -1.264276], [51.747777, -1.242245], [51.751675, -1.247105], [51.731768, -1.20081], [51.751919, -1.257242], [51.732406, -1.229035], [51.781832, -1.267043], [51.75231, -1.276648], [51.751257, -1.237986], [51.749768, -1.24424], [51.75356, -1.260837], [51.750122, -1.243365], [51.756432, -1.259921], [51.757872, -1.260187], [51.769379, -1.204783], [51.743732, -1.228553], [51.777955, -1.265222], [51.75084, -1.257115], [51.774164, -1.262964], [51.754899, -1.259222], [51.788124, -1.281295], [51.738524, -1.216042], [51.7654, -1.214707], [51.745639, -1.231417], [51.749309, -1.25685], [51.75643, -1.259631], [51.771617, -1.230252], [51.767593, -1.261767], [51.752829, -1.288085], [51.762743, -1.194177], [51.745913, -1.231992], [51.75517, -1.259362], [51.71912, -1.205231], [51.723284, -1.209356], [51.728934, -1.248207], [51.763028, -1.196345], [51.766345, -1.235268], [51.766151, -1.261211], [51.776783, -1.264806], [51.752093, -1.256225], [51.759981, -1.211179], [51.785354, -1.269451], [51.751312, -1.246532], [51.741361, -1.19673], [51.752612, -1.25303], [51.759367, -1.213363], [51.760949, -1.207974], [51.742663, -1.20308], [51.771942, -1.267059], [51.756792, -1.26006], [51.754656, -1.249229], [51.762911, -1.260829], [51.721575, -1.222705], [51.755146, -1.227779], [51.75054, -1.224671], [51.725801, -1.195992], [51.77404, -1.229631], [51.731546, -1.248888], [51.761386, -1.206083], [51.760597, -1.209139], [51.722083, -1.2046], [51.733801, -1.250009], [51.724374, -1.224539], [51.745731, -1.231706], [51.763029, -1.19649], [51.762131, -1.196651], [51.763029, -1.19649], [51.750462, -1.240172], [51.731858, -1.200808], [51.744358, -1.201167], [51.757475, -1.212816], [51.755191, -1.207495], [51.746029, -1.195633], [51.751768, -1.247539], [51.685094, -1.412826], [51.753649, -1.260691], [51.763119, -1.196489], [51.750977, -1.209307], [51.757871, -1.260042], [51.73237, -1.23729], [51.749493, -1.243375], [51.748112, -1.238329], [51.747898, -1.261219], [51.755235, -1.227633], [51.730234, -1.213289], [51.778713, -1.271443], [51.77395, -1.229632], [51.767414, -1.193514], [51.721648, -1.193605], [51.731231, -1.214575], [51.724547, -1.223523], [51.755949, -1.213277], [51.759156, -1.235969], [51.752221, -1.220441], [51.750986, -1.224083], [51.753024, -1.206084], [51.767448, -1.198441], [51.762911, -1.260829], [51.759587, -1.205969], [51.752306, -1.275924], [51.739644, -1.22225], [51.762944, -1.197216], [51.767492, -1.231916], [51.77076, -1.236788], [51.763028, -1.196345], [51.732583, -1.214986], [51.744731, -1.229984], [51.752531, -1.268677], [51.756286, -1.223413], [51.750119, -1.256982], [51.758777, -1.261042], [51.759104, -1.214382], [51.778984, -1.271728], [51.751949, -1.247825], [51.726799, -1.224063], [51.7687, -1.224215], [51.752226, -1.248835], [51.734459, -1.213216], [51.766889, -1.208884], [51.75188, -1.237106], [51.732505, -1.21687], [51.73446, -1.213361], [51.73414, -1.219304], [51.763302, -1.197065], [51.775971, -1.264384], [51.724248, -1.21904], [51.756196, -1.223415], [51.745914, -1.232137], [51.783779, -1.291222], [51.741475, -1.254951], [51.723092, -1.221086], [51.725294, -1.227709], [51.725649, -1.187018], [51.737043, -1.196372], [51.724775, -1.203829], [51.715584, -1.20095], [51.748773, -1.243243], [51.746305, -1.237055], [51.744629, -1.201307], [51.738552, -1.206773], [51.743444, -1.239566], [51.732073, -1.219484], [51.74625, -1.256466], [51.762421, -1.199689], [51.752225, -1.24869], [51.74697, -1.256599], [51.749597, -1.23164], [51.752547, -1.271284], [51.752226, -1.248835], [51.75971, -1.210894], [51.738198, -1.23473], [51.762657, -1.181717], [51.742818, -1.199456], [51.754536, -1.258648], [51.749856, -1.243949], [51.753475, -1.261563], [51.732448, -1.208328], [51.732087, -1.221511], [51.734183, -1.212207], [51.782826, -1.267752], [51.75188, -1.237106], [51.760071, -1.211177], [51.754914, -1.261684], [51.757872, -1.260187], [51.742099, -1.226263], [51.719299, -1.191909], [51.750389, -1.256977], [51.753561, -1.260982], [51.786221, -1.27886], [51.752612, -1.267372], [51.756024, -1.224577], [51.729439, -1.202154], [51.735346, -1.19814], [51.740276, -1.236288], [51.77395, -1.229632], [51.752405, -1.248832], [51.751447, -1.199014], [51.75012, -1.24293], [51.777175, -1.270018], [51.770427, -1.240851], [51.757939, -1.256564], [51.76435, -1.260806], [51.746494, -1.238501], [51.737602, -1.199258], [51.716022, -1.212523], [51.760071, -1.211177], [51.758663, -1.215693], [51.750734, -1.199895], [51.78968, -1.271121], [51.767943, -1.232198], [51.756634, -1.263395], [51.747746, -1.237321], [51.745091, -1.230123], [51.747928, -1.237752], [51.776384, -1.23046], [51.760019, -1.258413], [51.747868, -1.256439], [51.732717, -1.249303], [51.755771, -1.255006], [51.79319, -1.271644], [51.74984, -1.22758], [51.752008, -1.257096], [51.748347, -1.261067], [51.767594, -1.261912], [51.748592, -1.243101], [51.729896, -1.203159], [51.769307, -1.234494], [51.736647, -1.217667], [51.762479, -1.18201], [51.758311, -1.216858], [51.763403, -1.225465], [51.725331, -1.219745], [51.751766, -1.247249], [51.745731, -1.231706], [51.714717, -1.205597], [51.7816, -1.273136], [51.732073, -1.219484], [51.736942, -1.208104], [51.729351, -1.202445], [51.76548, -1.199925], [51.749857, -1.244094], [51.753374, -1.218103], [51.749857, -1.244094], [51.785226, -1.277861], [51.752315, -1.248833], [51.746369, -1.232998], [51.714966, -1.189526], [51.754823, -1.261396], [51.76268, -1.19809], [51.725241, -1.219746], [51.757253, -1.220064], [51.742553, -1.22698], [51.779216, -1.265636], [51.788094, -1.276366], [51.765881, -1.192817], [51.766988, -1.26569], [51.732771, -1.229898], [51.762079, -1.202303], [51.752182, -1.256079], [51.726357, -1.225229], [51.750029, -1.256983], [51.74637, -1.233143], [51.75748, -1.200356], [51.736175, -1.187843], [51.767254, -1.209603], [51.758839, -1.215111], [51.754824, -1.261541], [51.788055, -1.269987], [51.738379, -1.234872], [51.74003, -1.253961], [51.73692, -1.218242], [51.750288, -1.241189], [51.741948, -1.230756], [51.720081, -1.20116], [51.758223, -1.21715], [51.788391, -1.280856], [51.745642, -1.231852], [51.757254, -1.220209], [51.732845, -1.213823], [51.767715, -1.238578], [51.765858, -1.216003], [51.760071, -1.211177], [51.775035, -1.230483], [51.712431, -1.199993], [51.765161, -1.261082], [51.723053, -1.22876], [51.738017, -1.234588], [51.764364, -1.234867], [51.74904, -1.256855], [51.746971, -1.256744], [51.749858, -1.244238], [51.739578, -1.253534], [51.747744, -1.237031], [51.74355, -1.256076], [51.785241, -1.280326], [51.782775, -1.274131], [51.736429, -1.239249], [51.720778, -1.224601], [51.757872, -1.260187], [51.718989, -1.199153], [51.773022, -1.267186], [51.77619, -1.228434], [51.752006, -1.256806], [51.749199, -1.225852], [51.767904, -1.199447], [51.724729, -1.223809], [51.73229, -1.225128], [51.746975, -1.257468], [51.750029, -1.256839], [51.760506, -1.208996], [51.787068, -1.270293], [51.749857, -1.244094], [51.758254, -1.195126], [51.716098, -1.210495], [51.74355, -1.256076], [51.734551, -1.213504], [51.752611, -1.267227], [51.740819, -1.196305], [51.774953, -1.259763], [51.757872, -1.260187], [51.746826, -1.234149], [51.758986, -1.265675], [51.750614, -1.195552], [51.717296, -1.228424], [51.745366, -1.230843], [51.765251, -1.261081], [51.752318, -1.249268], [51.745731, -1.231706], [51.769594, -1.223475], [51.75383, -1.260833], [51.726123, -1.190485], [51.729598, -1.212287], [51.775544, -1.253666], [51.788417, -1.270416], [51.770313, -1.237085], [51.751585, -1.247107], [51.776577, -1.232486], [51.749911, -1.266691], [51.734921, -1.228703], [51.723817, -1.208478], [51.75478, -1.254587], [51.757962, -1.260186], [51.752672, -1.220723], [51.73722, -1.236484], [51.762368, -1.191865], [51.725706, -1.235665], [51.762337, -1.20056], [51.765521, -1.261221], [51.762188, -1.191868], [51.75562, -1.259499], [51.760742, -1.203921], [51.766042, -1.203248], [51.75566, -1.295284], [51.724366, -1.223381], [51.756249, -1.259489], [51.777324, -1.264942], [51.769484, -1.262171], [51.731635, -1.248886], [51.719252, -1.19828], [51.746643, -1.233718], [51.77395, -1.229632], [51.73087, -1.214292], [51.748112, -1.238329], [51.749856, -1.243949], [51.7485, -1.256864], [51.758455, -1.198165], [51.778532, -1.2713], [51.767974, -1.23698], [51.739191, -1.235437], [51.741537, -1.196147], [51.753146, -1.266494], [51.736738, -1.217811], [51.765975, -1.233681], [51.732748, -1.212811], [51.735127, -1.232609], [51.734475, -1.215533], [51.752459, -1.271575], [51.760884, -1.267383], [51.728688, -1.21071], [51.741447, -1.196149], [51.732266, -1.249021], [51.744095, -1.228981], [51.749762, -1.229464], [51.752264, -1.254919], [51.761531, -1.214339], [51.74431, -1.234482], [51.763034, -1.197215], [51.739268, -1.206326], [51.749856, -1.243949], [51.756792, -1.259915], [51.762508, -1.199253], [51.754869, -1.254441], [51.720985, -1.201868], [51.74012, -1.25396], [51.763118, -1.196344], [51.712128, -1.221854], [51.765057, -1.190658], [51.778135, -1.265364], [51.752507, -1.250713], [51.785498, -1.278292], [51.750636, -1.2393], [51.790152, -1.289382], [51.752386, -1.274329], [51.734539, -1.253038], [51.720202, -1.219109], [51.758986, -1.265675], [51.787878, -1.27057], [51.751483, -1.259277], [51.749856, -1.243949], [51.740125, -1.227021], [51.738575, -1.196924], [51.761921, -1.260556], [51.775971, -1.264384], [51.750204, -1.24206], [51.785004, -1.285694], [51.780246, -1.272143], [51.729233, -1.211569], [51.767491, -1.231771], [51.781652, -1.266901], [51.759241, -1.194819], [51.761086, -1.201741], [51.778045, -1.26522], [51.750902, -1.238716], [51.76138, -1.26042], [51.757505, -1.203977], [51.735691, -1.20914], [51.769484, -1.262171], [51.741448, -1.196294], [51.742907, -1.19931], [51.752385, -1.274184], [51.730075, -1.203156], [51.751923, -1.257822], [51.752631, -1.270414], [51.733982, -1.250296], [51.74747, -1.236456], [51.734092, -1.212064], [51.788026, -1.279991], [51.71516, -1.218038], [51.734793, -1.250572], [51.758223, -1.21715], [51.734087, -1.21134], [51.748048, -1.256436], [51.756159, -1.259491], [51.761474, -1.205791], [51.750993, -1.267253], [51.719387, -1.204792], [51.758856, -1.217718], [51.732862, -1.230041], [51.75311, -1.289819], [51.725174, -1.236832], [51.757872, -1.260187], [51.776273, -1.269453], [51.732399, -1.228022], [51.724458, -1.223669], [51.787627, -1.25912], [51.734817, -1.21292], [51.762506, -1.198963], [51.753104, -1.288805], [51.732821, -1.210348], [51.78443, -1.251199], [51.733101, -1.225403], [51.775341, -1.26425], [51.775466, -1.255551], [51.754084, -1.258366], [51.78941, -1.27098], [51.752718, -1.284465], [51.723206, -1.211095], [51.763403, -1.225465], [51.78932, -1.270982], [51.742551, -1.22669], [51.719316, -1.181341], [51.751562, -1.257683], [51.752502, -1.249844], [51.752038, -1.261876], [51.787878, -1.27057], [51.778225, -1.265362], [51.763916, -1.194736], [51.762769, -1.197944], [51.762278, -1.191867], [51.787068, -1.270438], [51.757962, -1.260186], [51.762491, -1.19679], [51.754781, -1.254732], [51.722547, -1.193589], [51.758634, -1.25264], [51.747522, -1.203574], [51.752426, -1.280847], [51.755171, -1.259507], [51.738622, -1.203875], [51.76138, -1.26042], [51.736466, -1.217526], [51.733734, -1.21236], [51.736581, -1.194642], [51.766438, -1.235846], [51.773013, -1.223851], [51.751586, -1.247252], [51.743222, -1.233052], [51.752461, -1.27201], [51.724285, -1.224685], [51.740464, -1.223829], [51.751949, -1.247825], [51.752802, -1.268962], [51.766579, -1.202948], [51.788068, -1.272162], [51.759491, -1.260161], [51.752523, -1.282005], [51.784865, -1.277577], [51.754657, -1.249374], [51.778224, -1.265217], [51.749767, -1.244095], [51.758867, -1.26104], [51.732266, -1.249021], [51.773563, -1.267467], [51.752229, -1.278098], [51.737229, -1.197382], [51.762277, -1.191722], [51.752525, -1.282295], [51.763029, -1.19649], [51.737101, -1.218384], [51.759167, -1.210468], [51.745637, -1.204041], [51.72424, -1.231491], [51.776153, -1.264671], [51.759015, -1.214528], [51.759454, -1.213071], [51.775188, -1.268456], [51.748847, -1.240779], [51.763037, -1.21098], [51.742732, -1.226832], [51.752611, -1.252885], [51.779783, -1.299692], [51.757431, -1.219771], [51.754833, -1.262989], [51.750967, -1.207714], [51.724285, -1.224685], [51.788123, -1.28115], [51.735146, -1.221893], [51.762083, -1.202883], [51.729943, -1.210109], [51.787878, -1.27057], [51.766945, -1.230766], [51.75246, -1.271865], [51.752183, -1.256224], [51.72047, -1.192178], [51.774169, -1.263689], [51.768727, -1.201461], [51.752041, -1.248113], [51.75831, -1.216713], [51.77575, -1.229891], [51.748204, -1.238617], [51.747193, -1.235302], [51.747378, -1.236023], [51.745914, -1.232137], [51.724189, -1.223818], [51.724545, -1.223233], [51.753204, -1.206226], [51.757386, -1.268743], [51.740029, -1.253816], [51.763119, -1.196489], [51.729623, -1.20273], [51.764372, -1.236171], [51.74701, -1.234871], [51.78527, -1.284964], [51.746311, -1.224164], [51.744086, -1.200737], [51.752612, -1.25303], [51.75084, -1.257115], [51.72436, -1.222368], [51.746874, -1.241536], [51.758534, -1.2099], [51.776941, -1.233205], [51.736489, -1.194354], [51.753909, -1.259093], [51.766737, -1.199613], [51.749768, -1.24424], [51.748498, -1.256574], [51.752343, -1.267376], [51.773562, -1.267322], [51.760504, -1.235802], [51.768798, -1.239285], [51.760324, -1.235805], [51.791105, -1.283422], [51.746879, -1.256456], [51.728688, -1.21071], [51.76275, -1.18215], [51.758134, -1.217296], [51.736428, -1.239104], [51.79328, -1.271643], [51.766447, -1.265409], [51.752626, -1.269544], [51.737318, -1.197236], [51.725345, -1.221772], [51.784361, -1.268742], [51.72336, -1.194153], [51.734071, -1.250149], [51.788327, -1.270418], [51.758526, -1.235835], [51.754449, -1.259229], [51.73409, -1.211774], [51.726528, -1.223923], [51.75187, -1.263762], [51.752465, -1.272589], [51.732516, -1.232074], [51.748992, -1.278005], [51.788129, -1.28202], [51.734094, -1.212353], [51.757342, -1.219918], [51.770941, -1.23693], [51.762756, -1.19606], [51.751083, -1.267251], [51.788211, -1.280713], [51.759619, -1.21075], [51.751403, -1.246675], [51.758456, -1.252933], [51.752222, -1.262452], [51.788011, -1.277527], [51.722457, -1.19359], [51.762669, -1.196497], [51.762933, -1.195623], [51.755234, -1.227488], [51.788213, -1.281003], [51.724196, -1.224832], [51.752094, -1.25637], [51.729507, -1.212144], [51.784335, -1.250476], [51.761409, -1.196229], [51.743822, -1.228551], [51.752425, -1.280703], [51.75261, -1.267082], [51.746735, -1.234006], [51.720511, -1.225039], [51.72688, -1.195973], [51.73732, -1.197526], [51.752315, -1.248833], [51.749857, -1.244094], [51.765758, -1.228033], [51.7648, -1.260943], [51.77395, -1.229632], [51.788094, -1.276366], [51.763028, -1.196345], [51.752405, -1.248832], [51.752412, -1.249846], [51.745636, -1.203896], [51.726357, -1.225229], [51.784157, -1.250769], [51.78427, -1.268599], [51.733901, -1.210474], [51.76007, -1.211032], [51.754989, -1.25922], [51.730076, -1.203301], [51.78824, -1.270854], [51.753894, -1.25663], [51.725237, -1.192527], [51.730013, -1.248334], [51.766896, -1.265401], [51.726528, -1.223923], [51.768077, -1.239007], [51.752008, -1.257096], [51.756016, -1.223273], [51.746783, -1.227632], [51.75188, -1.237106], [51.77395, -1.229632], [51.76007, -1.211032], [51.787258, -1.257677], [51.762277, -1.191722], [51.742726, -1.199168], [51.737311, -1.236627], [51.740698, -1.204997], [51.752761, -1.220576], [51.720386, -1.219685], [51.745731, -1.231706], [51.726244, -1.195116], [51.732073, -1.219484], [51.732401, -1.2147], [51.775188, -1.268456], [51.759807, -1.212051], [51.727833, -1.20392], [51.728688, -1.21071], [51.762079, -1.202303], [51.754912, -1.26125], [51.78887, -1.285632], [51.751832, -1.257678], [51.763029, -1.19649], [51.776242, -1.264525], [51.75778, -1.218172], [51.762758, -1.19635], [51.730072, -1.202577], [51.725238, -1.192672], [51.742753, -1.203078], [51.788418, -1.270561], [51.775462, -1.254971], [51.739217, -1.253395], [51.77347, -1.225002], [51.748166, -1.232823], [51.752306, -1.275924], [51.759105, -1.214526], [51.749694, -1.260755], [51.740909, -1.196448], [51.762423, -1.199979], [51.724731, -1.224099], [51.766252, -1.234835], [51.752548, -1.271429], [51.754823, -1.261396], [51.753218, -1.263595], [51.757871, -1.260042], [51.788123, -1.28115], [51.729778, -1.212428], [51.759367, -1.213363], [51.737051, -1.19753], [51.721075, -1.201867], [51.76007, -1.211032], [51.732596, -1.217013], [51.752672, -1.220723], [51.74177, -1.203964], [51.759014, -1.214383], [51.78776, -1.280576], [51.761387, -1.206228], [51.758661, -1.256987], [51.776602, -1.264664], [51.752673, -1.220867], [51.75277, -1.263892], [51.768338, -1.265813], [51.765789, -1.205716], [51.758281, -1.25366], [51.745981, -1.228659], [51.734856, -1.232469], [51.755171, -1.259507], [51.762367, -1.19172], [51.77404, -1.229631], [51.763403, -1.225465], [51.737135, -1.23721], [51.750164, -1.235831], [51.76417, -1.260809], [51.760504, -1.235802], [51.752091, -1.255935], [51.750163, -1.235687], [51.742461, -1.226692], [51.73233, -1.217597], [51.721993, -1.204601], [51.737501, -1.197667], [51.773898, -1.263548], [51.75051, -1.261901], [51.787848, -1.280139], [51.775294, -1.256713], [51.773744, -1.267609], [51.757152, -1.260054], [51.752541, -1.270415], [51.727424, -1.196687], [51.724285, -1.224685], [51.752226, -1.24898], [51.729261, -1.202447], [51.720605, -1.185806], [51.75831, -1.216713], [51.753202, -1.205936], [51.735515, -1.250994], [51.732671, -1.214695], [51.77395, -1.229632], [51.737053, -1.19782], [51.750036, -1.243946], [51.783229, -1.274849], [51.777775, -1.265225], [51.74637, -1.233143], [51.717206, -1.188328], [51.757961, -1.260041], [51.744529, -1.240417], [51.725245, -1.220325], [51.752611, -1.267227], [51.763028, -1.196345], [51.733802, -1.250154], [51.779073, -1.271582], [51.752274, -1.201607], [51.723953, -1.21528], [51.733981, -1.250151], [51.788097, -1.276801], [51.775971, -1.264384], [51.752427, -1.280992], [51.75517, -1.259362], [51.762026, -1.263017], [51.759978, -1.266238], [51.750122, -1.243365], [51.778315, -1.265361], [51.75222, -1.262163], [51.751583, -1.260869], [51.724101, -1.223965], [51.752546, -1.271139], [51.75084, -1.25726], [51.73674, -1.204777], [51.76049, -1.261883], [51.744449, -1.20131], [51.778225, -1.265362], [51.741269, -1.196442], [51.762368, -1.191865], [51.736013, -1.216954], [51.753367, -1.203616], [51.75831, -1.216713], [51.751167, -1.237987], [51.758708, -1.264375], [51.757782, -1.218461], [51.739268, -1.206326], [51.762675, -1.197366], [51.762579, -1.196498], [51.763035, -1.19736], [51.752531, -1.226665], [51.752312, -1.276938], [51.724212, -1.200364], [51.763033, -1.19707], [51.762157, -1.187377], [51.757872, -1.260187], [51.725357, -1.223654], [51.748588, -1.256572], [51.777503, -1.264939], [51.782504, -1.273846], [51.765975, -1.233681], [51.749126, -1.242223], [51.743822, -1.228551], [51.762944, -1.197216], [51.762656, -1.181572], [51.757956, -1.217589], [51.778441, -1.271157], [51.74835, -1.261501], [51.749856, -1.243949], [51.750163, -1.235687], [51.751222, -1.205537], [51.763209, -1.196487], [51.776062, -1.264528], [51.753125, -1.207821], [51.729351, -1.202445], [51.75495, -1.253136], [51.756638, -1.222248], [51.762849, -1.196493], [51.746279, -1.233], [51.762757, -1.196205], [51.753563, -1.261272], [51.723292, -1.224123], [51.767708, -1.210319], [51.788151, -1.271001], [51.758456, -1.252933], [51.752613, -1.267516], [51.752608, -1.25245], [51.720399, -1.195075], [51.760522, -1.266954], [51.787126, -1.279716], [51.758223, -1.21715], [51.724438, -1.220629], [51.752117, -1.260136], [51.763915, -1.23502], [51.747928, -1.237752], [51.752382, -1.27375], [51.745731, -1.231706], [51.779577, -1.265775], [51.7532, -1.205647], [51.78813, -1.282165], [51.761561, -1.2055], [51.744449, -1.20131], [51.742519, -1.221911], [51.734542, -1.198878], [51.777235, -1.265089], [51.767582, -1.232059], [51.742828, -1.255653], [51.762422, -1.199834], [51.767306, -1.231049], [51.748848, -1.240924], [51.753646, -1.260111], [51.75146, -1.255656], [51.744909, -1.229837], [51.75195, -1.24797], [51.741447, -1.196149], [51.749769, -1.244385], [51.78586, -1.278576], [51.736579, -1.194353], [51.786793, -1.269573], [51.736557, -1.217669], [51.78821, -1.280568], [51.731815, -1.248884], [51.755235, -1.227633], [51.782964, -1.261081], [51.752432, -1.225218], [51.762759, -1.196495], [51.724159, -1.219186], [51.731901, -1.207179], [51.752181, -1.255934], [51.752317, -1.277807], [51.754995, -1.260234], [51.729987, -1.203303], [51.720611, -1.22663], [51.766897, -1.265546], [51.747868, -1.242389], [51.764483, -1.198783], [51.788123, -1.28115], [51.750995, -1.198587], [51.758957, -1.261039], [51.752547, -1.271284], [51.759807, -1.212051], [51.712883, -1.200419], [51.788124, -1.281295], [51.747468, -1.236167], [51.753235, -1.266347]],\n",
       "                {\n",
       "  &quot;minOpacity&quot;: 0.5,\n",
       "  &quot;maxZoom&quot;: 18,\n",
       "  &quot;radius&quot;: 25,\n",
       "  &quot;blur&quot;: 15,\n",
       "}\n",
       "            );\n",
       "        \n",
       "    \n",
       "            heat_map_3c1ec7595b1ec5b9df962190f4275d43.addTo(map_943ad5538549a04e9553472b142ce2a4);\n",
       "        \n",
       "&lt;/script&gt;\n",
       "&lt;/html&gt;\" style=\"position:absolute;width:100%;height:100%;left:0;top:0;border:none !important;\" allowfullscreen webkitallowfullscreen mozallowfullscreen></iframe></div></div>"
      ],
      "text/plain": [
       "<folium.folium.Map at 0x2461f316120>"
      ]
     },
     "execution_count": 60,
     "metadata": {},
     "output_type": "execute_result"
    }
   ],
   "source": [
    "oxford_locations  = list(zip(oxford_road['Latitude'], oxford_road['Longitude']))\n",
    "oxford_map = folium.Map(location=[oxford_road['Latitude'].mean(), oxford_road['Longitude'].mean()], zoom_start=12)\n",
    "HeatMap(oxford_locations).add_to(oxford_map)\n",
    "\n",
    "oxford_map"
   ]
  },
  {
   "cell_type": "code",
   "execution_count": null,
   "id": "2d69a11f-1ba4-4f46-9f54-86e33a7d335b",
   "metadata": {},
   "outputs": [],
   "source": []
  }
 ],
 "metadata": {
  "kernelspec": {
   "display_name": "Python 3 (ipykernel)",
   "language": "python",
   "name": "python3"
  },
  "language_info": {
   "codemirror_mode": {
    "name": "ipython",
    "version": 3
   },
   "file_extension": ".py",
   "mimetype": "text/x-python",
   "name": "python",
   "nbconvert_exporter": "python",
   "pygments_lexer": "ipython3",
   "version": "3.13.0"
  }
 },
 "nbformat": 4,
 "nbformat_minor": 5
}
