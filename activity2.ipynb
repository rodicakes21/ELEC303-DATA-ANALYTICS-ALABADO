{
 "cells": [
  {
   "cell_type": "markdown",
   "id": "1c594b3a-6336-4ef6-8b2c-e03556ce5c90",
   "metadata": {},
   "source": [
    "<h1>Alabado, Roderick L.</h1>\n",
    "<h2>BSIT-3A</h2>"
   ]
  },
  {
   "cell_type": "code",
   "execution_count": 1,
   "id": "26783ec2-9d55-4c5a-a617-dcb9813e5c11",
   "metadata": {},
   "outputs": [],
   "source": [
    "import pandas as pd\n",
    "import numpy  as np\n",
    "import warnings\n",
    "warnings.filterwarnings('ignore')\n"
   ]
  },
  {
   "cell_type": "code",
   "execution_count": 2,
   "id": "bc193f57-ba0f-421d-91ec-3ebbbbeb434f",
   "metadata": {},
   "outputs": [],
   "source": [
    "road = pd.read_csv('datasets2\\\\uk_road_accident.csv')"
   ]
  },
  {
   "cell_type": "code",
   "execution_count": 3,
   "id": "f7d6be66-7298-4829-80d5-fe817d5034fe",
   "metadata": {},
   "outputs": [
    {
     "data": {
      "text/html": [
       "<div>\n",
       "<style scoped>\n",
       "    .dataframe tbody tr th:only-of-type {\n",
       "        vertical-align: middle;\n",
       "    }\n",
       "\n",
       "    .dataframe tbody tr th {\n",
       "        vertical-align: top;\n",
       "    }\n",
       "\n",
       "    .dataframe thead th {\n",
       "        text-align: right;\n",
       "    }\n",
       "</style>\n",
       "<table border=\"1\" class=\"dataframe\">\n",
       "  <thead>\n",
       "    <tr style=\"text-align: right;\">\n",
       "      <th></th>\n",
       "      <th>Index</th>\n",
       "      <th>Accident_Severity</th>\n",
       "      <th>Accident Date</th>\n",
       "      <th>Latitude</th>\n",
       "      <th>Light_Conditions</th>\n",
       "      <th>District Area</th>\n",
       "      <th>Longitude</th>\n",
       "      <th>Number_of_Casualties</th>\n",
       "      <th>Number_of_Vehicles</th>\n",
       "      <th>Road_Surface_Conditions</th>\n",
       "      <th>Road_Type</th>\n",
       "      <th>Urban_or_Rural_Area</th>\n",
       "      <th>Weather_Conditions</th>\n",
       "      <th>Vehicle_Type</th>\n",
       "    </tr>\n",
       "  </thead>\n",
       "  <tbody>\n",
       "    <tr>\n",
       "      <th>0</th>\n",
       "      <td>200701BS64157</td>\n",
       "      <td>Serious</td>\n",
       "      <td>5/6/2019</td>\n",
       "      <td>51.506187</td>\n",
       "      <td>Darkness - lights lit</td>\n",
       "      <td>Kensington and Chelsea</td>\n",
       "      <td>-0.209082</td>\n",
       "      <td>1</td>\n",
       "      <td>2</td>\n",
       "      <td>Dry</td>\n",
       "      <td>Single carriageway</td>\n",
       "      <td>Urban</td>\n",
       "      <td>Fine no high winds</td>\n",
       "      <td>Car</td>\n",
       "    </tr>\n",
       "    <tr>\n",
       "      <th>1</th>\n",
       "      <td>200701BS65737</td>\n",
       "      <td>Serious</td>\n",
       "      <td>2/7/2019</td>\n",
       "      <td>51.495029</td>\n",
       "      <td>Daylight</td>\n",
       "      <td>Kensington and Chelsea</td>\n",
       "      <td>-0.173647</td>\n",
       "      <td>1</td>\n",
       "      <td>2</td>\n",
       "      <td>Wet or damp</td>\n",
       "      <td>Single carriageway</td>\n",
       "      <td>Urban</td>\n",
       "      <td>Raining no high winds</td>\n",
       "      <td>Car</td>\n",
       "    </tr>\n",
       "    <tr>\n",
       "      <th>2</th>\n",
       "      <td>200701BS66127</td>\n",
       "      <td>Serious</td>\n",
       "      <td>26-08-2019</td>\n",
       "      <td>51.517715</td>\n",
       "      <td>Darkness - lighting unknown</td>\n",
       "      <td>Kensington and Chelsea</td>\n",
       "      <td>-0.210215</td>\n",
       "      <td>1</td>\n",
       "      <td>3</td>\n",
       "      <td>Dry</td>\n",
       "      <td>NaN</td>\n",
       "      <td>Urban</td>\n",
       "      <td>NaN</td>\n",
       "      <td>Taxi/Private hire car</td>\n",
       "    </tr>\n",
       "    <tr>\n",
       "      <th>3</th>\n",
       "      <td>200701BS66128</td>\n",
       "      <td>Serious</td>\n",
       "      <td>16-08-2019</td>\n",
       "      <td>51.495478</td>\n",
       "      <td>Daylight</td>\n",
       "      <td>Kensington and Chelsea</td>\n",
       "      <td>-0.202731</td>\n",
       "      <td>1</td>\n",
       "      <td>4</td>\n",
       "      <td>Dry</td>\n",
       "      <td>Single carriageway</td>\n",
       "      <td>Urban</td>\n",
       "      <td>Fine no high winds</td>\n",
       "      <td>Bus or coach (17 or more pass seats)</td>\n",
       "    </tr>\n",
       "    <tr>\n",
       "      <th>4</th>\n",
       "      <td>200701BS66837</td>\n",
       "      <td>Slight</td>\n",
       "      <td>3/9/2019</td>\n",
       "      <td>51.488576</td>\n",
       "      <td>Darkness - lights lit</td>\n",
       "      <td>Kensington and Chelsea</td>\n",
       "      <td>-0.192487</td>\n",
       "      <td>1</td>\n",
       "      <td>2</td>\n",
       "      <td>Dry</td>\n",
       "      <td>NaN</td>\n",
       "      <td>Urban</td>\n",
       "      <td>NaN</td>\n",
       "      <td>Other vehicle</td>\n",
       "    </tr>\n",
       "    <tr>\n",
       "      <th>...</th>\n",
       "      <td>...</td>\n",
       "      <td>...</td>\n",
       "      <td>...</td>\n",
       "      <td>...</td>\n",
       "      <td>...</td>\n",
       "      <td>...</td>\n",
       "      <td>...</td>\n",
       "      <td>...</td>\n",
       "      <td>...</td>\n",
       "      <td>...</td>\n",
       "      <td>...</td>\n",
       "      <td>...</td>\n",
       "      <td>...</td>\n",
       "      <td>...</td>\n",
       "    </tr>\n",
       "    <tr>\n",
       "      <th>660674</th>\n",
       "      <td>201091NM01760</td>\n",
       "      <td>Slight</td>\n",
       "      <td>18-02-2022</td>\n",
       "      <td>57.374005</td>\n",
       "      <td>Daylight</td>\n",
       "      <td>Highland</td>\n",
       "      <td>-3.467828</td>\n",
       "      <td>2</td>\n",
       "      <td>1</td>\n",
       "      <td>Dry</td>\n",
       "      <td>Single carriageway</td>\n",
       "      <td>Rural</td>\n",
       "      <td>Fine no high winds</td>\n",
       "      <td>Car</td>\n",
       "    </tr>\n",
       "    <tr>\n",
       "      <th>660675</th>\n",
       "      <td>201091NM01881</td>\n",
       "      <td>Slight</td>\n",
       "      <td>21-02-2022</td>\n",
       "      <td>57.232273</td>\n",
       "      <td>Darkness - no lighting</td>\n",
       "      <td>Highland</td>\n",
       "      <td>-3.809281</td>\n",
       "      <td>1</td>\n",
       "      <td>1</td>\n",
       "      <td>Frost or ice</td>\n",
       "      <td>Single carriageway</td>\n",
       "      <td>Rural</td>\n",
       "      <td>Fine no high winds</td>\n",
       "      <td>Car</td>\n",
       "    </tr>\n",
       "    <tr>\n",
       "      <th>660676</th>\n",
       "      <td>201091NM01935</td>\n",
       "      <td>Slight</td>\n",
       "      <td>23-02-2022</td>\n",
       "      <td>57.585044</td>\n",
       "      <td>Daylight</td>\n",
       "      <td>Highland</td>\n",
       "      <td>-3.862727</td>\n",
       "      <td>1</td>\n",
       "      <td>3</td>\n",
       "      <td>Frost or ice</td>\n",
       "      <td>Single carriageway</td>\n",
       "      <td>Rural</td>\n",
       "      <td>Fine no high winds</td>\n",
       "      <td>Car</td>\n",
       "    </tr>\n",
       "    <tr>\n",
       "      <th>660677</th>\n",
       "      <td>201091NM01964</td>\n",
       "      <td>Serious</td>\n",
       "      <td>23-02-2022</td>\n",
       "      <td>57.214898</td>\n",
       "      <td>Darkness - no lighting</td>\n",
       "      <td>Highland</td>\n",
       "      <td>-3.823997</td>\n",
       "      <td>1</td>\n",
       "      <td>2</td>\n",
       "      <td>Wet or damp</td>\n",
       "      <td>Single carriageway</td>\n",
       "      <td>Rural</td>\n",
       "      <td>Fine no high winds</td>\n",
       "      <td>Motorcycle over 500cc</td>\n",
       "    </tr>\n",
       "    <tr>\n",
       "      <th>660678</th>\n",
       "      <td>201091NM02142</td>\n",
       "      <td>Serious</td>\n",
       "      <td>28-02-2022</td>\n",
       "      <td>57.575210</td>\n",
       "      <td>Daylight</td>\n",
       "      <td>Highland</td>\n",
       "      <td>-3.895673</td>\n",
       "      <td>1</td>\n",
       "      <td>1</td>\n",
       "      <td>Wet or damp</td>\n",
       "      <td>Dual carriageway</td>\n",
       "      <td>Rural</td>\n",
       "      <td>Snowing no high winds</td>\n",
       "      <td>Car</td>\n",
       "    </tr>\n",
       "  </tbody>\n",
       "</table>\n",
       "<p>660679 rows × 14 columns</p>\n",
       "</div>"
      ],
      "text/plain": [
       "                Index Accident_Severity Accident Date   Latitude  \\\n",
       "0       200701BS64157           Serious      5/6/2019  51.506187   \n",
       "1       200701BS65737           Serious      2/7/2019  51.495029   \n",
       "2       200701BS66127           Serious    26-08-2019  51.517715   \n",
       "3       200701BS66128           Serious    16-08-2019  51.495478   \n",
       "4       200701BS66837            Slight      3/9/2019  51.488576   \n",
       "...               ...               ...           ...        ...   \n",
       "660674  201091NM01760            Slight    18-02-2022  57.374005   \n",
       "660675  201091NM01881            Slight    21-02-2022  57.232273   \n",
       "660676  201091NM01935            Slight    23-02-2022  57.585044   \n",
       "660677  201091NM01964           Serious    23-02-2022  57.214898   \n",
       "660678  201091NM02142           Serious    28-02-2022  57.575210   \n",
       "\n",
       "                   Light_Conditions           District Area  Longitude  \\\n",
       "0             Darkness - lights lit  Kensington and Chelsea  -0.209082   \n",
       "1                          Daylight  Kensington and Chelsea  -0.173647   \n",
       "2       Darkness - lighting unknown  Kensington and Chelsea  -0.210215   \n",
       "3                          Daylight  Kensington and Chelsea  -0.202731   \n",
       "4             Darkness - lights lit  Kensington and Chelsea  -0.192487   \n",
       "...                             ...                     ...        ...   \n",
       "660674                     Daylight                Highland  -3.467828   \n",
       "660675       Darkness - no lighting                Highland  -3.809281   \n",
       "660676                     Daylight                Highland  -3.862727   \n",
       "660677       Darkness - no lighting                Highland  -3.823997   \n",
       "660678                     Daylight                Highland  -3.895673   \n",
       "\n",
       "        Number_of_Casualties  Number_of_Vehicles Road_Surface_Conditions  \\\n",
       "0                          1                   2                     Dry   \n",
       "1                          1                   2             Wet or damp   \n",
       "2                          1                   3                     Dry   \n",
       "3                          1                   4                     Dry   \n",
       "4                          1                   2                     Dry   \n",
       "...                      ...                 ...                     ...   \n",
       "660674                     2                   1                     Dry   \n",
       "660675                     1                   1            Frost or ice   \n",
       "660676                     1                   3            Frost or ice   \n",
       "660677                     1                   2             Wet or damp   \n",
       "660678                     1                   1             Wet or damp   \n",
       "\n",
       "                 Road_Type Urban_or_Rural_Area     Weather_Conditions  \\\n",
       "0       Single carriageway               Urban     Fine no high winds   \n",
       "1       Single carriageway               Urban  Raining no high winds   \n",
       "2                      NaN               Urban                    NaN   \n",
       "3       Single carriageway               Urban     Fine no high winds   \n",
       "4                      NaN               Urban                    NaN   \n",
       "...                    ...                 ...                    ...   \n",
       "660674  Single carriageway               Rural     Fine no high winds   \n",
       "660675  Single carriageway               Rural     Fine no high winds   \n",
       "660676  Single carriageway               Rural     Fine no high winds   \n",
       "660677  Single carriageway               Rural     Fine no high winds   \n",
       "660678    Dual carriageway               Rural  Snowing no high winds   \n",
       "\n",
       "                                Vehicle_Type  \n",
       "0                                        Car  \n",
       "1                                        Car  \n",
       "2                      Taxi/Private hire car  \n",
       "3       Bus or coach (17 or more pass seats)  \n",
       "4                              Other vehicle  \n",
       "...                                      ...  \n",
       "660674                                   Car  \n",
       "660675                                   Car  \n",
       "660676                                   Car  \n",
       "660677                 Motorcycle over 500cc  \n",
       "660678                                   Car  \n",
       "\n",
       "[660679 rows x 14 columns]"
      ]
     },
     "execution_count": 3,
     "metadata": {},
     "output_type": "execute_result"
    }
   ],
   "source": [
    "road\n"
   ]
  },
  {
   "cell_type": "code",
   "execution_count": 4,
   "id": "d4659d87-c377-41b7-ba09-39fba7cfcb1e",
   "metadata": {},
   "outputs": [
    {
     "name": "stdout",
     "output_type": "stream",
     "text": [
      "<class 'pandas.core.frame.DataFrame'>\n",
      "RangeIndex: 660679 entries, 0 to 660678\n",
      "Data columns (total 14 columns):\n",
      " #   Column                   Non-Null Count   Dtype  \n",
      "---  ------                   --------------   -----  \n",
      " 0   Index                    660679 non-null  object \n",
      " 1   Accident_Severity        660679 non-null  object \n",
      " 2   Accident Date            660679 non-null  object \n",
      " 3   Latitude                 660654 non-null  float64\n",
      " 4   Light_Conditions         660679 non-null  object \n",
      " 5   District Area            660679 non-null  object \n",
      " 6   Longitude                660653 non-null  float64\n",
      " 7   Number_of_Casualties     660679 non-null  int64  \n",
      " 8   Number_of_Vehicles       660679 non-null  int64  \n",
      " 9   Road_Surface_Conditions  659953 non-null  object \n",
      " 10  Road_Type                656159 non-null  object \n",
      " 11  Urban_or_Rural_Area      660664 non-null  object \n",
      " 12  Weather_Conditions       646551 non-null  object \n",
      " 13  Vehicle_Type             660679 non-null  object \n",
      "dtypes: float64(2), int64(2), object(10)\n",
      "memory usage: 70.6+ MB\n"
     ]
    }
   ],
   "source": [
    "road.info()"
   ]
  },
  {
   "cell_type": "code",
   "execution_count": 5,
   "id": "bea1e354-0695-4a3e-8112-01f077d5d50f",
   "metadata": {},
   "outputs": [
    {
     "data": {
      "text/plain": [
       "Index                          0\n",
       "Accident_Severity              0\n",
       "Accident Date                  0\n",
       "Latitude                      25\n",
       "Light_Conditions               0\n",
       "District Area                  0\n",
       "Longitude                     26\n",
       "Number_of_Casualties           0\n",
       "Number_of_Vehicles             0\n",
       "Road_Surface_Conditions      726\n",
       "Road_Type                   4520\n",
       "Urban_or_Rural_Area           15\n",
       "Weather_Conditions         14128\n",
       "Vehicle_Type                   0\n",
       "dtype: int64"
      ]
     },
     "execution_count": 5,
     "metadata": {},
     "output_type": "execute_result"
    }
   ],
   "source": [
    "road.isnull().sum()"
   ]
  },
  {
   "cell_type": "markdown",
   "id": "7961f8fa-51df-46a0-aaae-8362d908bebb",
   "metadata": {},
   "source": [
    "<h2>Clean the dataset</h2>"
   ]
  },
  {
   "cell_type": "code",
   "execution_count": 6,
   "id": "22917ef7-949e-4284-b949-59d5b5ec5735",
   "metadata": {},
   "outputs": [],
   "source": [
    "road['Latitude'] = road['Latitude'].fillna(road['Latitude'].mean())\n",
    "road['Longitude'] = road['Longitude'].fillna(road['Longitude'].mean())\n",
    "road['Road_Surface_Conditions'] = road['Road_Surface_Conditions'].fillna(road['Road_Surface_Conditions'].mode()[0])\n",
    "road['Road_Type'] = road['Road_Type'].fillna(road['Road_Type'].mode()[0])\n",
    "road['Urban_or_Rural_Area'] = road['Urban_or_Rural_Area'].fillna(road['Urban_or_Rural_Area'].mode()[0])\n",
    "road['Weather_Conditions'] = road['Weather_Conditions'].fillna(road['Weather_Conditions'].mode()[0])"
   ]
  },
  {
   "cell_type": "code",
   "execution_count": 7,
   "id": "afb1967d-bd19-45b9-8409-41e5cfeaf628",
   "metadata": {
    "scrolled": true
   },
   "outputs": [
    {
     "data": {
      "text/plain": [
       "Index                      0\n",
       "Accident_Severity          0\n",
       "Accident Date              0\n",
       "Latitude                   0\n",
       "Light_Conditions           0\n",
       "District Area              0\n",
       "Longitude                  0\n",
       "Number_of_Casualties       0\n",
       "Number_of_Vehicles         0\n",
       "Road_Surface_Conditions    0\n",
       "Road_Type                  0\n",
       "Urban_or_Rural_Area        0\n",
       "Weather_Conditions         0\n",
       "Vehicle_Type               0\n",
       "dtype: int64"
      ]
     },
     "execution_count": 7,
     "metadata": {},
     "output_type": "execute_result"
    }
   ],
   "source": [
    "road.isnull().sum()\n"
   ]
  },
  {
   "cell_type": "markdown",
   "id": "5adb333a-5b0f-4fe8-bca8-2037b67dc8fe",
   "metadata": {},
   "source": [
    "<h2>1. What area has the most casualties per accident?</h2>"
   ]
  },
  {
   "cell_type": "code",
   "execution_count": 8,
   "id": "1980e023-e9c7-456a-badd-d45fc41110b9",
   "metadata": {},
   "outputs": [
    {
     "data": {
      "text/plain": [
       "Urban_or_Rural_Area\n",
       "Urban          421678\n",
       "Rural          238990\n",
       "Unallocated        11\n",
       "Name: count, dtype: int64"
      ]
     },
     "execution_count": 8,
     "metadata": {},
     "output_type": "execute_result"
    }
   ],
   "source": [
    "road['Urban_or_Rural_Area'].value_counts()"
   ]
  },
  {
   "cell_type": "markdown",
   "id": "3d045c15-ab72-401b-a0e7-58aa0b62d34d",
   "metadata": {},
   "source": [
    "<H2>Insight#1: Most casualties are reported in urban areas compared to rural places.</H2>"
   ]
  },
  {
   "cell_type": "markdown",
   "id": "4b72e797-bc22-4ff8-ad1e-303aeb4a7429",
   "metadata": {},
   "source": [
    "<h2>2. What is the Correlation between casualties and longitude.</h2>"
   ]
  },
  {
   "cell_type": "code",
   "execution_count": 9,
   "id": "2240d16b-d863-49f1-8068-bc9cb14b454f",
   "metadata": {},
   "outputs": [
    {
     "data": {
      "text/plain": [
       "np.float64(-0.040405645788454514)"
      ]
     },
     "execution_count": 9,
     "metadata": {},
     "output_type": "execute_result"
    }
   ],
   "source": [
    "road['Number_of_Casualties'].corr(road['Longitude'])"
   ]
  },
  {
   "cell_type": "markdown",
   "id": "eef44ec6-063c-45a4-9dfa-ecd6318f8667",
   "metadata": {},
   "source": [
    "<h2>Insight#2: There is almost no relationship between casualties and longitude. This means that whether the accident happens farther east or west doesn’t significantly affect the number of casualties.</h2>"
   ]
  },
  {
   "cell_type": "markdown",
   "id": "630e0d02-e04e-485f-bebc-22b27703eab1",
   "metadata": {},
   "source": [
    "<h2>3. Which type of weather occurs most often? </h2>"
   ]
  },
  {
   "cell_type": "code",
   "execution_count": 10,
   "id": "d1eb0296-e0e9-4b57-9130-70619ec4fdba",
   "metadata": {},
   "outputs": [
    {
     "data": {
      "text/plain": [
       "Weather_Conditions\n",
       "Fine no high winds       535013\n",
       "Raining no high winds     79696\n",
       "Other                     17150\n",
       "Raining + high winds       9615\n",
       "Fine + high winds          8554\n",
       "Snowing no high winds      6238\n",
       "Fog or mist                3528\n",
       "Snowing + high winds        885\n",
       "Name: count, dtype: int64"
      ]
     },
     "execution_count": 10,
     "metadata": {},
     "output_type": "execute_result"
    }
   ],
   "source": [
    "road['Weather_Conditions'].value_counts()"
   ]
  },
  {
   "cell_type": "markdown",
   "id": "2ffedd00-d086-4446-a20a-b82e12a2f409",
   "metadata": {},
   "source": [
    "<h2>Insight#3: The highest number of accidents occurs under weather conditions of \"fine no high winds\"</h2>"
   ]
  },
  {
   "cell_type": "markdown",
   "id": "ba510d75-1a72-4eb4-8752-a535963dbd6b",
   "metadata": {},
   "source": [
    "<h2>4. Which light condition is most often linked to accidents?</h2>"
   ]
  },
  {
   "cell_type": "code",
   "execution_count": 11,
   "id": "8beaabf0-7760-4b48-8199-73a2b92a4a79",
   "metadata": {},
   "outputs": [
    {
     "data": {
      "text/plain": [
       "Light_Conditions\n",
       "Daylight                       484880\n",
       "Darkness - lights lit          129335\n",
       "Darkness - no lighting          37437\n",
       "Darkness - lighting unknown      6484\n",
       "Darkness - lights unlit          2543\n",
       "Name: count, dtype: int64"
      ]
     },
     "execution_count": 11,
     "metadata": {},
     "output_type": "execute_result"
    }
   ],
   "source": [
    "road['Light_Conditions'].value_counts() \n"
   ]
  },
  {
   "cell_type": "markdown",
   "id": "1a9df9fb-400b-428a-bb1c-e0c1553d46e6",
   "metadata": {},
   "source": [
    "<h2>Insight#4: The light condition that is often linked to accidents happen in \"daylight\".</h2>"
   ]
  },
  {
   "cell_type": "markdown",
   "id": "98dfc722-1664-4e62-abbd-21c6c33e4114",
   "metadata": {},
   "source": [
    "<h2>5. Which vehicle type is most involved in accidents?</h2>"
   ]
  },
  {
   "cell_type": "code",
   "execution_count": 12,
   "id": "8319c5b3-a7bf-4b1c-ba81-91c29e7d4570",
   "metadata": {},
   "outputs": [
    {
     "data": {
      "text/plain": [
       "Vehicle_Type\n",
       "Car                                     6577\n",
       "Van / Goods 3.5 tonnes mgw or under      467\n",
       "Motorcycle over 500cc                    339\n",
       "Bus or coach (17 or more pass seats)     325\n",
       "Goods 7.5 tonnes mgw and over            216\n",
       "Name: count, dtype: int64"
      ]
     },
     "execution_count": 12,
     "metadata": {},
     "output_type": "execute_result"
    }
   ],
   "source": [
    "road[road['Accident_Severity'] == 'Fatal']['Vehicle_Type'].value_counts().head(5)\n"
   ]
  },
  {
   "cell_type": "markdown",
   "id": "bceec023-2486-4f41-944a-d32cdd0d286d",
   "metadata": {},
   "source": [
    "<h2>Insight#5: Car was the most frequently involved in accidents.</h2>"
   ]
  },
  {
   "cell_type": "markdown",
   "id": "afaef59d-800c-4002-9cd7-dc9d63fac287",
   "metadata": {},
   "source": [
    "<h2>6. Which district has the highest average casualties per accident?</h2>"
   ]
  },
  {
   "cell_type": "code",
   "execution_count": 13,
   "id": "5e9fafb8-99b5-4dc9-a304-d540830be966",
   "metadata": {},
   "outputs": [
    {
     "data": {
      "text/plain": [
       "District Area\n",
       "Blaeu Gwent          1.693694\n",
       "West Somerset        1.613990\n",
       "Derwentside          1.606186\n",
       "Chester-le-Street    1.603306\n",
       "Durham               1.580431\n",
       "Blaenau Gwent        1.579310\n",
       "Fylde                1.569350\n",
       "Hambleton            1.568523\n",
       "Merthyr Tydfil       1.568182\n",
       "West Lancashire      1.566341\n",
       "Name: Number_of_Casualties, dtype: float64"
      ]
     },
     "execution_count": 13,
     "metadata": {},
     "output_type": "execute_result"
    }
   ],
   "source": [
    "road.groupby('District Area')['Number_of_Casualties'].mean().sort_values(ascending=False).head(10)"
   ]
  },
  {
   "cell_type": "markdown",
   "id": "396d854e-bbb4-474b-a39a-471ad5672dad",
   "metadata": {},
   "source": [
    "<h2>Insight#6: The records that have the highest average casualties per accident of District area is Blaeu Gwent at 1.69, indicating that casualties in this district usually affect more people than in other districts.</h2>"
   ]
  },
  {
   "cell_type": "markdown",
   "id": "91f99da6-e9be-4a5b-ab7e-55d7e6065d73",
   "metadata": {},
   "source": [
    "<h2>7-9. Which accident severity has the highest average casualties?</h2>"
   ]
  },
  {
   "cell_type": "code",
   "execution_count": 14,
   "id": "5099957c-1d7d-45b1-8ee7-32bdface9075",
   "metadata": {},
   "outputs": [
    {
     "data": {
      "text/plain": [
       "Accident_Severity\n",
       "Fatal      1.903129\n",
       "Serious    1.467280\n",
       "Slight     1.331402\n",
       "Name: Number_of_Casualties, dtype: float64"
      ]
     },
     "execution_count": 14,
     "metadata": {},
     "output_type": "execute_result"
    }
   ],
   "source": [
    "road.groupby('Accident_Severity')['Number_of_Casualties'].mean()"
   ]
  },
  {
   "cell_type": "markdown",
   "id": "dd0513e2-2b6d-43e5-be67-c4b37dcd578e",
   "metadata": {},
   "source": [
    "<h2>Insight#7 </h2>\n",
    "    \n",
    "<h2>Fatal accidents have the highest average casualties.\n",
    "\n",
    "With an average of 1.90 casualties per accident, fatal accidents tend to involve more people compared to other severities.</h2>"
   ]
  },
  {
   "cell_type": "markdown",
   "id": "c8143ccf-c411-434a-bf2b-59d3ad878987",
   "metadata": {},
   "source": [
    "<h2>Insight#8</h2>\n",
    "<h3>\n",
    "\n",
    "Serious accidents average about 1.47 casualties, showing they typically affect more than one person, but still less than fatal cases.</h3>"
   ]
  },
  {
   "cell_type": "markdown",
   "id": "4128f553-7dbd-43eb-b93d-635f4434c1e0",
   "metadata": {},
   "source": [
    "<h2>Insight#9</h2>\n",
    "<h3>Slight accidents involve the fewest casualties.\n",
    "\n",
    "With an average of 1.33 casualties, slight accidents usually affect only one person, reflecting their lower severity and impact compared to serious or fatal crashes.</h3>"
   ]
  },
  {
   "cell_type": "markdown",
   "id": "9644e3e4-1055-44df-b7c6-d4c25d3e0236",
   "metadata": {},
   "source": [
    "<h2>10-12. What is the number of Accident Severity on Single carriageway?</h2>"
   ]
  },
  {
   "cell_type": "code",
   "execution_count": 15,
   "id": "1aad0ef3-178c-48c1-9e20-2c9a7941e48a",
   "metadata": {},
   "outputs": [
    {
     "data": {
      "text/plain": [
       "Accident_Severity\n",
       "Slight     419563\n",
       "Serious     70540\n",
       "Fatal        6560\n",
       "Name: count, dtype: int64"
      ]
     },
     "execution_count": 15,
     "metadata": {},
     "output_type": "execute_result"
    }
   ],
   "source": [
    "single_carriageway_accidents = road[road['Road_Type'] == 'Single carriageway']\n",
    "single_carriageway_accidents['Accident_Severity'].value_counts()"
   ]
  },
  {
   "cell_type": "markdown",
   "id": "a332aac7-648c-4a1e-b294-ec5622be54a5",
   "metadata": {},
   "source": [
    "<h2>Insight#10</h2>\n",
    "<h3>Slight accidents are dominant.\n",
    "\n",
    "Out of all recorded cases, 419,563 are slight accidents, which makes them the most frequent by a large margin.</h3>"
   ]
  },
  {
   "cell_type": "markdown",
   "id": "1427660c-558f-4abd-b28d-fea42f5aa4cf",
   "metadata": {},
   "source": [
    "<h2>Insight#11</h2>\n",
    "<h3>Serious accidents are much fewer.\n",
    "\n",
    "70,540 serious accidents were recorded, showing that while still significant, they occur far less often than slight ones.</h3>"
   ]
  },
  {
   "cell_type": "markdown",
   "id": "d3938df7-1c07-43c3-b671-cf52c81f7427",
   "metadata": {},
   "source": [
    "<h2>Insight#12</h2>\n",
    "<h3>Fatal accidents are rare.\n",
    "\n",
    "With only 6,560 fatal cases, they make up the smallest share of all accidents on single carriageways, showing that while these roads are prone to frequent accidents, fatalities remain comparatively rare.</h3>"
   ]
  },
  {
   "cell_type": "markdown",
   "id": "1a50f920-e6c0-43b3-a859-7a763c22d5df",
   "metadata": {},
   "source": [
    "<h2>13. Correlation between casualties and vehicles</h2>"
   ]
  },
  {
   "cell_type": "code",
   "execution_count": 16,
   "id": "4b59532d-8699-4aa0-8b30-5eaa78784a95",
   "metadata": {},
   "outputs": [],
   "source": [
    "corr_casualties_vehicle = road['Number_of_Casualties'].corr(road['Number_of_Vehicles'])\n",
    "\n"
   ]
  },
  {
   "cell_type": "code",
   "execution_count": 17,
   "id": "d790d895-fbb9-489a-a2b4-caa7f24eac5f",
   "metadata": {},
   "outputs": [
    {
     "data": {
      "text/plain": [
       "np.float64(0.22888886126927627)"
      ]
     },
     "execution_count": 17,
     "metadata": {},
     "output_type": "execute_result"
    }
   ],
   "source": [
    "corr_casualties_vehicle"
   ]
  },
  {
   "cell_type": "markdown",
   "id": "3a74e101-3c82-4d11-830b-8a557a00bf5a",
   "metadata": {},
   "source": [
    "<h2>Insight#13</h2>\n",
    "\n",
    "<h3>The correlation between number of casualties and number of vehicles involved is about 0.23, meaning that as the number of vehicles in an accident increases, the number of casualties also tends to rise.</h3>"
   ]
  },
  {
   "cell_type": "markdown",
   "id": "b79fcd37-cbdd-4ef1-b6f9-889c76022ac4",
   "metadata": {},
   "source": [
    "<h2>14-15. What road type is the most and less involved accident?</h2>"
   ]
  },
  {
   "cell_type": "code",
   "execution_count": 18,
   "id": "1a2c41a3-aa30-4bfc-b16b-abe875b296c5",
   "metadata": {},
   "outputs": [
    {
     "data": {
      "text/plain": [
       "Road_Type\n",
       "Single carriageway    496663\n",
       "Dual carriageway       99424\n",
       "Roundabout             43992\n",
       "One way street         13559\n",
       "Slip road               7041\n",
       "Name: count, dtype: int64"
      ]
     },
     "execution_count": 18,
     "metadata": {},
     "output_type": "execute_result"
    }
   ],
   "source": [
    "road['Road_Type'].value_counts()"
   ]
  },
  {
   "cell_type": "markdown",
   "id": "39ba5b3f-9453-4abd-8c0a-7835cf30534a",
   "metadata": {},
   "source": [
    "<h2>Insight#14</h2>\n",
    "<h3>Single carriageways has most accidents.\n",
    "\n",
    "With 496,663 cases, single carriageways account for the majority of accidents, far exceeding other road types. This suggests they may be more dangerous due to factors like narrower lanes, opposing traffic, or lack of separation barriers.</h3>"
   ]
  },
  {
   "cell_type": "markdown",
   "id": "051c1edf-4bb6-4868-b78a-5fb8dbdaa2f1",
   "metadata": {},
   "source": [
    "<h2>Insight#15</h2>\n",
    "<h3>Slip roads show fewer accidents.\n",
    "\n",
    "Slip roads (7,041) have significantly fewer accidents, possibly due to slower speeds and controlled traffic flow.</h3>"
   ]
  },
  {
   "cell_type": "code",
   "execution_count": 19,
   "id": "f04311dc-d5dc-4771-a7e3-73f77d1ff7b8",
   "metadata": {},
   "outputs": [],
   "source": [
    "road['Accident Date'] = pd.to_datetime(road['Accident Date'],dayfirst=True, errors='coerce')"
   ]
  },
  {
   "cell_type": "code",
   "execution_count": 20,
   "id": "28e77148-d750-43b2-a22d-d69e99dc3a67",
   "metadata": {},
   "outputs": [],
   "source": [
    "#Create Column for Month,Day, Year\n",
    "\n",
    "road['Year'] = road['Accident Date'].dt.year\n",
    "road['Day'] = road['Accident Date'].dt.day\n",
    "road['Day_Name'] = road['Accident Date'].dt.day_name()\n",
    "road['Day_of_Week'] = road['Accident Date'].dt.dayofweek\n",
    "road['Month'] = road['Accident Date'].dt.month\n"
   ]
  },
  {
   "cell_type": "code",
   "execution_count": 21,
   "id": "81c47708-5615-4999-92a9-c240f83bf7ba",
   "metadata": {},
   "outputs": [],
   "source": [
    "road[\"Accident Date\"] =  road[\"Accident Date\"].fillna(road[\"Accident Date\"] .mode()[0])\n",
    "road['Month'] =  road['Month'].fillna(road['Month'] .mode()[0])\n",
    "road['Year'] =  road['Year'].fillna(road['Year'] .mode()[0])\n",
    "road['Day'] =  road['Day'].fillna(road['Day'] .mode()[0])\n",
    "road['Day_Name'] =  road['Day'].fillna(road['Day_Name'] .mode()[0])\n",
    "road['Day_of_Week'] =  road['Day_of_Week'].fillna(road['Day_of_Week'] .mode()[0])\n",
    "road['Month'] = road['Month'].astype('category') "
   ]
  },
  {
   "cell_type": "markdown",
   "id": "20d4445b-be9c-492b-9d0c-6458e8be519e",
   "metadata": {},
   "source": [
    "<h2>16-18. In which month does accident happen the most per detrict area?</h2>"
   ]
  },
  {
   "cell_type": "code",
   "execution_count": 22,
   "id": "a111210b-6a6b-4471-a253-d1d0f485d817",
   "metadata": {},
   "outputs": [
    {
     "data": {
      "text/html": [
       "<div>\n",
       "<style scoped>\n",
       "    .dataframe tbody tr th:only-of-type {\n",
       "        vertical-align: middle;\n",
       "    }\n",
       "\n",
       "    .dataframe tbody tr th {\n",
       "        vertical-align: top;\n",
       "    }\n",
       "\n",
       "    .dataframe thead th {\n",
       "        text-align: right;\n",
       "    }\n",
       "</style>\n",
       "<table border=\"1\" class=\"dataframe\">\n",
       "  <thead>\n",
       "    <tr style=\"text-align: right;\">\n",
       "      <th>Month</th>\n",
       "      <th>1.0</th>\n",
       "      <th>2.0</th>\n",
       "      <th>3.0</th>\n",
       "      <th>4.0</th>\n",
       "      <th>5.0</th>\n",
       "      <th>6.0</th>\n",
       "      <th>7.0</th>\n",
       "      <th>8.0</th>\n",
       "      <th>9.0</th>\n",
       "      <th>10.0</th>\n",
       "      <th>11.0</th>\n",
       "      <th>12.0</th>\n",
       "    </tr>\n",
       "    <tr>\n",
       "      <th>District Area</th>\n",
       "      <th></th>\n",
       "      <th></th>\n",
       "      <th></th>\n",
       "      <th></th>\n",
       "      <th></th>\n",
       "      <th></th>\n",
       "      <th></th>\n",
       "      <th></th>\n",
       "      <th></th>\n",
       "      <th></th>\n",
       "      <th></th>\n",
       "      <th></th>\n",
       "    </tr>\n",
       "  </thead>\n",
       "  <tbody>\n",
       "    <tr>\n",
       "      <th>Aberdeen City</th>\n",
       "      <td>27</td>\n",
       "      <td>56</td>\n",
       "      <td>50</td>\n",
       "      <td>43</td>\n",
       "      <td>53</td>\n",
       "      <td>45</td>\n",
       "      <td>41</td>\n",
       "      <td>43</td>\n",
       "      <td>36</td>\n",
       "      <td>47</td>\n",
       "      <td>826</td>\n",
       "      <td>56</td>\n",
       "    </tr>\n",
       "    <tr>\n",
       "      <th>Aberdeenshire</th>\n",
       "      <td>49</td>\n",
       "      <td>55</td>\n",
       "      <td>66</td>\n",
       "      <td>53</td>\n",
       "      <td>52</td>\n",
       "      <td>69</td>\n",
       "      <td>61</td>\n",
       "      <td>76</td>\n",
       "      <td>64</td>\n",
       "      <td>68</td>\n",
       "      <td>1238</td>\n",
       "      <td>79</td>\n",
       "    </tr>\n",
       "    <tr>\n",
       "      <th>Adur</th>\n",
       "      <td>19</td>\n",
       "      <td>20</td>\n",
       "      <td>27</td>\n",
       "      <td>27</td>\n",
       "      <td>26</td>\n",
       "      <td>17</td>\n",
       "      <td>26</td>\n",
       "      <td>23</td>\n",
       "      <td>18</td>\n",
       "      <td>23</td>\n",
       "      <td>379</td>\n",
       "      <td>14</td>\n",
       "    </tr>\n",
       "    <tr>\n",
       "      <th>Allerdale</th>\n",
       "      <td>26</td>\n",
       "      <td>41</td>\n",
       "      <td>33</td>\n",
       "      <td>29</td>\n",
       "      <td>40</td>\n",
       "      <td>38</td>\n",
       "      <td>34</td>\n",
       "      <td>33</td>\n",
       "      <td>40</td>\n",
       "      <td>51</td>\n",
       "      <td>721</td>\n",
       "      <td>42</td>\n",
       "    </tr>\n",
       "    <tr>\n",
       "      <th>Alnwick</th>\n",
       "      <td>7</td>\n",
       "      <td>15</td>\n",
       "      <td>6</td>\n",
       "      <td>7</td>\n",
       "      <td>6</td>\n",
       "      <td>7</td>\n",
       "      <td>9</td>\n",
       "      <td>12</td>\n",
       "      <td>7</td>\n",
       "      <td>12</td>\n",
       "      <td>135</td>\n",
       "      <td>9</td>\n",
       "    </tr>\n",
       "    <tr>\n",
       "      <th>Amber Valley</th>\n",
       "      <td>45</td>\n",
       "      <td>41</td>\n",
       "      <td>46</td>\n",
       "      <td>31</td>\n",
       "      <td>36</td>\n",
       "      <td>46</td>\n",
       "      <td>48</td>\n",
       "      <td>47</td>\n",
       "      <td>46</td>\n",
       "      <td>44</td>\n",
       "      <td>866</td>\n",
       "      <td>51</td>\n",
       "    </tr>\n",
       "    <tr>\n",
       "      <th>Angus</th>\n",
       "      <td>20</td>\n",
       "      <td>42</td>\n",
       "      <td>24</td>\n",
       "      <td>16</td>\n",
       "      <td>26</td>\n",
       "      <td>25</td>\n",
       "      <td>27</td>\n",
       "      <td>21</td>\n",
       "      <td>35</td>\n",
       "      <td>30</td>\n",
       "      <td>505</td>\n",
       "      <td>25</td>\n",
       "    </tr>\n",
       "    <tr>\n",
       "      <th>Argyll and Bute</th>\n",
       "      <td>14</td>\n",
       "      <td>29</td>\n",
       "      <td>20</td>\n",
       "      <td>29</td>\n",
       "      <td>30</td>\n",
       "      <td>29</td>\n",
       "      <td>35</td>\n",
       "      <td>35</td>\n",
       "      <td>40</td>\n",
       "      <td>28</td>\n",
       "      <td>520</td>\n",
       "      <td>27</td>\n",
       "    </tr>\n",
       "    <tr>\n",
       "      <th>Arun</th>\n",
       "      <td>34</td>\n",
       "      <td>45</td>\n",
       "      <td>46</td>\n",
       "      <td>41</td>\n",
       "      <td>55</td>\n",
       "      <td>44</td>\n",
       "      <td>55</td>\n",
       "      <td>31</td>\n",
       "      <td>50</td>\n",
       "      <td>51</td>\n",
       "      <td>876</td>\n",
       "      <td>48</td>\n",
       "    </tr>\n",
       "    <tr>\n",
       "      <th>Ashfield</th>\n",
       "      <td>42</td>\n",
       "      <td>54</td>\n",
       "      <td>44</td>\n",
       "      <td>42</td>\n",
       "      <td>42</td>\n",
       "      <td>47</td>\n",
       "      <td>48</td>\n",
       "      <td>39</td>\n",
       "      <td>33</td>\n",
       "      <td>41</td>\n",
       "      <td>911</td>\n",
       "      <td>52</td>\n",
       "    </tr>\n",
       "    <tr>\n",
       "      <th>Ashford</th>\n",
       "      <td>38</td>\n",
       "      <td>64</td>\n",
       "      <td>52</td>\n",
       "      <td>58</td>\n",
       "      <td>50</td>\n",
       "      <td>58</td>\n",
       "      <td>70</td>\n",
       "      <td>48</td>\n",
       "      <td>63</td>\n",
       "      <td>49</td>\n",
       "      <td>1098</td>\n",
       "      <td>57</td>\n",
       "    </tr>\n",
       "    <tr>\n",
       "      <th>Aylesbury Vale</th>\n",
       "      <td>52</td>\n",
       "      <td>67</td>\n",
       "      <td>58</td>\n",
       "      <td>54</td>\n",
       "      <td>56</td>\n",
       "      <td>55</td>\n",
       "      <td>61</td>\n",
       "      <td>56</td>\n",
       "      <td>53</td>\n",
       "      <td>59</td>\n",
       "      <td>1179</td>\n",
       "      <td>87</td>\n",
       "    </tr>\n",
       "  </tbody>\n",
       "</table>\n",
       "</div>"
      ],
      "text/plain": [
       "Month            1.0  2.0  3.0  4.0  5.0  6.0  7.0  8.0  9.0  10.0  11.0  12.0\n",
       "District Area                                                                 \n",
       "Aberdeen City     27   56   50   43   53   45   41   43   36    47   826    56\n",
       "Aberdeenshire     49   55   66   53   52   69   61   76   64    68  1238    79\n",
       "Adur              19   20   27   27   26   17   26   23   18    23   379    14\n",
       "Allerdale         26   41   33   29   40   38   34   33   40    51   721    42\n",
       "Alnwick            7   15    6    7    6    7    9   12    7    12   135     9\n",
       "Amber Valley      45   41   46   31   36   46   48   47   46    44   866    51\n",
       "Angus             20   42   24   16   26   25   27   21   35    30   505    25\n",
       "Argyll and Bute   14   29   20   29   30   29   35   35   40    28   520    27\n",
       "Arun              34   45   46   41   55   44   55   31   50    51   876    48\n",
       "Ashfield          42   54   44   42   42   47   48   39   33    41   911    52\n",
       "Ashford           38   64   52   58   50   58   70   48   63    49  1098    57\n",
       "Aylesbury Vale    52   67   58   54   56   55   61   56   53    59  1179    87"
      ]
     },
     "execution_count": 22,
     "metadata": {},
     "output_type": "execute_result"
    }
   ],
   "source": [
    "month_acc = road.groupby(['District Area','Month'])['Number_of_Casualties'].size().unstack()\n",
    "month_acc.head(12)"
   ]
  },
  {
   "cell_type": "markdown",
   "id": "cac3f9f7-1cae-47e3-8b82-8b7835e5b2ae",
   "metadata": {},
   "source": [
    "<h2>Insight#16 </h2>\n",
    "<h3>Seasonal Pattern in Accidents.\n",
    "\n",
    "Many districts (Aberdeenshire and Aylesbury Vale) show higher accident counts in December compared to earlier months, suggesting that winter months may have more accidents due to weather conditions like snow, ice, or reduced daylight.</h3>"
   ]
  },
  {
   "cell_type": "markdown",
   "id": "360b7ceb-51b0-4527-8b42-bd638362bfbd",
   "metadata": {},
   "source": [
    "<h2>Insight#17</h2>\n",
    "<h3>District Variation.\n",
    "\n",
    "Accident frequencies differ by district. For example, Aberdeenshire records consistently higher accident counts across all months (ranging from ~49 to 79), while smaller districts like Adur have much lower counts (14–27). This shows that both population density and road activity strongly influence accident numbers.</h3>"
   ]
  },
  {
   "cell_type": "markdown",
   "id": "330addc7-069e-437d-a63f-a4ccebd992fc",
   "metadata": {},
   "source": [
    "<h2>Insight#18</h2>\n",
    "<h3>Mid-Year Stability vs. End-Year Spike.\n",
    "\n",
    "Several districts (Amber Valley, Ashford) show relatively stable accident numbers from April to August, followed by noticeable increases in November–December. This pattern suggests that accident rates are more stable in mid-year months but rise toward year-end.</h3>"
   ]
  },
  {
   "cell_type": "markdown",
   "id": "ce4b7437-6c75-4da7-8088-fefd75998c20",
   "metadata": {},
   "source": [
    "<h2>19-20. In what day of the week record the highest and lowest number of road acccidents?</h2>"
   ]
  },
  {
   "cell_type": "code",
   "execution_count": 23,
   "id": "98b127f8-2cbc-46b8-af69-02b0d19ebaee",
   "metadata": {},
   "outputs": [
    {
     "data": {
      "text/plain": [
       "Day_of_Week\n",
       "5.0    438836\n",
       "2.0     40037\n",
       "4.0     39822\n",
       "3.0     39641\n",
       "1.0     38714\n",
       "6.0     35065\n",
       "0.0     28564\n",
       "Name: count, dtype: int64"
      ]
     },
     "execution_count": 23,
     "metadata": {},
     "output_type": "execute_result"
    }
   ],
   "source": [
    "day_weeks = road['Day_of_Week'].value_counts()\n",
    "day_weeks"
   ]
  },
  {
   "cell_type": "markdown",
   "id": "a011488c-8351-4ecf-9c11-d7a2efbbbb8f",
   "metadata": {},
   "source": [
    "<h2>Insight#19</h2>\n",
    "<h3>Friday has the highest accidents.\n",
    "\n",
    "Day 5 (Friday) recorded 43,836 accidents, the most among all days. This likely reflects increased traffic from commuters heading into the weekend and higher evening social activity.</h3>"
   ]
  },
  {
   "cell_type": "markdown",
   "id": "3810acfd-406c-490a-838e-d05e6d0c4616",
   "metadata": {},
   "source": [
    "<h2>Insight#20</h2>\n",
    "<h3>Sunday has the lowest accidents.\n",
    "\n",
    "Day 0 (Sunday) recorded only 28,564 accidents, the fewest. This suggests lighter traffic volumes on Sundays reduce the likelihood of accidents compared to weekdays.</h3>"
   ]
  },
  {
   "cell_type": "markdown",
   "id": "1a43488a-d61c-4e8f-8ac2-6bebebc3cc30",
   "metadata": {},
   "source": [
    "<h2>21-22. Which light condition records the highest number of accidents?</h2>"
   ]
  },
  {
   "cell_type": "code",
   "execution_count": 24,
   "id": "7d2575cf-1aff-4a25-bb9e-c7745fbb2208",
   "metadata": {},
   "outputs": [
    {
     "data": {
      "text/plain": [
       "Light_Conditions\n",
       "Daylight                       484880\n",
       "Darkness - lights lit          129335\n",
       "Darkness - no lighting          37437\n",
       "Darkness - lighting unknown      6484\n",
       "Darkness - lights unlit          2543\n",
       "Name: count, dtype: int64"
      ]
     },
     "execution_count": 24,
     "metadata": {},
     "output_type": "execute_result"
    }
   ],
   "source": [
    "light_accidents = road['Light_Conditions'].value_counts()\n",
    "light_accidents\n"
   ]
  },
  {
   "cell_type": "code",
   "execution_count": 25,
   "id": "fe396dfe-c859-40d2-9c4e-fcc2a15770b8",
   "metadata": {},
   "outputs": [],
   "source": [
    "import matplotlib.pyplot as plt"
   ]
  },
  {
   "cell_type": "code",
   "execution_count": 26,
   "id": "420cc1cc-08ba-493f-ab45-d5957c45f5a3",
   "metadata": {},
   "outputs": [
    {
     "data": {
      "image/png": "[encoded data removed]",
      "text/plain": [
       "<Figure size 800x500 with 1 Axes>"
      ]
     },
     "metadata": {},
     "output_type": "display_data"
    }
   ],
   "source": [
    "light_accidents.plot(kind='bar', color='skyblue', figsize=(8,5))\n",
    "plt.title(\"Number of Accidents by Light Condition\")\n",
    "plt.xlabel(\"Light Condition\")\n",
    "plt.ylabel(\"Number of Accidents\")\n",
    "plt.xticks(rotation=90)\n",
    "plt.show()"
   ]
  },
  {
   "cell_type": "markdown",
   "id": "3b77f20f-be79-41a6-8592-2dbdfa823858",
   "metadata": {},
   "source": [
    "<h2>Insight#21</h2>\n",
    "<h3>Daylight conditions account for the highest number of accidents, which is expected since most vehicles are on the road during daytime.</h3>"
   ]
  },
  {
   "cell_type": "markdown",
   "id": "7912d4b9-9089-4256-9e47-b14af43a9fad",
   "metadata": {},
   "source": [
    "<h2>Insight#22</h2>\n",
    "<h3>Darkness without street lights has the fewest accidents, likely because drivers avoid unlit areas at night.</h3>"
   ]
  },
  {
   "cell_type": "markdown",
   "id": "772557f6-25f1-4790-8ccd-1300e18be1e8",
   "metadata": {},
   "source": [
    "<h2>23-24. How does road surface condition affect accidents?</h2>"
   ]
  },
  {
   "cell_type": "code",
   "execution_count": 41,
   "id": "a252c5c6-8753-4de2-b8c7-98453336bedb",
   "metadata": {},
   "outputs": [
    {
     "data": {
      "text/plain": [
       "Urban_or_Rural_Area\n",
       "Urban          421678\n",
       "Rural          238990\n",
       "Unallocated        11\n",
       "Name: count, dtype: int64"
      ]
     },
     "execution_count": 41,
     "metadata": {},
     "output_type": "execute_result"
    }
   ],
   "source": [
    "# Count accidents by Urban or Rural\n",
    "urban_rural = road['Urban_or_Rural_Area'].value_counts()\n",
    "urban_rural\n",
    "\n"
   ]
  },
  {
   "cell_type": "code",
   "execution_count": 51,
   "id": "1290716d-faf1-4ff0-aa04-fce997de3174",
   "metadata": {},
   "outputs": [
    {
     "data": {
      "image/png": "[encoded data removed]",
      "text/plain": [
       "<Figure size 600x600 with 1 Axes>"
      ]
     },
     "metadata": {},
     "output_type": "display_data"
    }
   ],
   "source": [
    "\n",
    "urban_rural = road['Urban_or_Rural_Area'].value_counts()\n",
    "urban_rural = urban_rural[urban_rural.index != 'Unallocated']  # remove Unallocated\n",
    "\n",
    "\n",
    "urban_rural.plot(\n",
    "    kind='pie', \n",
    "    autopct='%1.1f%%', \n",
    "    figsize=(6,6), \n",
    "    startangle=90, \n",
    "    colors=['skyblue','orange']\n",
    ")\n",
    "plt.title(\"Urban vs Rural Accidents\")\n",
    "plt.ylabel(\"\")\n",
    "plt.show()\n",
    "\n"
   ]
  },
  {
   "cell_type": "markdown",
   "id": "11c570a5-853a-4993-aa74-e3ac4d141384",
   "metadata": {},
   "source": [
    "<h2>Insight#23:\n",
    "Urban areas account for the majority of accidents (63.8%), showing that higher traffic density and congestion contribute to more frequent collisions.</h2>"
   ]
  },
  {
   "cell_type": "markdown",
   "id": "a4dd2b54-d13d-497c-beaf-12fc05d26e37",
   "metadata": {},
   "source": [
    "<h2>Insight#24:  Rural areas still represent a significant 36.2%, indicating that despite lower traffic volumes, factors like higher speeds and less roadside infrastructure increase accident risks.</h2>"
   ]
  },
  {
   "cell_type": "markdown",
   "id": "83bd8d83-4dd6-4539-9728-9f7fd3bdd6ef",
   "metadata": {},
   "source": [
    "<h2>25-26. How does the number of vehicles involved affect the number of casualties?</h2>"
   ]
  },
  {
   "cell_type": "code",
   "execution_count": 61,
   "id": "b471ec33-f1f4-46b1-b08b-ceaea7b05c13",
   "metadata": {},
   "outputs": [
    {
     "data": {
      "text/plain": [
       "Number_of_Vehicles\n",
       "1      1.170932\n",
       "2      1.374880\n",
       "3      1.711169\n",
       "4      1.995575\n",
       "5      2.315341\n",
       "6      2.612137\n",
       "7      3.064189\n",
       "8      3.401361\n",
       "9      3.350877\n",
       "10     3.629630\n",
       "11     4.000000\n",
       "12     2.285714\n",
       "13     7.833333\n",
       "14     5.444444\n",
       "15     5.000000\n",
       "16     6.000000\n",
       "19    13.000000\n",
       "28    16.000000\n",
       "32     5.000000\n",
       "Name: Number_of_Casualties, dtype: float64"
      ]
     },
     "execution_count": 61,
     "metadata": {},
     "output_type": "execute_result"
    }
   ],
   "source": [
    "vehicles_casualties = road.groupby('Number_of_Vehicles')['Number_of_Casualties'].mean()\n",
    "vehicles_casualties\n"
   ]
  },
  {
   "cell_type": "code",
   "execution_count": 63,
   "id": "5a7feb50-45ef-45bd-a2ac-9584be13f67c",
   "metadata": {},
   "outputs": [
    {
     "data": {
      "image/png": "[encoded data removed]",
      "text/plain": [
       "<Figure size 700x500 with 1 Axes>"
      ]
     },
     "metadata": {},
     "output_type": "display_data"
    }
   ],
   "source": [
    "plt.figure(figsize=(7,5))\n",
    "vehicles_casualties.plot(kind='line', marker='o', color='teal')\n",
    "\n",
    "plt.title(\"Average Casualties vs Vehicles Involved\")\n",
    "plt.xlabel(\"Number of Vehicles Involved\")\n",
    "plt.ylabel(\"Average Number of Casualties\")\n",
    "plt.grid(True, linestyle=\"--\", alpha=0.6)\n",
    "plt.show()\n"
   ]
  },
  {
   "cell_type": "markdown",
   "id": "d366c20b-7ffa-49e0-be6a-a90b074ded15",
   "metadata": {},
   "source": [
    "<h2>Insight#25: Accidents with only one vehicle usually have fewer casualties, suggesting they are often single-driver incidents.</h2>"
   ]
  },
  {
   "cell_type": "markdown",
   "id": "53410945-73b7-4b88-a6e2-318598ff32d7",
   "metadata": {},
   "source": [
    "<h2>Insight#26: As more vehicles are involved, the average number of casualties increases, showing that multi-vehicle accidents tend to be more severe.</h2>"
   ]
  },
  {
   "cell_type": "code",
   "execution_count": null,
   "id": "c785ef21-62f4-478d-878d-e132e5ca8043",
   "metadata": {},
   "outputs": [],
   "source": []
  }
 ],
 "metadata": {
  "kernelspec": {
   "display_name": "Python 3 (ipykernel)",
   "language": "python",
   "name": "python3"
  },
  "language_info": {
   "codemirror_mode": {
    "name": "ipython",
    "version": 3
   },
   "file_extension": ".py",
   "mimetype": "text/x-python",
   "name": "python",
   "nbconvert_exporter": "python",
   "pygments_lexer": "ipython3",
   "version": "3.13.0"
  }
 },
 "nbformat": 4,
 "nbformat_minor": 5
}
